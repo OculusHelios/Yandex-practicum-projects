{
 "cells": [
  {
   "cell_type": "code",
   "execution_count": null,
   "metadata": {
    "colab": {
     "base_uri": "https://localhost:8080/"
    },
    "id": "Cj6OD0D1Qwov",
    "outputId": "f4ff250f-a4a3-4882-91b6-0ffe38a6870b"
   },
   "outputs": [],
   "source": [
    "from google.colab import drive\n",
    "drive.mount('/content/drive')"
   ]
  },
  {
   "cell_type": "code",
   "execution_count": null,
   "metadata": {
    "id": "kWL1fXzpRmjU"
   },
   "outputs": [],
   "source": [
    "!pip install --quiet optuna"
   ]
  },
  {
   "cell_type": "code",
   "execution_count": 5,
   "metadata": {
    "id": "iRkbTLQXPyp8"
   },
   "outputs": [],
   "source": [
    "import numpy as np\n",
    "import pandas as pd\n",
    "from statsmodels.stats.outliers_influence import variance_inflation_factor\n",
    "from sklearn.model_selection import train_test_split\n",
    "from sklearn.preprocessing import StandardScaler\n",
    "from sklearn.metrics import mean_absolute_percentage_error\n",
    "import xgboost\n",
    "import optuna\n",
    "\n",
    "import warnings\n",
    "warnings.filterwarnings(\"ignore\")"
   ]
  },
  {
   "cell_type": "code",
   "execution_count": 7,
   "metadata": {
    "id": "QmOoC-jyQHrV"
   },
   "outputs": [],
   "source": [
    "train = pd.read_csv('/content/drive/MyDrive/Colab Notebooks/train.csv')\n",
    "test = pd.read_csv('/content/drive/MyDrive/Colab Notebooks/test.csv')"
   ]
  },
  {
   "cell_type": "code",
   "execution_count": 8,
   "metadata": {
    "colab": {
     "base_uri": "https://localhost:8080/",
     "height": 424
    },
    "id": "LBluJV-QTPyO",
    "outputId": "0ed26851-b023-469c-91ea-8c28ce887057"
   },
   "outputs": [
    {
     "data": {
      "text/html": [
       "<div>\n",
       "<style scoped>\n",
       "    .dataframe tbody tr th:only-of-type {\n",
       "        vertical-align: middle;\n",
       "    }\n",
       "\n",
       "    .dataframe tbody tr th {\n",
       "        vertical-align: top;\n",
       "    }\n",
       "\n",
       "    .dataframe thead th {\n",
       "        text-align: right;\n",
       "    }\n",
       "</style>\n",
       "<table border=\"1\" class=\"dataframe\">\n",
       "  <thead>\n",
       "    <tr style=\"text-align: right;\">\n",
       "      <th></th>\n",
       "      <th>year</th>\n",
       "      <th>make</th>\n",
       "      <th>model</th>\n",
       "      <th>trim</th>\n",
       "      <th>body</th>\n",
       "      <th>transmission</th>\n",
       "      <th>vin</th>\n",
       "      <th>state</th>\n",
       "      <th>condition</th>\n",
       "      <th>odometer</th>\n",
       "      <th>color</th>\n",
       "      <th>interior</th>\n",
       "      <th>seller</th>\n",
       "      <th>sellingprice</th>\n",
       "      <th>saledate</th>\n",
       "    </tr>\n",
       "  </thead>\n",
       "  <tbody>\n",
       "    <tr>\n",
       "      <th>0</th>\n",
       "      <td>2011</td>\n",
       "      <td>Ford</td>\n",
       "      <td>Edge</td>\n",
       "      <td>SEL</td>\n",
       "      <td>suv</td>\n",
       "      <td>automatic</td>\n",
       "      <td>2fmdk3jc4bba41556</td>\n",
       "      <td>md</td>\n",
       "      <td>4.2</td>\n",
       "      <td>111041.0</td>\n",
       "      <td>black</td>\n",
       "      <td>black</td>\n",
       "      <td>santander consumer</td>\n",
       "      <td>12500</td>\n",
       "      <td>Tue Jun 02 2015 02:30:00 GMT-0700 (PDT)</td>\n",
       "    </tr>\n",
       "    <tr>\n",
       "      <th>1</th>\n",
       "      <td>2014</td>\n",
       "      <td>Ford</td>\n",
       "      <td>Fusion</td>\n",
       "      <td>SE</td>\n",
       "      <td>Sedan</td>\n",
       "      <td>automatic</td>\n",
       "      <td>3fa6p0h75er208976</td>\n",
       "      <td>mo</td>\n",
       "      <td>3.5</td>\n",
       "      <td>31034.0</td>\n",
       "      <td>black</td>\n",
       "      <td>black</td>\n",
       "      <td>ars/avis budget group</td>\n",
       "      <td>14500</td>\n",
       "      <td>Wed Feb 25 2015 02:00:00 GMT-0800 (PST)</td>\n",
       "    </tr>\n",
       "    <tr>\n",
       "      <th>2</th>\n",
       "      <td>2012</td>\n",
       "      <td>Nissan</td>\n",
       "      <td>Sentra</td>\n",
       "      <td>2.0 SL</td>\n",
       "      <td>sedan</td>\n",
       "      <td>automatic</td>\n",
       "      <td>3n1ab6ap4cl698412</td>\n",
       "      <td>nj</td>\n",
       "      <td>2.2</td>\n",
       "      <td>35619.0</td>\n",
       "      <td>black</td>\n",
       "      <td>black</td>\n",
       "      <td>nissan-infiniti lt</td>\n",
       "      <td>9100</td>\n",
       "      <td>Wed Jun 10 2015 02:30:00 GMT-0700 (PDT)</td>\n",
       "    </tr>\n",
       "    <tr>\n",
       "      <th>3</th>\n",
       "      <td>2003</td>\n",
       "      <td>HUMMER</td>\n",
       "      <td>H2</td>\n",
       "      <td>Base</td>\n",
       "      <td>suv</td>\n",
       "      <td>automatic</td>\n",
       "      <td>5grgn23u93h101360</td>\n",
       "      <td>tx</td>\n",
       "      <td>2.8</td>\n",
       "      <td>131301.0</td>\n",
       "      <td>gold</td>\n",
       "      <td>beige</td>\n",
       "      <td>wichita falls ford lin inc</td>\n",
       "      <td>13300</td>\n",
       "      <td>Wed Jun 17 2015 03:00:00 GMT-0700 (PDT)</td>\n",
       "    </tr>\n",
       "    <tr>\n",
       "      <th>4</th>\n",
       "      <td>2007</td>\n",
       "      <td>Ford</td>\n",
       "      <td>Fusion</td>\n",
       "      <td>SEL</td>\n",
       "      <td>Sedan</td>\n",
       "      <td>automatic</td>\n",
       "      <td>3fahp08z17r268380</td>\n",
       "      <td>md</td>\n",
       "      <td>2.0</td>\n",
       "      <td>127709.0</td>\n",
       "      <td>black</td>\n",
       "      <td>black</td>\n",
       "      <td>purple heart</td>\n",
       "      <td>1300</td>\n",
       "      <td>Tue Feb 03 2015 04:00:00 GMT-0800 (PST)</td>\n",
       "    </tr>\n",
       "  </tbody>\n",
       "</table>\n",
       "</div>"
      ],
      "text/plain": [
       "   year    make   model    trim   body transmission                vin state   \n",
       "0  2011    Ford    Edge     SEL    suv    automatic  2fmdk3jc4bba41556    md  \\\n",
       "1  2014    Ford  Fusion      SE  Sedan    automatic  3fa6p0h75er208976    mo   \n",
       "2  2012  Nissan  Sentra  2.0 SL  sedan    automatic  3n1ab6ap4cl698412    nj   \n",
       "3  2003  HUMMER      H2    Base    suv    automatic  5grgn23u93h101360    tx   \n",
       "4  2007    Ford  Fusion     SEL  Sedan    automatic  3fahp08z17r268380    md   \n",
       "\n",
       "   condition  odometer  color interior                      seller   \n",
       "0        4.2  111041.0  black    black          santander consumer  \\\n",
       "1        3.5   31034.0  black    black       ars/avis budget group   \n",
       "2        2.2   35619.0  black    black          nissan-infiniti lt   \n",
       "3        2.8  131301.0   gold    beige  wichita falls ford lin inc   \n",
       "4        2.0  127709.0  black    black                purple heart   \n",
       "\n",
       "   sellingprice                                 saledate  \n",
       "0         12500  Tue Jun 02 2015 02:30:00 GMT-0700 (PDT)  \n",
       "1         14500  Wed Feb 25 2015 02:00:00 GMT-0800 (PST)  \n",
       "2          9100  Wed Jun 10 2015 02:30:00 GMT-0700 (PDT)  \n",
       "3         13300  Wed Jun 17 2015 03:00:00 GMT-0700 (PDT)  \n",
       "4          1300  Tue Feb 03 2015 04:00:00 GMT-0800 (PST)  "
      ]
     },
     "metadata": {},
     "output_type": "display_data"
    }
   ],
   "source": [
    "display(train.head())"
   ]
  },
  {
   "cell_type": "code",
   "execution_count": 9,
   "metadata": {
    "colab": {
     "base_uri": "https://localhost:8080/",
     "height": 424
    },
    "id": "PisRvFAgTrbU",
    "outputId": "679c6cfc-201c-49e9-db9a-cae96e0f51ca"
   },
   "outputs": [
    {
     "data": {
      "text/html": [
       "<div>\n",
       "<style scoped>\n",
       "    .dataframe tbody tr th:only-of-type {\n",
       "        vertical-align: middle;\n",
       "    }\n",
       "\n",
       "    .dataframe tbody tr th {\n",
       "        vertical-align: top;\n",
       "    }\n",
       "\n",
       "    .dataframe thead th {\n",
       "        text-align: right;\n",
       "    }\n",
       "</style>\n",
       "<table border=\"1\" class=\"dataframe\">\n",
       "  <thead>\n",
       "    <tr style=\"text-align: right;\">\n",
       "      <th></th>\n",
       "      <th>year</th>\n",
       "      <th>make</th>\n",
       "      <th>model</th>\n",
       "      <th>trim</th>\n",
       "      <th>body</th>\n",
       "      <th>transmission</th>\n",
       "      <th>vin</th>\n",
       "      <th>state</th>\n",
       "      <th>condition</th>\n",
       "      <th>odometer</th>\n",
       "      <th>color</th>\n",
       "      <th>interior</th>\n",
       "      <th>seller</th>\n",
       "      <th>saledate</th>\n",
       "    </tr>\n",
       "  </thead>\n",
       "  <tbody>\n",
       "    <tr>\n",
       "      <th>0</th>\n",
       "      <td>2005</td>\n",
       "      <td>Cadillac</td>\n",
       "      <td>CTS</td>\n",
       "      <td>Base</td>\n",
       "      <td>Sedan</td>\n",
       "      <td>automatic</td>\n",
       "      <td>1g6dp567450124779</td>\n",
       "      <td>ca</td>\n",
       "      <td>2.7</td>\n",
       "      <td>116970.0</td>\n",
       "      <td>silver</td>\n",
       "      <td>black</td>\n",
       "      <td>lexus of stevens creek</td>\n",
       "      <td>Wed Jan 14 2015 04:30:00 GMT-0800 (PST)</td>\n",
       "    </tr>\n",
       "    <tr>\n",
       "      <th>1</th>\n",
       "      <td>2014</td>\n",
       "      <td>GMC</td>\n",
       "      <td>Savana Cargo</td>\n",
       "      <td>2500</td>\n",
       "      <td>Van</td>\n",
       "      <td>NaN</td>\n",
       "      <td>1gtw7fca7e1902207</td>\n",
       "      <td>pa</td>\n",
       "      <td>4.4</td>\n",
       "      <td>6286.0</td>\n",
       "      <td>white</td>\n",
       "      <td>gray</td>\n",
       "      <td>u-haul</td>\n",
       "      <td>Fri Feb 27 2015 01:00:00 GMT-0800 (PST)</td>\n",
       "    </tr>\n",
       "    <tr>\n",
       "      <th>2</th>\n",
       "      <td>2013</td>\n",
       "      <td>Nissan</td>\n",
       "      <td>Murano</td>\n",
       "      <td>S</td>\n",
       "      <td>SUV</td>\n",
       "      <td>automatic</td>\n",
       "      <td>jn8az1mw6dw303497</td>\n",
       "      <td>oh</td>\n",
       "      <td>4.6</td>\n",
       "      <td>11831.0</td>\n",
       "      <td>gray</td>\n",
       "      <td>black</td>\n",
       "      <td>nissan-infiniti lt</td>\n",
       "      <td>Tue Feb 24 2015 01:30:00 GMT-0800 (PST)</td>\n",
       "    </tr>\n",
       "    <tr>\n",
       "      <th>3</th>\n",
       "      <td>2013</td>\n",
       "      <td>Chevrolet</td>\n",
       "      <td>Impala</td>\n",
       "      <td>LS Fleet</td>\n",
       "      <td>Sedan</td>\n",
       "      <td>automatic</td>\n",
       "      <td>2g1wf5e34d1160703</td>\n",
       "      <td>fl</td>\n",
       "      <td>2.3</td>\n",
       "      <td>57105.0</td>\n",
       "      <td>silver</td>\n",
       "      <td>black</td>\n",
       "      <td>onemain rem/auto club of miami inc dba north dad</td>\n",
       "      <td>Fri Mar 06 2015 02:00:00 GMT-0800 (PST)</td>\n",
       "    </tr>\n",
       "    <tr>\n",
       "      <th>4</th>\n",
       "      <td>2013</td>\n",
       "      <td>Nissan</td>\n",
       "      <td>Titan</td>\n",
       "      <td>SV</td>\n",
       "      <td>Crew Cab</td>\n",
       "      <td>automatic</td>\n",
       "      <td>1n6aa0ec3dn301209</td>\n",
       "      <td>tn</td>\n",
       "      <td>2.9</td>\n",
       "      <td>31083.0</td>\n",
       "      <td>black</td>\n",
       "      <td>black</td>\n",
       "      <td>nissan north america inc.</td>\n",
       "      <td>Wed Jun 03 2015 03:30:00 GMT-0700 (PDT)</td>\n",
       "    </tr>\n",
       "  </tbody>\n",
       "</table>\n",
       "</div>"
      ],
      "text/plain": [
       "   year       make         model      trim      body transmission   \n",
       "0  2005   Cadillac           CTS      Base     Sedan    automatic  \\\n",
       "1  2014        GMC  Savana Cargo      2500       Van          NaN   \n",
       "2  2013     Nissan        Murano         S       SUV    automatic   \n",
       "3  2013  Chevrolet        Impala  LS Fleet     Sedan    automatic   \n",
       "4  2013     Nissan         Titan        SV  Crew Cab    automatic   \n",
       "\n",
       "                 vin state  condition  odometer   color interior   \n",
       "0  1g6dp567450124779    ca        2.7  116970.0  silver    black  \\\n",
       "1  1gtw7fca7e1902207    pa        4.4    6286.0   white     gray   \n",
       "2  jn8az1mw6dw303497    oh        4.6   11831.0    gray    black   \n",
       "3  2g1wf5e34d1160703    fl        2.3   57105.0  silver    black   \n",
       "4  1n6aa0ec3dn301209    tn        2.9   31083.0   black    black   \n",
       "\n",
       "                                             seller   \n",
       "0                            lexus of stevens creek  \\\n",
       "1                                            u-haul   \n",
       "2                                nissan-infiniti lt   \n",
       "3  onemain rem/auto club of miami inc dba north dad   \n",
       "4                         nissan north america inc.   \n",
       "\n",
       "                                  saledate  \n",
       "0  Wed Jan 14 2015 04:30:00 GMT-0800 (PST)  \n",
       "1  Fri Feb 27 2015 01:00:00 GMT-0800 (PST)  \n",
       "2  Tue Feb 24 2015 01:30:00 GMT-0800 (PST)  \n",
       "3  Fri Mar 06 2015 02:00:00 GMT-0800 (PST)  \n",
       "4  Wed Jun 03 2015 03:30:00 GMT-0700 (PDT)  "
      ]
     },
     "execution_count": 9,
     "metadata": {},
     "output_type": "execute_result"
    }
   ],
   "source": [
    "test.head()"
   ]
  },
  {
   "cell_type": "markdown",
   "metadata": {
    "id": "IHwXS-YLU0UZ"
   },
   "source": [
    "## Предобработка"
   ]
  },
  {
   "cell_type": "markdown",
   "metadata": {
    "id": "8WMuxnJpV1nw"
   },
   "source": [
    "### train"
   ]
  },
  {
   "cell_type": "code",
   "execution_count": 10,
   "metadata": {
    "colab": {
     "base_uri": "https://localhost:8080/"
    },
    "id": "WNnr6CA_W_2g",
    "outputId": "84e13e34-7d0e-43fa-f53d-2c16d3d32380"
   },
   "outputs": [
    {
     "name": "stdout",
     "output_type": "stream",
     "text": [
      "<class 'pandas.core.frame.DataFrame'>\n",
      "RangeIndex: 440236 entries, 0 to 440235\n",
      "Data columns (total 15 columns):\n",
      " #   Column        Non-Null Count   Dtype  \n",
      "---  ------        --------------   -----  \n",
      " 0   year          440236 non-null  int64  \n",
      " 1   make          432193 non-null  object \n",
      " 2   model         432113 non-null  object \n",
      " 3   trim          431899 non-null  object \n",
      " 4   body          429843 non-null  object \n",
      " 5   transmission  388775 non-null  object \n",
      " 6   vin           440236 non-null  object \n",
      " 7   state         440236 non-null  object \n",
      " 8   condition     430831 non-null  float64\n",
      " 9   odometer      440167 non-null  float64\n",
      " 10  color         439650 non-null  object \n",
      " 11  interior      439650 non-null  object \n",
      " 12  seller        440236 non-null  object \n",
      " 13  sellingprice  440236 non-null  int64  \n",
      " 14  saledate      440236 non-null  object \n",
      "dtypes: float64(2), int64(2), object(11)\n",
      "memory usage: 50.4+ MB\n"
     ]
    }
   ],
   "source": [
    "train.info()"
   ]
  },
  {
   "cell_type": "code",
   "execution_count": 11,
   "metadata": {
    "colab": {
     "base_uri": "https://localhost:8080/"
    },
    "id": "cpvDKi5MXXkk",
    "outputId": "d7e0639b-a076-4492-9dbf-5011b8764f14"
   },
   "outputs": [
    {
     "data": {
      "text/plain": [
       "0"
      ]
     },
     "execution_count": 11,
     "metadata": {},
     "output_type": "execute_result"
    }
   ],
   "source": [
    "train.duplicated().sum()"
   ]
  },
  {
   "cell_type": "markdown",
   "metadata": {
    "id": "Q6SY0tPVT3vC"
   },
   "source": [
    "Явные дубликаты отсутствуют"
   ]
  },
  {
   "cell_type": "code",
   "execution_count": 12,
   "metadata": {
    "colab": {
     "base_uri": "https://localhost:8080/"
    },
    "id": "nmq7JeJjYU3n",
    "outputId": "312ddea5-520c-4958-aae8-384c6d2ad058"
   },
   "outputs": [
    {
     "data": {
      "text/plain": [
       "year                0\n",
       "make             8043\n",
       "model            8123\n",
       "trim             8337\n",
       "body            10393\n",
       "transmission    51461\n",
       "vin                 0\n",
       "state               0\n",
       "condition        9405\n",
       "odometer           69\n",
       "color             586\n",
       "interior          586\n",
       "seller              0\n",
       "sellingprice        0\n",
       "saledate            0\n",
       "dtype: int64"
      ]
     },
     "execution_count": 12,
     "metadata": {},
     "output_type": "execute_result"
    }
   ],
   "source": [
    "train.isna().sum()"
   ]
  },
  {
   "cell_type": "markdown",
   "metadata": {
    "id": "DPLpbRaTWajO"
   },
   "source": [
    "#### year"
   ]
  },
  {
   "cell_type": "code",
   "execution_count": null,
   "metadata": {
    "colab": {
     "base_uri": "https://localhost:8080/"
    },
    "id": "DM4pYjp7X8cI",
    "outputId": "90fe8315-a2df-4bc2-f733-c9881a7a8830"
   },
   "outputs": [
    {
     "data": {
      "text/plain": [
       "array([2011, 2014, 2012, 2003, 2007, 2013, 2010, 2000, 2005, 2006, 2004,\n",
       "       2008, 2009, 2015, 2002, 2001, 1999, 1998, 1996, 1997, 1994, 1995,\n",
       "       1993, 1989, 1991, 1988, 1987, 1990, 1992, 1985, 1986, 1983, 1984,\n",
       "       1982])"
      ]
     },
     "execution_count": 207,
     "metadata": {},
     "output_type": "execute_result"
    }
   ],
   "source": [
    "train['year'].unique()"
   ]
  },
  {
   "cell_type": "markdown",
   "metadata": {
    "id": "XhUXuQ0DYrPy"
   },
   "source": [
    "#### make"
   ]
  },
  {
   "cell_type": "code",
   "execution_count": null,
   "metadata": {
    "colab": {
     "base_uri": "https://localhost:8080/"
    },
    "id": "puD-7cZLYxC6",
    "outputId": "34a515f5-d911-4004-a0a3-b77d206605c5"
   },
   "outputs": [
    {
     "data": {
      "text/plain": [
       "array(['Acura', 'Aston Martin', 'Audi', 'BMW', 'Bentley', 'Buick',\n",
       "       'Cadillac', 'Chevrolet', 'Chrysler', 'Daewoo', 'Dodge', 'FIAT',\n",
       "       'Ferrari', 'Fisker', 'Ford', 'GMC', 'Geo', 'HUMMER', 'Honda',\n",
       "       'Hyundai', 'Infiniti', 'Isuzu', 'Jaguar', 'Jeep', 'Kia',\n",
       "       'Lamborghini', 'Land Rover', 'Lexus', 'Lincoln', 'MINI',\n",
       "       'Maserati', 'Mazda', 'Mercedes-Benz', 'Mercury', 'Mitsubishi',\n",
       "       'Nissan', 'Oldsmobile', 'Plymouth', 'Pontiac', 'Porsche', 'Ram',\n",
       "       'Rolls-Royce', 'Saab', 'Saturn', 'Scion', 'Subaru', 'Suzuki',\n",
       "       'Tesla', 'Toyota', 'Volkswagen', 'Volvo', 'acura', 'airstream',\n",
       "       'audi', 'bmw', 'buick', 'cadillac', 'chevrolet', 'chrysler',\n",
       "       'dodge', 'dodge tk', 'dot', 'ford', 'ford truck', 'gmc',\n",
       "       'gmc truck', 'honda', 'hyundai', 'jeep', 'kia', 'land rover',\n",
       "       'landrover', 'lexus', 'lincoln', 'maserati', 'mazda', 'mazda tk',\n",
       "       'mercedes', 'mercedes-b', 'mercury', 'mitsubishi', 'nissan',\n",
       "       'oldsmobile', 'plymouth', 'pontiac', 'porsche', 'smart', 'subaru',\n",
       "       'suzuki', 'toyota', 'volkswagen', 'vw', nan], dtype=object)"
      ]
     },
     "execution_count": 208,
     "metadata": {},
     "output_type": "execute_result"
    }
   ],
   "source": [
    "train['make'].sort_values().unique()"
   ]
  },
  {
   "cell_type": "code",
   "execution_count": null,
   "metadata": {
    "colab": {
     "base_uri": "https://localhost:8080/"
    },
    "id": "I7CoXOxRbymg",
    "outputId": "bc8eac76-97d7-4d8f-fe79-30b270fe9251"
   },
   "outputs": [
    {
     "data": {
      "text/plain": [
       "8043"
      ]
     },
     "execution_count": 209,
     "metadata": {},
     "output_type": "execute_result"
    }
   ],
   "source": [
    "train['make'].isna().sum()"
   ]
  },
  {
   "cell_type": "code",
   "execution_count": null,
   "metadata": {
    "id": "MAgmIWzCZkvm"
   },
   "outputs": [],
   "source": [
    "train = train.dropna(subset=['make'])"
   ]
  },
  {
   "cell_type": "code",
   "execution_count": null,
   "metadata": {
    "colab": {
     "base_uri": "https://localhost:8080/"
    },
    "id": "OL4VWhbydTK9",
    "outputId": "3d74192b-bac7-497b-fc75-132f0a8b9a53"
   },
   "outputs": [
    {
     "data": {
      "text/plain": [
       "0"
      ]
     },
     "execution_count": 211,
     "metadata": {},
     "output_type": "execute_result"
    }
   ],
   "source": [
    "train['make'].isna().sum()"
   ]
  },
  {
   "cell_type": "code",
   "execution_count": null,
   "metadata": {
    "id": "GdhxI-HFdiPc"
   },
   "outputs": [],
   "source": [
    "train['make'] = train['make'].str.lower()\n",
    "train['make'] = train['make'].str.replace('vw', 'volkswagen')\n",
    "train['make'] = train['make'].str.replace('landrover', 'land rover')\n",
    "train['make'] = train['make'].str.replace('mazda tk', 'mazda')\n",
    "train['make'] = train['make'].str.replace('mercedes-b', 'mercedes')\n",
    "train['make'] = train['make'].str.replace('mercedes-benz', 'mercedes')\n",
    "train['make'] = train['make'].str.replace('dodge tk', 'dodge')\n",
    "train['make'] = train['make'].str.replace('ford truck', 'ford')\n",
    "train['make'] = train['make'].str.replace('gmc truck', 'gmc')\n",
    "train['make'] = train['make'].str.replace('mercedesenz', 'mercedes')\n"
   ]
  },
  {
   "cell_type": "code",
   "execution_count": null,
   "metadata": {
    "colab": {
     "base_uri": "https://localhost:8080/"
    },
    "id": "9ZgYzKoZgCuo",
    "outputId": "041babf5-2433-4b12-ff3b-e1a97c112563"
   },
   "outputs": [
    {
     "data": {
      "text/plain": [
       "array(['acura', 'airstream', 'aston martin', 'audi', 'bentley', 'bmw',\n",
       "       'buick', 'cadillac', 'chevrolet', 'chrysler', 'daewoo', 'dodge',\n",
       "       'dot', 'ferrari', 'fiat', 'fisker', 'ford', 'geo', 'gmc', 'honda',\n",
       "       'hummer', 'hyundai', 'infiniti', 'isuzu', 'jaguar', 'jeep', 'kia',\n",
       "       'lamborghini', 'land rover', 'lexus', 'lincoln', 'maserati',\n",
       "       'mazda', 'mercedes', 'mercury', 'mini', 'mitsubishi', 'nissan',\n",
       "       'oldsmobile', 'plymouth', 'pontiac', 'porsche', 'ram',\n",
       "       'rolls-royce', 'saab', 'saturn', 'scion', 'smart', 'subaru',\n",
       "       'suzuki', 'tesla', 'toyota', 'volkswagen', 'volvo'], dtype=object)"
      ]
     },
     "execution_count": 213,
     "metadata": {},
     "output_type": "execute_result"
    }
   ],
   "source": [
    "train['make'].sort_values().unique()"
   ]
  },
  {
   "cell_type": "markdown",
   "metadata": {
    "id": "l-ioV6hLUQO6"
   },
   "source": [
    "Удалены пропуски. Названия производителей приведены к нижнему регистру. Переименованы повторяющиеся названия."
   ]
  },
  {
   "cell_type": "markdown",
   "metadata": {
    "id": "FpTdRVHXgP-g"
   },
   "source": [
    "#### model"
   ]
  },
  {
   "cell_type": "code",
   "execution_count": null,
   "metadata": {
    "colab": {
     "base_uri": "https://localhost:8080/"
    },
    "id": "p8WX-phegV9Q",
    "outputId": "3b9f4216-3c1b-45d7-ebeb-888c1473d63c"
   },
   "outputs": [
    {
     "data": {
      "text/plain": [
       "array(['1 Series', '1500', '190-Class', '2 Series', '200', '200SX',\n",
       "       '2500', '3', '3 Series', '3 Series Gran Turismo', '300',\n",
       "       '300-Class', '3000GT', '300M', '300ZX', '300e', '320i', '323i',\n",
       "       '328i', '3500', '350Z', '350z', '370Z', '4 Series',\n",
       "       '4 Series Gran Coupe', '400-Class', '420-Class', '420sel', '42c',\n",
       "       '458 Italia', '4Runner', '5 Series', '5 Series Gran Turismo',\n",
       "       '500', '500-Class', '500L', '500e', '6', '6 Series',\n",
       "       '6 Series Gran Coupe', '626', '7', '7 Series', '750i', '750li',\n",
       "       '750lxi', '8 Series', '850', '9-2X', '9-3', '9-5', '9-7X', '911',\n",
       "       '940', '960', 'A3', 'A4', 'A5', 'A6', 'A7', 'A8', 'ATS', 'Acadia',\n",
       "       'Accent', 'Accord', 'Accord Crosstour', 'Accord Hybrid',\n",
       "       'ActiveHybrid 5', 'ActiveHybrid 7', 'ActiveHybrid X6', 'Aerio',\n",
       "       'Alero', 'Altima', 'Altima Hybrid', 'Amanti', 'Amigo', 'Armada',\n",
       "       'Ascender', 'Aspen', 'Aspire', 'Astra', 'Astro', 'Astro Cargo',\n",
       "       'Aura', 'Aura Hybrid', 'Aurora', 'Avalanche', 'Avalon',\n",
       "       'Avalon Hybrid', 'Avenger', 'Aveo', 'Aviator', 'Axiom', 'Azera',\n",
       "       'Aztek', 'B-Class Electric Drive', 'B-Series', 'B-Series Pickup',\n",
       "       'B-Series Truck', 'B9 Tribeca', 'BRZ', 'Baja', 'Beetle',\n",
       "       'Beetle Convertible', 'Black Diamond Avalanche', 'Blackwood',\n",
       "       'Blazer', 'Bonneville', 'Borrego', 'Boxster', 'Bravada', 'Breeze',\n",
       "       'C-Class', 'C-Max Energi', 'C-Max Hybrid', 'C/K 1500 Series',\n",
       "       'C/K 2500 Series', 'C/K 3500 Series', 'C/V Cargo Van',\n",
       "       'C/V Tradesman', 'C30', 'C70', 'CC', 'CL', 'CL-Class', 'CLA-Class',\n",
       "       'CLK-Class', 'CLS-Class', 'CR-V', 'CR-Z', 'CT 200h', 'CTS',\n",
       "       'CTS Coupe', 'CTS Wagon', 'CTS-V', 'CTS-V Coupe', 'CTS-V Wagon',\n",
       "       'CV Tradesman', 'CX-5', 'CX-7', 'CX-9', 'Cabrio', 'Cabriolet',\n",
       "       'Cadenza', 'Caliber', 'California', 'Camaro', 'Camry',\n",
       "       'Camry Hybrid', 'Camry Solara', 'Canyon', 'Caprice',\n",
       "       'Captiva Sport', 'Caravan', 'Catera', 'Cavalier', 'Cayenne',\n",
       "       'Cayman', 'Cayman S', 'Celica', 'Century', 'Challenger', 'Charger',\n",
       "       'Cherokee', 'Cirrus', 'Civic', 'Civic del Sol', 'Classic',\n",
       "       'Cobalt', 'Colorado', 'Commander', 'Compass', 'Concorde',\n",
       "       'Continental', 'Continental Flying Spur',\n",
       "       'Continental Flying Spur Speed', 'Continental GT',\n",
       "       'Continental GT Speed', 'Continental GTC', 'Continental GTC Speed',\n",
       "       'Continental Supersports', 'Contour', 'Cooper', 'Cooper Clubman',\n",
       "       'Cooper Countryman', 'Cooper Coupe', 'Cooper Paceman',\n",
       "       'Cooper Roadster', 'Corolla', 'Corsica', 'Corvette',\n",
       "       'Corvette Stingray', 'Cougar', 'Coupe', 'Crossfire', 'Crosstour',\n",
       "       'Crown Victoria', 'Cruze', 'Cube', 'Cutlass', 'Cutlass Ciera',\n",
       "       'Cutlass Supreme', 'DB9', 'DTS', 'Dakota', 'Dart', 'DeVille',\n",
       "       'Diamante', 'Discovery', 'Discovery Series II', 'Durango', 'E-150',\n",
       "       'E-250', 'E-350', 'E-Class', 'E-Series Van', 'E-Series Wagon',\n",
       "       'ECHO', 'ELR', 'ES 300', 'ES 300h', 'ES 330', 'ES 350', 'EX',\n",
       "       'EX35', 'Eclipse', 'Eclipse Spyder', 'Econoline Cargo',\n",
       "       'Econoline Wagon', 'Edge', 'Eighty-Eight', 'Eighty-Eight Royale',\n",
       "       'Elantra', 'Elantra Coupe', 'Elantra GT', 'Elantra Touring',\n",
       "       'Eldorado', 'Element', 'Enclave', 'Encore', 'Endeavor',\n",
       "       'Entourage', 'Envoy', 'Envoy XL', 'Envoy XUV', 'Eos', 'Equator',\n",
       "       'Equinox', 'Equus', 'Escalade', 'Escalade ESV', 'Escalade EXT',\n",
       "       'Escalade Hybrid', 'Escape', 'Escape Hybrid', 'Escort', 'Esteem',\n",
       "       'EuroVan', 'Excursion', 'Expedition', 'Expedition EL', 'Explorer',\n",
       "       'Explorer Sport', 'Explorer Sport Trac', 'Express',\n",
       "       'Express Cargo', 'F-150', 'F-150 Heritage', 'F-150 SVT Lightning',\n",
       "       'F-250', 'F-250 Super Duty', 'F-350 Super Duty',\n",
       "       'F-450 Super Duty', 'F-TYPE', 'F430', 'FJ Cruiser', 'FR-S', 'FX',\n",
       "       'FX35', 'FX45', 'FX50', 'Fiesta', 'Firebird', 'Fit',\n",
       "       'Five Hundred', 'Fleetwood', 'Flex', 'Flying Spur', 'Focus',\n",
       "       'Focus ST', 'Forenza', 'Forester', 'Forte', 'Freelander',\n",
       "       'Freestar', 'Freestyle', 'Frontier', 'Fusion', 'Fusion Energi',\n",
       "       'Fusion Hybrid', 'G Convertible', 'G Coupe', 'G Sedan', 'G-Class',\n",
       "       'G20', 'G3', 'G35', 'G37', 'G37 Convertible', 'G37 Coupe', 'G5',\n",
       "       'G6', 'G8', 'GL-Class', 'GLA-Class', 'GLI', 'GLK-Class', 'GS 300',\n",
       "       'GS 350', 'GS 400', 'GS 430', 'GS 450h', 'GS 460', 'GT-R', 'GTI',\n",
       "       'GTO', 'GX 460', 'GX 470', 'Galant', 'Gallardo', 'Genesis',\n",
       "       'Genesis Coupe', 'Ghibli', 'Ghost', 'Golf', 'Golf GTI', 'Golf R',\n",
       "       'GranSport', 'GranTurismo', 'GranTurismo Convertible', 'Grand Am',\n",
       "       'Grand Caravan', 'Grand Cherokee', 'Grand Marquis', 'Grand Prix',\n",
       "       'Grand Vitara', 'H1', 'H2', 'H2 SUT', 'H3', 'H3T', 'HHR',\n",
       "       'HS 250h', 'Highlander', 'Highlander Hybrid', 'I30', 'I35', 'ILX',\n",
       "       'ION', 'IS 250', 'IS 250 C', 'IS 300', 'IS 350', 'IS 350 C',\n",
       "       'IS F', 'Impala', 'Impala Limited', 'Impreza', 'Impreza WRX',\n",
       "       'Insight', 'Integra', 'Intrepid', 'Intrigue', 'J30', 'JX', 'Jetta',\n",
       "       'Jetta GLI', 'Jetta Hybrid', 'Jetta SportWagen', 'Jimmy',\n",
       "       'Journey', 'Juke', 'K900', 'Karma', 'Kizashi', 'L-Series', 'L300',\n",
       "       'LHS', 'LR2', 'LR3', 'LR4', 'LS', 'LS 400', 'LS 430', 'LS 460',\n",
       "       'LS 600h L', 'LX 450', 'LX 470', 'LX 570', 'LaCrosse', 'Lancer',\n",
       "       'Lancer Evolution', 'Lancer Sportback', 'Land Cruiser', 'Le Baron',\n",
       "       'LeSabre', 'Leaf', 'Legacy', 'Legend', 'Liberty', 'Lucerne',\n",
       "       'Lumina', 'M', 'M-Class', 'M3', 'M35', 'M37', 'M4', 'M45', 'M5',\n",
       "       'M56', 'M6', 'M6 Gran Coupe', 'MDX', 'MKC', 'MKS', 'MKT', 'MKX',\n",
       "       'MKZ', 'MKZ Hybrid', 'ML55 AMG', 'MPV', 'MR2 Spyder', 'MX-5 Miata',\n",
       "       'Macan', 'Magnum', 'Malibu', 'Malibu Classic', 'Malibu Hybrid',\n",
       "       'Malibu Maxx', 'Marauder', 'Mariner', 'Mariner Hybrid', 'Mark LT',\n",
       "       'Mark VIII', 'Matrix', 'Maxima', 'Mazda2', 'Mazda3', 'Mazda5',\n",
       "       'Mazda6', 'Mazdaspeed 3', 'Mazdaspeed MX-5 Miata',\n",
       "       'Mazdaspeed Mazda3', 'Mazdaspeed Mazda6', 'Mazdaspeed Protege',\n",
       "       'Mazdaspeed3', 'Metro', 'Milan', 'Milan Hybrid', 'Millenia',\n",
       "       'Mirage', 'Model S', 'Montana', 'Montana SV6', 'Monte Carlo',\n",
       "       'Montego', 'Monterey', 'Montero', 'Montero Sport', 'Mountaineer',\n",
       "       'Murano', 'Murano CrossCabriolet', 'Mustang', 'Mustang SVT Cobra',\n",
       "       'Mystique', 'NV', 'NV Cargo', 'NV Passenger', 'NV200', 'Navigator',\n",
       "       'Navigator L', 'Neon', 'New Beetle', 'Nitro', 'Nubira', 'Odyssey',\n",
       "       'Optima', 'Outback', 'Outlander', 'Outlander Sport', 'Outlook',\n",
       "       'PT Cruiser', 'Pacifica', 'Panamera', 'Park Avenue', 'Paseo',\n",
       "       'Passat', 'Passport', 'Pathfinder', 'Patriot', 'Phaeton', 'Pickup',\n",
       "       'Pilot', 'Prelude', 'Prius', 'Prius Plug-in', 'Prius c', 'Prius v',\n",
       "       'Prizm', 'Promaster Cargo Van', 'Protege', 'Protege5', 'Prowler',\n",
       "       'Q3', 'Q45', 'Q5', 'Q50', 'Q60 Convertible', 'Q60 Coupe', 'Q7',\n",
       "       'Q70', 'QX', 'QX4', 'QX50', 'QX56', 'QX60', 'QX70', 'QX80',\n",
       "       'Quattroporte', 'Quest', 'R-Class', 'R32', 'R8', 'RAV4', 'RC 350',\n",
       "       'RC F', 'RDX', 'RL', 'RLX', 'RS 4', 'RS 5', 'RS 6', 'RS 7', 'RSX',\n",
       "       'RX 300', 'RX 330', 'RX 350', 'RX 400h', 'RX 450h', 'RX-8',\n",
       "       'Rabbit', 'Raider', 'Rainier', 'Ram Cargo', 'Ram Pickup 1500',\n",
       "       'Ram Pickup 2500', 'Ram Pickup 3500', 'Ram Van', 'Range Rover',\n",
       "       'Range Rover Evoque', 'Range Rover Sport', 'Ranger', 'Rapide',\n",
       "       'Regal', 'Regency', 'Relay', 'Rendezvous', 'Reno', 'Ridgeline',\n",
       "       'Rio', 'Riviera', 'Roadmaster', 'Rodeo', 'Rodeo Sport', 'Rogue',\n",
       "       'Rogue Select', 'Rondo', 'Routan', 'S-10', 'S-10 Blazer',\n",
       "       'S-Class', 'S-Series', 'S-Type', 'S2000', 'S4', 'S40', 'S5', 'S6',\n",
       "       'S60', 'S7', 'S70', 'S8', 'S80', 'S90', 'SC 300', 'SC 400',\n",
       "       'SC 430', 'SL-Class', 'SLK-Class', 'SLS AMG', 'SQ5', 'SRX', 'SS',\n",
       "       'SSR', 'STS', 'STS-V', 'SX4', 'Sable', 'Safari', 'Safari Cargo',\n",
       "       'Santa Fe', 'Santa Fe Sport', 'Savana', 'Savana Cargo', 'Sebring',\n",
       "       'Sedona', 'Sentra', 'Sephia', 'Sequoia', 'Seville', 'Shelby GT500',\n",
       "       'Sienna', 'Sierra 1500', 'Sierra 1500 Classic',\n",
       "       'Sierra 1500 Hybrid', 'Sierra 1500HD', 'Sierra 2500',\n",
       "       'Sierra 2500HD', 'Sierra 2500HD Classic', 'Sierra 3500',\n",
       "       'Sierra 3500HD', 'Silhouette', 'Silverado 1500',\n",
       "       'Silverado 1500 Classic', 'Silverado 1500 Hybrid',\n",
       "       'Silverado 1500HD', 'Silverado 2500', 'Silverado 2500HD',\n",
       "       'Silverado 2500HD Classic', 'Silverado 3500',\n",
       "       'Silverado 3500 Classic', 'Silverado 3500HD', 'Sky', 'Solstice',\n",
       "       'Sonata', 'Sonata Hybrid', 'Sonic', 'Sonoma', 'Sorento', 'Soul',\n",
       "       'Spark', 'Spark EV', 'Spectra', 'Spirit', 'Sportage', 'Sprinter',\n",
       "       'Sprinter Cargo', 'Spyder', 'Stratus', 'Suburban', 'Sunfire',\n",
       "       'T100', 'TL', 'TSX', 'TSX Sport Wagon', 'TT', 'TT RS', 'TTS',\n",
       "       'Tacoma', 'Tahoe', 'Tahoe Hybrid', 'Tahoe Limited/Z71', 'Taurus',\n",
       "       'Taurus X', 'Tempo', 'Tercel', 'Terrain', 'Terraza', 'Thunderbird',\n",
       "       'Tiburon', 'Tiguan', 'Titan', 'Torrent', 'Touareg', 'Touareg 2',\n",
       "       'Town Car', 'Town and Country', 'Tracer', 'Tracker', 'TrailBlazer',\n",
       "       'TrailBlazer EXT', 'Transit Connect', 'Transit Van',\n",
       "       'Transit Wagon', 'Traverse', 'Tribeca', 'Tribute',\n",
       "       'Tribute Hybrid', 'Trooper', 'Truck', 'Tucson', 'Tundra',\n",
       "       'Uplander', 'V40', 'V50', 'V60', 'V70', 'V8 Vantage', 'VUE',\n",
       "       'VUE Hybrid', 'Veloster', 'Venture', 'Venza', 'Veracruz', 'Verano',\n",
       "       'Verona', 'Versa', 'Versa Note', 'Vibe', 'Villager', 'Viper',\n",
       "       'Vitara', 'Volt', 'Voyager', 'WRX', 'Windstar', 'Windstar Cargo',\n",
       "       'Wrangler', 'X-Type', 'X1', 'X3', 'X4', 'X5', 'X5 M', 'X6', 'X6 M',\n",
       "       'XC', 'XC60', 'XC70', 'XC90', 'XF', 'XG300', 'XG350', 'XJ',\n",
       "       'XJ-Series', 'XK', 'XK-Series', 'XL-7', 'XL7', 'XLR', 'XTS',\n",
       "       'XV Crosstrek', 'Xterra', 'Yaris', 'Yukon', 'Yukon Denali',\n",
       "       'Yukon Hybrid', 'Yukon XL', 'Z3', 'Z4', 'Z4 M', 'ZDX', 'Zephyr',\n",
       "       'a4', 'a6', 'accord', 'alero', 'allroad', 'allroad quattro', 'alp',\n",
       "       'astro', 'avalon', 'avenger', 'aveo', 'b1500', 'b200', 'b2300',\n",
       "       'beetle', 'borrego', 'breeze', 'c230', 'c230wz', 'c240s', 'c240w',\n",
       "       'camaro', 'camry', 'capt', 'caravan', 'carrera', 'cavalier',\n",
       "       'century', 'charger', 'cherokee', 'ciera', 'civic', 'cl55',\n",
       "       'cobalt', 'colorado', 'comm', 'compass', 'concorde', 'corolla',\n",
       "       'corsica', 'corvette', 'cougar', 'crossfire', 'crown', 'cruze',\n",
       "       'cx-7', 'dakota', 'discovery', 'dts', 'durango', 'e', 'e150',\n",
       "       'e250', 'e300dt', 'e350', 'el', 'elantra', 'endeavor', 'envoy',\n",
       "       'equinox', 'escalade', 'escape', 'eurovan', 'excurs', 'expedit',\n",
       "       'expedition', 'expeditn', 'explorer', 'f150', 'f250', 'f350',\n",
       "       'focus', 'forester', 'fortwo', 'freestyle', 'g1500', 'g2500',\n",
       "       'g3500', 'g5', 'g500', 'g55', 'g6', 'galant', 'golf', 'gr',\n",
       "       'grand', 'gx', 'hhr', 'i-MiEV', 'i-Series', 'i8', 'iQ', 'impala',\n",
       "       'interstate', 'intrepid', 'intrigue', 'jetta', 'journey',\n",
       "       'lacrosse', 'lancer', 'legacy', 'lr3', 'lumina', 'lx', 'magnum',\n",
       "       'malibu', 'matrix', 'mazda3', 'mazda5', 'mazda6', 'mdx', 'mkt',\n",
       "       'montana', 'mountaineer', 'mountnr', 'mpv', 'neon', 'odyssey',\n",
       "       'optima', 'optra', 'pacifica', 'passat', 'pathfind', 'pathfinder',\n",
       "       'patriot', 'pickup', 'pilot', 'police', 'previa', 'pt', 'pursuit',\n",
       "       'quattroporte', 'quest', 'rainier', 'ram', 'ram3500', 'range',\n",
       "       'ranger', 'rangerover', 'regal', 'ridgelin', 'rio', 'rl', 'routan',\n",
       "       'rr', 'rrs', 'rx8', 's10', 's55', 'safari', 'santa', 'savana',\n",
       "       'sebring', 'sienna', 'siera', 'silhouette', 'sl55', 'sonic',\n",
       "       'sonoma', 'sportage', 'sprinter', 'sr', 'srx', 'stratus', 'sts',\n",
       "       'subrbn', 'suburban', 'swift', 'sx4', 'tC', 'tahoe', 'taurus',\n",
       "       'thunderbird', 'town', 'tribute', 'tucson', 'tundra',\n",
       "       'twn&country', 'twn/cntry', 'uplander', 'uplandr', 'venture',\n",
       "       'versa', 'vibe', 'villager', 'voyager', 'wave', 'windstar',\n",
       "       'wrangler', 'x-trail', 'xA', 'xB', 'xD', 'yaris', 'yukon', nan],\n",
       "      dtype=object)"
      ]
     },
     "execution_count": 214,
     "metadata": {},
     "output_type": "execute_result"
    }
   ],
   "source": [
    "train['model'].sort_values().unique()"
   ]
  },
  {
   "cell_type": "code",
   "execution_count": null,
   "metadata": {
    "colab": {
     "base_uri": "https://localhost:8080/"
    },
    "id": "y5vhFyv9Ulcw",
    "outputId": "9ba61227-1f50-4e80-be31-503d0d41141a"
   },
   "outputs": [
    {
     "data": {
      "text/plain": [
       "80"
      ]
     },
     "execution_count": 215,
     "metadata": {},
     "output_type": "execute_result"
    }
   ],
   "source": [
    "train['model'].isna().sum()"
   ]
  },
  {
   "cell_type": "code",
   "execution_count": null,
   "metadata": {
    "id": "pjj5mFn4Ulcx"
   },
   "outputs": [],
   "source": [
    "train = train.dropna(subset=['model'])"
   ]
  },
  {
   "cell_type": "code",
   "execution_count": null,
   "metadata": {
    "colab": {
     "base_uri": "https://localhost:8080/"
    },
    "id": "pPq_PmVcUlcy",
    "outputId": "8acf5866-7b1f-41d5-bdb7-1eac08224cb3"
   },
   "outputs": [
    {
     "data": {
      "text/plain": [
       "0"
      ]
     },
     "execution_count": 217,
     "metadata": {},
     "output_type": "execute_result"
    }
   ],
   "source": [
    "train['model'].isna().sum()"
   ]
  },
  {
   "cell_type": "code",
   "execution_count": null,
   "metadata": {
    "id": "AlFdyXcLg1vX"
   },
   "outputs": [],
   "source": [
    "train['model'] = train['model'].str.lower()"
   ]
  },
  {
   "cell_type": "code",
   "execution_count": null,
   "metadata": {
    "id": "OPxVmV6rQjGm"
   },
   "outputs": [],
   "source": [
    "model_count = train.groupby('model')['model'].count().sort_values(ascending=False)"
   ]
  },
  {
   "cell_type": "code",
   "execution_count": null,
   "metadata": {
    "colab": {
     "base_uri": "https://localhost:8080/",
     "height": 89
    },
    "id": "qGixvpX7QjGm",
    "outputId": "d54bd51e-92ca-4bf8-eb77-0f2ccfaaf94d"
   },
   "outputs": [
    {
     "data": {
      "text/plain": [
       "<Axes: >"
      ]
     },
     "execution_count": 220,
     "metadata": {},
     "output_type": "execute_result"
    },
    {
     "data": {
      "image/png": "[encoded data removed]",
      "text/plain": [
       "<Figure size 640x480 with 1 Axes>"
      ]
     },
     "metadata": {},
     "output_type": "display_data"
    }
   ],
   "source": [
    "model_count.hist()"
   ]
  },
  {
   "cell_type": "code",
   "execution_count": null,
   "metadata": {
    "id": "_RWHsEnIQjGm"
   },
   "outputs": [],
   "source": [
    "common_models = model_count[model_count > 2000].index"
   ]
  },
  {
   "cell_type": "code",
   "execution_count": null,
   "metadata": {
    "id": "-vilq6uoQjGm"
   },
   "outputs": [],
   "source": [
    "train['model'] = train['model'].apply(lambda x: 'rare' if x not in common_models else x)"
   ]
  },
  {
   "cell_type": "markdown",
   "metadata": {
    "id": "aI4uVn4TXYKu"
   },
   "source": [
    "Удалены пропуски. Названия моделей приведены к нижнему регистру. Редко встечающиеся (<2000) модели переименованы в 'rare'\n"
   ]
  },
  {
   "cell_type": "markdown",
   "metadata": {
    "id": "IdveDNS1k5g_"
   },
   "source": [
    "#### trim"
   ]
  },
  {
   "cell_type": "code",
   "execution_count": null,
   "metadata": {
    "colab": {
     "base_uri": "https://localhost:8080/"
    },
    "id": "Ct1QL1Vik9gj",
    "outputId": "dd4c8804-a1a0-4e9f-8caf-2ae150393db3"
   },
   "outputs": [
    {
     "data": {
      "text/plain": [
       "1921"
      ]
     },
     "execution_count": 223,
     "metadata": {},
     "output_type": "execute_result"
    }
   ],
   "source": [
    "train['trim'].sort_values().nunique()"
   ]
  },
  {
   "cell_type": "code",
   "execution_count": null,
   "metadata": {
    "id": "rOBlbJF5m6lj"
   },
   "outputs": [],
   "source": [
    "train = train.dropna(subset=['trim'])"
   ]
  },
  {
   "cell_type": "code",
   "execution_count": null,
   "metadata": {
    "id": "-rq8kiI4myqr"
   },
   "outputs": [],
   "source": [
    "train['trim'] = train['trim'].str.lower()"
   ]
  },
  {
   "cell_type": "code",
   "execution_count": null,
   "metadata": {
    "id": "sTWuH7ebQjGo",
    "scrolled": true
   },
   "outputs": [],
   "source": [
    "trim_count = train.groupby('trim')['trim'].count().sort_values(ascending=False)"
   ]
  },
  {
   "cell_type": "code",
   "execution_count": null,
   "metadata": {
    "colab": {
     "base_uri": "https://localhost:8080/",
     "height": 89
    },
    "id": "X39NQJv4QjGo",
    "outputId": "c2728e5d-406c-4ba6-8678-cac9ccefb05b"
   },
   "outputs": [
    {
     "data": {
      "text/plain": [
       "<Axes: >"
      ]
     },
     "execution_count": 227,
     "metadata": {},
     "output_type": "execute_result"
    },
    {
     "data": {
      "image/png": "[encoded data removed]",
      "text/plain": [
       "<Figure size 640x480 with 1 Axes>"
      ]
     },
     "metadata": {},
     "output_type": "display_data"
    }
   ],
   "source": [
    "trim_count.hist()"
   ]
  },
  {
   "cell_type": "code",
   "execution_count": null,
   "metadata": {
    "id": "92eGzzAdQjGo"
   },
   "outputs": [],
   "source": [
    "common_trim = trim_count[trim_count > 2000].index"
   ]
  },
  {
   "cell_type": "code",
   "execution_count": null,
   "metadata": {
    "id": "mYW-xvu8QjGo"
   },
   "outputs": [],
   "source": [
    "train['trim'] = train['trim'].apply(lambda x: 'rare' if x not in common_trim else x)"
   ]
  },
  {
   "cell_type": "markdown",
   "metadata": {
    "id": "U_j7iAXPX3Xt"
   },
   "source": [
    "Удалены пропуски. Названия модификаций приведены к нижнему регистру. Редко встечающиеся (<2000) модификации переименованы в 'rare'."
   ]
  },
  {
   "cell_type": "markdown",
   "metadata": {
    "id": "ofVDGvCWnPi5"
   },
   "source": [
    "#### body"
   ]
  },
  {
   "cell_type": "code",
   "execution_count": null,
   "metadata": {
    "colab": {
     "base_uri": "https://localhost:8080/"
    },
    "id": "Bsa7rJ2WnRhB",
    "outputId": "371a07cb-075b-4b63-f053-00ea3f7797d7"
   },
   "outputs": [
    {
     "data": {
      "text/plain": [
       "array(['Access Cab', 'Beetle Convertible', 'CTS Coupe', 'CTS Wagon',\n",
       "       'CTS-V Coupe', 'CTS-V Wagon', 'Cab Plus', 'Cab Plus 4', 'Club Cab',\n",
       "       'Convertible', 'Coupe', 'Crew Cab', 'CrewMax Cab', 'Double Cab',\n",
       "       'E-Series Van', 'Elantra Coupe', 'Extended Cab', 'G Convertible',\n",
       "       'G Coupe', 'G Sedan', 'G37 Convertible', 'G37 Coupe',\n",
       "       'Genesis Coupe', 'GranTurismo Convertible', 'Hatchback',\n",
       "       'King Cab', 'Koup', 'Mega Cab', 'Minivan', 'Promaster Cargo Van',\n",
       "       'Q60 Convertible', 'Q60 Coupe', 'Quad Cab', 'Ram Van',\n",
       "       'Regular Cab', 'SUV', 'Sedan', 'SuperCab', 'SuperCrew',\n",
       "       'TSX Sport Wagon', 'Transit Van', 'Van', 'Wagon', 'Xtracab',\n",
       "       'access cab', 'beetle convertible', 'cab plus 4', 'club cab',\n",
       "       'convertible', 'coupe', 'crew cab', 'crewmax cab', 'cts coupe',\n",
       "       'cts-v coupe', 'double cab', 'e-series van', 'elantra coupe',\n",
       "       'extended cab', 'g convertible', 'g coupe', 'g sedan',\n",
       "       'g37 convertible', 'g37 coupe', 'genesis coupe',\n",
       "       'granturismo convertible', 'hatchback', 'king cab', 'koup',\n",
       "       'mega cab', 'minivan', 'promaster cargo van', 'q60 convertible',\n",
       "       'q60 coupe', 'quad cab', 'regular cab', 'regular-cab', 'sedan',\n",
       "       'supercab', 'supercrew', 'suv', 'transit van', 'tsx sport wagon',\n",
       "       'van', 'wagon', 'xtracab', nan], dtype=object)"
      ]
     },
     "execution_count": 230,
     "metadata": {},
     "output_type": "execute_result"
    }
   ],
   "source": [
    "train['body'].sort_values().unique()"
   ]
  },
  {
   "cell_type": "code",
   "execution_count": null,
   "metadata": {
    "id": "xFpNyVHCnj1r"
   },
   "outputs": [],
   "source": [
    "train['body'] = train['body'].str.lower()\n",
    "train['body'] = train['body'].str.replace('regular-cab', 'regular cab')\n",
    "train = train.dropna(subset=['body'])"
   ]
  },
  {
   "cell_type": "code",
   "execution_count": null,
   "metadata": {
    "colab": {
     "base_uri": "https://localhost:8080/"
    },
    "id": "1o8wT92XogaX",
    "outputId": "8d161b83-6f3a-4ad1-b669-4c0f9b697ee0"
   },
   "outputs": [
    {
     "data": {
      "text/plain": [
       "array(['access cab', 'beetle convertible', 'cab plus', 'cab plus 4',\n",
       "       'club cab', 'convertible', 'coupe', 'crew cab', 'crewmax cab',\n",
       "       'cts coupe', 'cts wagon', 'cts-v coupe', 'cts-v wagon',\n",
       "       'double cab', 'e-series van', 'elantra coupe', 'extended cab',\n",
       "       'g convertible', 'g coupe', 'g sedan', 'g37 convertible',\n",
       "       'g37 coupe', 'genesis coupe', 'granturismo convertible',\n",
       "       'hatchback', 'king cab', 'koup', 'mega cab', 'minivan',\n",
       "       'promaster cargo van', 'q60 convertible', 'q60 coupe', 'quad cab',\n",
       "       'ram van', 'regular cab', 'sedan', 'supercab', 'supercrew', 'suv',\n",
       "       'transit van', 'tsx sport wagon', 'van', 'wagon', 'xtracab'],\n",
       "      dtype=object)"
      ]
     },
     "execution_count": 232,
     "metadata": {},
     "output_type": "execute_result"
    }
   ],
   "source": [
    "train['body'].sort_values().unique()"
   ]
  },
  {
   "cell_type": "markdown",
   "metadata": {
    "id": "4zI1W24CYVYC"
   },
   "source": [
    "Удалены пропуски. Названия типов кузовов приведены к нижнему регистру. Переименованы повторяющиеся названия."
   ]
  },
  {
   "cell_type": "markdown",
   "metadata": {
    "id": "nb4CR05OpMnT"
   },
   "source": [
    "#### transmission"
   ]
  },
  {
   "cell_type": "code",
   "execution_count": null,
   "metadata": {
    "colab": {
     "base_uri": "https://localhost:8080/"
    },
    "id": "XjJZtbI5pPQq",
    "outputId": "b22bde7a-3f4f-452e-a9ac-709f8e54ee6e"
   },
   "outputs": [
    {
     "data": {
      "text/plain": [
       "array(['automatic', 'manual', nan], dtype=object)"
      ]
     },
     "execution_count": 233,
     "metadata": {},
     "output_type": "execute_result"
    }
   ],
   "source": [
    "train['transmission'].sort_values().unique()"
   ]
  },
  {
   "cell_type": "code",
   "execution_count": null,
   "metadata": {
    "colab": {
     "base_uri": "https://localhost:8080/"
    },
    "id": "7T0FpgQ8pgB6",
    "outputId": "f775cba4-b8be-4c7f-b0ec-caebf892fcb5"
   },
   "outputs": [
    {
     "data": {
      "text/plain": [
       "transmission\n",
       "automatic    366866\n",
       "manual        13161\n",
       "Name: vin, dtype: int64"
      ]
     },
     "execution_count": 234,
     "metadata": {},
     "output_type": "execute_result"
    }
   ],
   "source": [
    "train.groupby('transmission')['vin'].count()"
   ]
  },
  {
   "cell_type": "code",
   "execution_count": null,
   "metadata": {
    "id": "7D5Na3RWqAyx"
   },
   "outputs": [],
   "source": [
    "train['transmission'] = train['transmission'].fillna('automatic')"
   ]
  },
  {
   "cell_type": "markdown",
   "metadata": {
    "id": "2R_Ly2EpYewa"
   },
   "source": [
    "Пропуски заполнены наиболее частым значением('automatic')"
   ]
  },
  {
   "cell_type": "markdown",
   "metadata": {
    "id": "JrNXLk8wqe9v"
   },
   "source": [
    "#### state"
   ]
  },
  {
   "cell_type": "code",
   "execution_count": null,
   "metadata": {
    "colab": {
     "base_uri": "https://localhost:8080/"
    },
    "id": "bL8KzlXzqgnV",
    "outputId": "472917be-e982-4cb9-d394-717d2c8d2af2"
   },
   "outputs": [
    {
     "data": {
      "text/plain": [
       "array(['ab', 'al', 'az', 'ca', 'co', 'fl', 'ga', 'hi', 'il', 'in', 'la',\n",
       "       'ma', 'md', 'mi', 'mn', 'mo', 'ms', 'nc', 'ne', 'nj', 'nm', 'ns',\n",
       "       'nv', 'ny', 'oh', 'ok', 'on', 'or', 'pa', 'pr', 'qc', 'sc', 'tn',\n",
       "       'tx', 'ut', 'va', 'wa', 'wi'], dtype=object)"
      ]
     },
     "execution_count": 236,
     "metadata": {},
     "output_type": "execute_result"
    }
   ],
   "source": [
    "train['state'].sort_values().unique()"
   ]
  },
  {
   "cell_type": "markdown",
   "metadata": {
    "id": "qf3K6EsRtRXm"
   },
   "source": [
    "#### condition"
   ]
  },
  {
   "cell_type": "code",
   "execution_count": null,
   "metadata": {
    "colab": {
     "base_uri": "https://localhost:8080/"
    },
    "id": "YQGmy2j7tQYy",
    "outputId": "50ad6806-dc7c-41c9-9f04-e623046c0409"
   },
   "outputs": [
    {
     "data": {
      "text/plain": [
       "array([1. , 1.1, 1.2, 1.3, 1.4, 1.5, 1.6, 1.7, 1.8, 1.9, 2. , 2.1, 2.2,\n",
       "       2.3, 2.4, 2.5, 2.6, 2.7, 2.8, 2.9, 3. , 3.1, 3.2, 3.3, 3.4, 3.5,\n",
       "       3.6, 3.7, 3.8, 3.9, 4. , 4.1, 4.2, 4.3, 4.4, 4.5, 4.6, 4.7, 4.8,\n",
       "       4.9, 5. , nan])"
      ]
     },
     "execution_count": 237,
     "metadata": {},
     "output_type": "execute_result"
    }
   ],
   "source": [
    "train['condition'].sort_values().unique()"
   ]
  },
  {
   "cell_type": "code",
   "execution_count": null,
   "metadata": {
    "id": "P5MKGwQitpcK"
   },
   "outputs": [],
   "source": [
    "train['condition'] = train['condition'].fillna(np.round(train['condition'].mean(), 1))"
   ]
  },
  {
   "cell_type": "markdown",
   "metadata": {
    "id": "F2W5DlWZZD2h"
   },
   "source": [
    "Пропуски заполнены средним значением."
   ]
  },
  {
   "cell_type": "markdown",
   "metadata": {
    "id": "4PpP7mq8t8Zs"
   },
   "source": [
    "#### odometer"
   ]
  },
  {
   "cell_type": "code",
   "execution_count": null,
   "metadata": {
    "id": "tUABlohWt7SD"
   },
   "outputs": [],
   "source": [
    "train['odometer'] = train['odometer'].fillna(train['odometer'].mean())"
   ]
  },
  {
   "cell_type": "markdown",
   "metadata": {
    "id": "3Y7FSDHGZctS"
   },
   "source": [
    "Пропуски заполнены средним значением."
   ]
  },
  {
   "cell_type": "markdown",
   "metadata": {
    "id": "xREDwMCyuf9P"
   },
   "source": [
    "#### color"
   ]
  },
  {
   "cell_type": "code",
   "execution_count": null,
   "metadata": {
    "colab": {
     "base_uri": "https://localhost:8080/"
    },
    "id": "Y8yb2npguh2p",
    "outputId": "392be345-87c1-41e5-d7dc-37ba70950043"
   },
   "outputs": [
    {
     "data": {
      "text/plain": [
       "array(['beige', 'black', 'blue', 'brown', 'burgundy', 'charcoal', 'gold',\n",
       "       'gray', 'green', 'lime', 'off-white', 'orange', 'pink', 'purple',\n",
       "       'red', 'silver', 'turquoise', 'white', 'yellow', '—', nan],\n",
       "      dtype=object)"
      ]
     },
     "execution_count": 240,
     "metadata": {},
     "output_type": "execute_result"
    }
   ],
   "source": [
    "train['color'].sort_values().unique()"
   ]
  },
  {
   "cell_type": "code",
   "execution_count": null,
   "metadata": {
    "id": "wanLcU4bu0Sp"
   },
   "outputs": [],
   "source": [
    "train['color'] = train['color'].fillna('—')"
   ]
  },
  {
   "cell_type": "markdown",
   "metadata": {
    "id": "EbGYDmDnaIWa"
   },
   "source": [
    "Пропуски заполнены значением '—'"
   ]
  },
  {
   "cell_type": "markdown",
   "metadata": {
    "id": "DzOzKYvevzPn"
   },
   "source": [
    "#### interior"
   ]
  },
  {
   "cell_type": "code",
   "execution_count": null,
   "metadata": {
    "colab": {
     "base_uri": "https://localhost:8080/"
    },
    "id": "AXj62BSLvydt",
    "outputId": "887d6200-b2b6-421a-a8c8-283006e59335"
   },
   "outputs": [
    {
     "data": {
      "text/plain": [
       "array(['beige', 'black', 'blue', 'brown', 'burgundy', 'gold', 'gray',\n",
       "       'green', 'off-white', 'orange', 'purple', 'red', 'silver', 'tan',\n",
       "       'white', 'yellow', '—', nan], dtype=object)"
      ]
     },
     "execution_count": 242,
     "metadata": {},
     "output_type": "execute_result"
    }
   ],
   "source": [
    "train['interior'].sort_values().unique()"
   ]
  },
  {
   "cell_type": "code",
   "execution_count": null,
   "metadata": {
    "id": "GNrAqUFrbJVX"
   },
   "outputs": [],
   "source": [
    "train['colinterioror'] = train['interior'].fillna('—')"
   ]
  },
  {
   "cell_type": "markdown",
   "metadata": {
    "id": "xPKkNBvAbNqg"
   },
   "source": [
    "Пропуски заполнены значением '—'"
   ]
  },
  {
   "cell_type": "markdown",
   "metadata": {
    "id": "4I2WOPdijE2q"
   },
   "source": [
    "#### seller"
   ]
  },
  {
   "cell_type": "code",
   "execution_count": null,
   "metadata": {
    "colab": {
     "base_uri": "https://localhost:8080/"
    },
    "id": "3M6bKpGdjK9y",
    "outputId": "aad6a602-2f0e-4e17-b029-9947cb362420"
   },
   "outputs": [
    {
     "data": {
      "text/plain": [
       "12786"
      ]
     },
     "execution_count": 244,
     "metadata": {},
     "output_type": "execute_result"
    }
   ],
   "source": [
    "train['seller'].nunique()"
   ]
  },
  {
   "cell_type": "code",
   "execution_count": null,
   "metadata": {
    "id": "LcUVUA7qQjGv",
    "scrolled": true
   },
   "outputs": [],
   "source": [
    "seller_count = train.groupby('seller')['seller'].count().sort_values(ascending=False)"
   ]
  },
  {
   "cell_type": "code",
   "execution_count": null,
   "metadata": {
    "colab": {
     "base_uri": "https://localhost:8080/",
     "height": 89
    },
    "id": "J0NEqfA9QjGv",
    "outputId": "e49ceaaf-ec8d-4b24-f128-294a3b51a913"
   },
   "outputs": [
    {
     "data": {
      "text/plain": [
       "<Axes: >"
      ]
     },
     "execution_count": 246,
     "metadata": {},
     "output_type": "execute_result"
    },
    {
     "data": {
      "image/png": "[encoded data removed]",
      "text/plain": [
       "<Figure size 640x480 with 1 Axes>"
      ]
     },
     "metadata": {},
     "output_type": "display_data"
    }
   ],
   "source": [
    "seller_count.hist()"
   ]
  },
  {
   "cell_type": "code",
   "execution_count": null,
   "metadata": {
    "id": "sHyohVmXQjGv"
   },
   "outputs": [],
   "source": [
    "common_seller = seller_count[seller_count > 2000].index"
   ]
  },
  {
   "cell_type": "code",
   "execution_count": null,
   "metadata": {
    "id": "-XIZKHNtQjGv"
   },
   "outputs": [],
   "source": [
    "train['seller'] = train['seller'].apply(lambda x: 'rare' if x not in common_seller else x)"
   ]
  },
  {
   "cell_type": "markdown",
   "metadata": {
    "id": "ytFZRCRkbe7J"
   },
   "source": [
    "Редко встечающиеся (<2000) названия продавцов переименованы в 'rare'."
   ]
  },
  {
   "cell_type": "markdown",
   "metadata": {
    "id": "Ig5P94Ngkw1i"
   },
   "source": [
    "### test"
   ]
  },
  {
   "cell_type": "code",
   "execution_count": null,
   "metadata": {
    "colab": {
     "base_uri": "https://localhost:8080/"
    },
    "id": "XvKzbvpYk7BW",
    "outputId": "6183d221-1d46-4679-ea77-94230b709fca"
   },
   "outputs": [
    {
     "name": "stdout",
     "output_type": "stream",
     "text": [
      "<class 'pandas.core.frame.DataFrame'>\n",
      "RangeIndex: 110060 entries, 0 to 110059\n",
      "Data columns (total 14 columns):\n",
      " #   Column        Non-Null Count   Dtype  \n",
      "---  ------        --------------   -----  \n",
      " 0   year          110060 non-null  int64  \n",
      " 1   make          107999 non-null  object \n",
      " 2   model         107981 non-null  object \n",
      " 3   trim          107946 non-null  object \n",
      " 4   body          107466 non-null  object \n",
      " 5   transmission  97048 non-null   object \n",
      " 6   vin           110060 non-null  object \n",
      " 7   state         110060 non-null  object \n",
      " 8   condition     107681 non-null  float64\n",
      " 9   odometer      110041 non-null  float64\n",
      " 10  color         109902 non-null  object \n",
      " 11  interior      109902 non-null  object \n",
      " 12  seller        110060 non-null  object \n",
      " 13  saledate      110060 non-null  object \n",
      "dtypes: float64(2), int64(1), object(11)\n",
      "memory usage: 11.8+ MB\n"
     ]
    }
   ],
   "source": [
    "test.info()"
   ]
  },
  {
   "cell_type": "code",
   "execution_count": null,
   "metadata": {
    "colab": {
     "base_uri": "https://localhost:8080/"
    },
    "id": "xG8-GxaglLGE",
    "outputId": "72e96451-f84d-47ab-a125-a29766e65ccc"
   },
   "outputs": [
    {
     "data": {
      "text/plain": [
       "year                0\n",
       "make             2061\n",
       "model            2079\n",
       "trim             2114\n",
       "body             2594\n",
       "transmission    13012\n",
       "vin                 0\n",
       "state               0\n",
       "condition        2379\n",
       "odometer           19\n",
       "color             158\n",
       "interior          158\n",
       "seller              0\n",
       "saledate            0\n",
       "dtype: int64"
      ]
     },
     "execution_count": 250,
     "metadata": {},
     "output_type": "execute_result"
    }
   ],
   "source": [
    "test.isna().sum()"
   ]
  },
  {
   "cell_type": "markdown",
   "metadata": {
    "id": "EzwFMWk1lUNe"
   },
   "source": [
    "#### year"
   ]
  },
  {
   "cell_type": "code",
   "execution_count": null,
   "metadata": {
    "colab": {
     "base_uri": "https://localhost:8080/"
    },
    "id": "7dX_Ki2PlXSS",
    "outputId": "d9021723-9e13-4ecc-edc0-bc70daaea347"
   },
   "outputs": [
    {
     "data": {
      "text/plain": [
       "array([1982, 1984, 1986, 1987, 1989, 1990, 1991, 1992, 1993, 1994, 1995,\n",
       "       1996, 1997, 1998, 1999, 2000, 2001, 2002, 2003, 2004, 2005, 2006,\n",
       "       2007, 2008, 2009, 2010, 2011, 2012, 2013, 2014, 2015])"
      ]
     },
     "execution_count": 251,
     "metadata": {},
     "output_type": "execute_result"
    }
   ],
   "source": [
    "test['year'].sort_values().unique()"
   ]
  },
  {
   "cell_type": "markdown",
   "metadata": {
    "id": "MVpOW8YGmfou"
   },
   "source": [
    "#### make"
   ]
  },
  {
   "cell_type": "code",
   "execution_count": null,
   "metadata": {
    "colab": {
     "base_uri": "https://localhost:8080/"
    },
    "id": "ETvoIPEmml91",
    "outputId": "4c5d9de2-aeb0-48d4-b0ab-c26bb1339309"
   },
   "outputs": [
    {
     "data": {
      "text/plain": [
       "array(['Acura', 'Aston Martin', 'Audi', 'BMW', 'Bentley', 'Buick',\n",
       "       'Cadillac', 'Chevrolet', 'Chrysler', 'Daewoo', 'Dodge', 'FIAT',\n",
       "       'Ferrari', 'Fisker', 'Ford', 'GMC', 'Geo', 'HUMMER', 'Honda',\n",
       "       'Hyundai', 'Infiniti', 'Isuzu', 'Jaguar', 'Jeep', 'Kia',\n",
       "       'Land Rover', 'Lexus', 'Lincoln', 'Lotus', 'MINI', 'Maserati',\n",
       "       'Mazda', 'Mercedes-Benz', 'Mercury', 'Mitsubishi', 'Nissan',\n",
       "       'Oldsmobile', 'Plymouth', 'Pontiac', 'Porsche', 'Ram',\n",
       "       'Rolls-Royce', 'Saab', 'Saturn', 'Scion', 'Subaru', 'Suzuki',\n",
       "       'Tesla', 'Toyota', 'Volkswagen', 'Volvo', 'acura', 'audi', 'bmw',\n",
       "       'buick', 'cadillac', 'chev truck', 'chevrolet', 'chrysler',\n",
       "       'dodge', 'ford', 'ford tk', 'gmc', 'honda', 'hyundai',\n",
       "       'hyundai tk', 'jeep', 'kia', 'land rover', 'landrover', 'lexus',\n",
       "       'lincoln', 'mazda', 'mercedes', 'mercury', 'mitsubishi', 'nissan',\n",
       "       'oldsmobile', 'pontiac', 'porsche', 'smart', 'subaru', 'toyota',\n",
       "       'volkswagen', 'vw', nan], dtype=object)"
      ]
     },
     "execution_count": 252,
     "metadata": {},
     "output_type": "execute_result"
    }
   ],
   "source": [
    "test['make'].sort_values().unique()"
   ]
  },
  {
   "cell_type": "code",
   "execution_count": null,
   "metadata": {
    "id": "ZoijPxFvmxEu"
   },
   "outputs": [],
   "source": [
    "test['make'] = test['make'].str.lower()\n",
    "test['make'] = test['make'].str.replace('chev truck', 'chevrolet')\n",
    "test['make'] = test['make'].str.replace('ford tk', 'ford')\n",
    "test['make'] = test['make'].str.replace('hyundai tk', 'hyundai') \n",
    "test['make'] = test['make'].str.replace('landrover', 'land rover')\n",
    "test['make'] = test['make'].str.replace('mercedes-benz', 'mercedes')\n",
    "test['make'] = test['make'].str.replace('vw', 'volkswagen') \n",
    "test['make'] = test['make'].fillna('-')"
   ]
  },
  {
   "cell_type": "markdown",
   "metadata": {
    "id": "_UWTuyb2cHSu"
   },
   "source": [
    "Пропуски заполнены значением '-'. Названия производителей приведены к нижнему регистру. Переименованы повторяющиеся названия."
   ]
  },
  {
   "cell_type": "markdown",
   "metadata": {
    "id": "AIV-Lcytpmrk"
   },
   "source": [
    "#### model"
   ]
  },
  {
   "cell_type": "code",
   "execution_count": null,
   "metadata": {
    "colab": {
     "base_uri": "https://localhost:8080/"
    },
    "id": "RllDvsrXppIZ",
    "outputId": "6fc69395-befa-4ec1-c14b-714071a9042b"
   },
   "outputs": [
    {
     "data": {
      "text/plain": [
       "array(['1', '1 Series', '1500', '2 Series', '200', '200SX', '2500', '3',\n",
       "       '3 Series', '3 Series Gran Turismo', '300', '300-Class', '3000GT',\n",
       "       '300M', '300ZX', '300e', '350', '3500', '350Z', '350z', '360',\n",
       "       '370Z', '4 Series', '4 Series Gran Coupe', '4Runner', '5 Series',\n",
       "       '5 Series Gran Turismo', '500', '500L', '6', '6 Series',\n",
       "       '6 Series Gran Coupe', '626', '7 Series', '750i', '750li', '850',\n",
       "       '9-2X', '9-3', '9-5', '9-7X', '911', 'A3', 'A4', 'A5', 'A6', 'A7',\n",
       "       'A8', 'ATS', 'Acadia', 'Accent', 'Accord', 'Accord Crosstour',\n",
       "       'Accord Hybrid', 'Achieva', 'ActiveHybrid 5', 'ActiveHybrid X6',\n",
       "       'Aerio', 'Alero', 'Altima', 'Altima Hybrid', 'Amanti', 'Armada',\n",
       "       'Ascender', 'Aspen', 'Aspire', 'Astra', 'Astro', 'Astro Cargo',\n",
       "       'Aura', 'Aurora', 'Avalanche', 'Avalon', 'Avalon Hybrid',\n",
       "       'Avenger', 'Aveo', 'Aviator', 'Axiom', 'Azera', 'Aztek',\n",
       "       'B-Class Electric Drive', 'B-Series Pickup', 'B-Series Truck',\n",
       "       'B9 Tribeca', 'BRZ', 'Baja', 'Beetle', 'Beetle Convertible',\n",
       "       'Black Diamond Avalanche', 'Blackwood', 'Blazer', 'Bonneville',\n",
       "       'Borrego', 'Boxster', 'Bravada', 'Breeze', 'C-Class',\n",
       "       'C-Max Energi', 'C-Max Hybrid', 'C/K 1500 Series',\n",
       "       'C/K 2500 Series', 'C/V Cargo Van', 'C/V Tradesman', 'C30', 'C70',\n",
       "       'CC', 'CL', 'CL-Class', 'CLA-Class', 'CLK-Class', 'CLS-Class',\n",
       "       'CR-V', 'CR-Z', 'CT 200h', 'CTS', 'CTS Coupe', 'CTS Wagon',\n",
       "       'CTS-V', 'CTS-V Coupe', 'CX-5', 'CX-7', 'CX-9', 'Cabrio',\n",
       "       'Cadenza', 'Caliber', 'Camaro', 'Camry', 'Camry Hybrid',\n",
       "       'Camry Solara', 'Canyon', 'Caprice', 'Captiva Sport', 'Caravan',\n",
       "       'Catera', 'Cavalier', 'Cayenne', 'Cayman', 'Cayman S', 'Celica',\n",
       "       'Century', 'Challenger', 'Charger', 'Cherokee', 'Cirrus', 'Civic',\n",
       "       'Classic', 'Cobalt', 'Colorado', 'Commander', 'Compass',\n",
       "       'Concorde', 'Continental', 'Continental Flying Spur',\n",
       "       'Continental Flying Spur Speed', 'Continental GT',\n",
       "       'Continental GTC', 'Contour', 'Cooper', 'Cooper Clubman',\n",
       "       'Cooper Countryman', 'Cooper Coupe', 'Cooper Paceman',\n",
       "       'Cooper Roadster', 'Corolla', 'Corvette', 'Corvette Stingray',\n",
       "       'Cougar', 'Crossfire', 'Crosstour', 'Crown Victoria', 'Cruze',\n",
       "       'Cube', 'Cutlass', 'Cutlass Ciera', 'Cutlass Supreme', 'DTS',\n",
       "       'Dakota', 'Dart', 'DeVille', 'Diamante', 'Discovery Series II',\n",
       "       'Durango', 'E-150', 'E-Class', 'E-Series Van', 'E-Series Wagon',\n",
       "       'ECHO', 'ES 300', 'ES 300h', 'ES 330', 'ES 350', 'EX', 'EX35',\n",
       "       'Eclipse', 'Eclipse Spyder', 'Econoline Cargo', 'Econoline Wagon',\n",
       "       'Edge', 'Eighty-Eight', 'Eighty-Eight Royale', 'Elantra',\n",
       "       'Elantra Coupe', 'Elantra GT', 'Elantra Touring', 'Eldorado',\n",
       "       'Element', 'Enclave', 'Encore', 'Endeavor', 'Entourage', 'Envoy',\n",
       "       'Envoy XL', 'Envoy XUV', 'Eos', 'Equator', 'Equinox', 'Equus',\n",
       "       'Escalade', 'Escalade ESV', 'Escalade EXT', 'Escalade Hybrid',\n",
       "       'Escape', 'Escape Hybrid', 'Escort', 'Excursion', 'Exige',\n",
       "       'Expedition', 'Expedition EL', 'Explorer', 'Explorer Sport',\n",
       "       'Explorer Sport Trac', 'Express', 'Express Cargo', 'F-150',\n",
       "       'F-150 Heritage', 'F-150 SVT Lightning', 'F-250 Super Duty',\n",
       "       'F-350 Super Duty', 'F-450 Super Duty', 'F-TYPE', 'F430',\n",
       "       'FJ Cruiser', 'FR-S', 'FX', 'FX35', 'FX45', 'FX50', 'Fiesta',\n",
       "       'Firebird', 'Fit', 'Five Hundred', 'Flex', 'Flying Spur', 'Focus',\n",
       "       'Focus ST', 'Forenza', 'Forester', 'Forte', 'Freelander',\n",
       "       'Freestar', 'Freestyle', 'Frontier', 'Fusion', 'Fusion Energi',\n",
       "       'Fusion Hybrid', 'G Convertible', 'G Coupe', 'G Sedan', 'G-Class',\n",
       "       'G20', 'G3', 'G35', 'G37', 'G37 Convertible', 'G37 Coupe', 'G5',\n",
       "       'G6', 'G8', 'GL-Class', 'GLI', 'GLK-Class', 'GS 300', 'GS 350',\n",
       "       'GS 400', 'GS 430', 'GS 450h', 'GT-R', 'GTI', 'GTO', 'GX 460',\n",
       "       'GX 470', 'Galant', 'Genesis', 'Genesis Coupe', 'Ghibli', 'Ghost',\n",
       "       'Golf', 'Golf GTI', 'Golf R', 'GranSport', 'GranTurismo',\n",
       "       'GranTurismo Convertible', 'Grand Am', 'Grand Caravan',\n",
       "       'Grand Cherokee', 'Grand Cherokee SRT', 'Grand Marquis',\n",
       "       'Grand Prix', 'Grand Vitara', 'H2', 'H2 SUT', 'H3', 'H3T', 'HHR',\n",
       "       'HS 250h', 'Highlander', 'Highlander Hybrid', 'I30', 'I35', 'ILX',\n",
       "       'ION', 'IS 250', 'IS 250 C', 'IS 300', 'IS 350', 'IS 350 C',\n",
       "       'IS F', 'Impala', 'Impala Limited', 'Impreza', 'Impreza WRX',\n",
       "       'Insight', 'Integra', 'Intrepid', 'Intrigue', 'JX', 'Jetta',\n",
       "       'Jetta GLI', 'Jetta Hybrid', 'Jetta SportWagen', 'Jimmy',\n",
       "       'Journey', 'Juke', 'K900', 'Karma', 'Kizashi', 'L-Series', 'L300',\n",
       "       'LHS', 'LR2', 'LR3', 'LR4', 'LS', 'LS 400', 'LS 430', 'LS 460',\n",
       "       'LS 600h L', 'LX 470', 'LX 570', 'LaCrosse', 'Lancer',\n",
       "       'Lancer Evolution', 'Lancer Sportback', 'Land Cruiser', 'LeSabre',\n",
       "       'Leaf', 'Legacy', 'Leganza', 'Liberty', 'Lucerne', 'Lumina', 'M',\n",
       "       'M-Class', 'M3', 'M35', 'M37', 'M4', 'M45', 'M5', 'M56', 'M6',\n",
       "       'M6 Gran Coupe', 'MDX', 'MKC', 'MKS', 'MKT', 'MKX', 'MKZ',\n",
       "       'MKZ Hybrid', 'MPV', 'MR2 Spyder', 'MX-5 Miata', 'Macan', 'Magnum',\n",
       "       'Malibu', 'Malibu Classic', 'Malibu Hybrid', 'Malibu Maxx',\n",
       "       'Marauder', 'Mariner', 'Mariner Hybrid', 'Mark LT', 'Matrix',\n",
       "       'Maxima', 'Mazda2', 'Mazda3', 'Mazda5', 'Mazda6', 'Mazdaspeed 3',\n",
       "       'Mazdaspeed Mazda3', 'Mazdaspeed Mazda6', 'Mazdaspeed Protege',\n",
       "       'Mazdaspeed3', 'Milan', 'Milan Hybrid', 'Millenia', 'Mirage',\n",
       "       'Model S', 'Montana', 'Monte Carlo', 'Montego', 'Monterey',\n",
       "       'Montero', 'Montero Sport', 'Mountaineer', 'Murano',\n",
       "       'Murano CrossCabriolet', 'Mustang', 'Mustang SVT Cobra', 'NV',\n",
       "       'NV Cargo', 'NV200', 'Navigator', 'Navigator L', 'Neon',\n",
       "       'New Beetle', 'Nitro', 'Nubira', 'Odyssey', 'Optima', 'Outback',\n",
       "       'Outlander', 'Outlander Sport', 'Outlook', 'PT Cruiser',\n",
       "       'Pacifica', 'Panamera', 'Park Avenue', 'Passat', 'Passport',\n",
       "       'Pathfinder', 'Patriot', 'Phaeton', 'Pickup', 'Pilot', 'Prelude',\n",
       "       'Prius', 'Prius Plug-in', 'Prius c', 'Prius v', 'Prizm',\n",
       "       'Promaster Cargo Van', 'Protege', 'Protege5', 'Prowler', 'Q45',\n",
       "       'Q5', 'Q50', 'Q60 Convertible', 'Q60 Coupe', 'Q7', 'Q70', 'QX',\n",
       "       'QX4', 'QX50', 'QX56', 'QX60', 'QX70', 'QX80', 'Quattroporte',\n",
       "       'Quest', 'R-Class', 'R32', 'R8', 'RAV4', 'RC 350', 'RC F', 'RDX',\n",
       "       'RL', 'RLX', 'RS 5', 'RS 6', 'RS 7', 'RSX', 'RX 300', 'RX 330',\n",
       "       'RX 350', 'RX 400h', 'RX 450h', 'RX-8', 'Rabbit', 'Raider',\n",
       "       'Rainier', 'Ram Cargo', 'Ram Pickup 1500', 'Ram Pickup 2500',\n",
       "       'Ram Pickup 3500', 'Range Rover', 'Range Rover Evoque',\n",
       "       'Range Rover Sport', 'Ranger', 'Regal', 'Relay', 'Rendezvous',\n",
       "       'Reno', 'Ridgeline', 'Rio', 'Riviera', 'Rodeo', 'Rodeo Sport',\n",
       "       'Rogue', 'Rogue Select', 'Rondo', 'Routan', 'S-10', 'S-10 Blazer',\n",
       "       'S-Class', 'S-Series', 'S-Type', 'S2000', 'S4', 'S40', 'S5', 'S6',\n",
       "       'S60', 'S7', 'S70', 'S8', 'S80', 'S90', 'SC 300', 'SC 400',\n",
       "       'SC 430', 'SL-Class', 'SLK-Class', 'SLS AMG GT', 'SQ5', 'SRX',\n",
       "       'SS', 'SSR', 'STS', 'STS-V', 'SX4', 'Sable', 'Santa Fe',\n",
       "       'Santa Fe Sport', 'Savana', 'Savana Cargo', 'Sebring', 'Sedona',\n",
       "       'Sentra', 'Sephia', 'Sequoia', 'Seville', 'Shelby GT500',\n",
       "       'Sidekick', 'Sienna', 'Sierra 1500', 'Sierra 1500 Classic',\n",
       "       'Sierra 1500 Hybrid', 'Sierra 1500HD', 'Sierra 2500HD',\n",
       "       'Sierra 2500HD Classic', 'Sierra 3500', 'Sierra 3500HD',\n",
       "       'Silhouette', 'Silverado 1500', 'Silverado 1500 Classic',\n",
       "       'Silverado 1500HD', 'Silverado 2500', 'Silverado 2500HD',\n",
       "       'Silverado 2500HD Classic', 'Silverado 3500', 'Silverado 3500HD',\n",
       "       'Sky', 'Solstice', 'Sonata', 'Sonata Hybrid', 'Sonic', 'Sonoma',\n",
       "       'Sorento', 'Soul', 'Spark', 'Spectra', 'Sportage', 'Sprinter',\n",
       "       'Sprinter Cargo', 'Stratus', 'Suburban', 'Sunfire', 'TL', 'TLX',\n",
       "       'TSX', 'TSX Sport Wagon', 'TT', 'Tacoma', 'Tahoe', 'Tahoe Hybrid',\n",
       "       'Tahoe Limited/Z71', 'Taurus', 'Taurus X', 'Tempo', 'Tercel',\n",
       "       'Terrain', 'Terraza', 'Thunderbird', 'Tiburon', 'Tiguan', 'Titan',\n",
       "       'Torrent', 'Touareg', 'Touareg 2', 'Town Car', 'Town and Country',\n",
       "       'Tracer', 'Tracker', 'TrailBlazer', 'TrailBlazer EXT',\n",
       "       'Transit Connect', 'Transit Van', 'Transit Wagon', 'Traverse',\n",
       "       'Tribeca', 'Tribute', 'Trooper', 'Truck', 'Tucson', 'Tundra',\n",
       "       'Uplander', 'V40', 'V50', 'V60', 'V70', 'V8 Vantage', 'VUE',\n",
       "       'VUE Hybrid', 'Veloster', 'Venture', 'Venza', 'Veracruz', 'Verano',\n",
       "       'Verona', 'Versa', 'Versa Note', 'Vibe', 'Villager', 'Viper',\n",
       "       'Vitara', 'Volt', 'Voyager', 'WRX', 'Windstar', 'Wrangler',\n",
       "       'X-Type', 'X1', 'X3', 'X4', 'X5', 'X5 M', 'X6', 'X6 M', 'XC',\n",
       "       'XC60', 'XC70', 'XC90', 'XF', 'XG300', 'XG350', 'XJ', 'XJ-Series',\n",
       "       'XK', 'XK-Series', 'XL-7', 'XL7', 'XLR', 'XTS', 'XV Crosstrek',\n",
       "       'Xterra', 'Yaris', 'Yukon', 'Yukon Denali', 'Yukon Hybrid',\n",
       "       'Yukon XL', 'Z3', 'Z4', 'ZDX', 'Zephyr', 'a6', 'accord', 'alero',\n",
       "       'allroad', 'allroad quattro', 'allure', 'alp', 'astro', 'b1500',\n",
       "       'beetle', 'borrego', 'bronco', 'c230wz', 'c240w', 'caravan',\n",
       "       'charger', 'ciera', 'civic', 'cobalt', 'colorado', 'compass',\n",
       "       'corolla', 'corvette', 'cx-7', 'dakota', 'discovery', 'dts',\n",
       "       'durango', 'e', 'e150', 'e250', 'e350', 'el', 'elantra',\n",
       "       'endeavor', 'envoy', 'escape', 'eurovan', 'expedition', 'expeditn',\n",
       "       'explorer', 'f150', 'f250', 'f350', 'focus', 'forester', 'fortwo',\n",
       "       'freestyle', 'g1500', 'g3500', 'g5', 'g6', 'galant', 'gr', 'grand',\n",
       "       'gx', 'hhr', 'i-MiEV', 'i-Series', 'i8', 'iQ', 'impala',\n",
       "       'intrepid', 'jetta', 'journey', 'lancer', 'lr3', 'lx', 'magnum',\n",
       "       'malibu', 'mazda5', 'mazda6', 'mdx', 'mkt', 'montana', 'mpv',\n",
       "       'odyssey', 'pacifica', 'pathfind', 'patriot', 'pilot', 'police',\n",
       "       'previa', 'pursuit', 'quest', 'ram3500', 'range', 'ranger',\n",
       "       'rangerover', 'regal', 'ridgelin', 'rio', 'rl', 'routan', 'rx8',\n",
       "       's10', 's55', 'santa', 'sebring', 'sienna', 'silhouette', 'sonic',\n",
       "       'sprinter', 'srx', 'stratus', 'sts', 'suburban', 'tC', 'taurus',\n",
       "       'thunderbird', 'town', 'tribute', 'tt', 'tundra', 'twn&country',\n",
       "       'uplander', 'venture', 'vibe', 'villager', 'windstar', 'wrangler',\n",
       "       'x-trail', 'x3', 'xA', 'xB', 'xD', 'yaris', nan], dtype=object)"
      ]
     },
     "execution_count": 254,
     "metadata": {},
     "output_type": "execute_result"
    }
   ],
   "source": [
    "test['model'].sort_values().unique()"
   ]
  },
  {
   "cell_type": "code",
   "execution_count": null,
   "metadata": {
    "id": "9FvBM5abAp5T"
   },
   "outputs": [],
   "source": [
    "test['model'] = test['model'].str.lower()\n",
    "test['model'] = test['model'].fillna('-')"
   ]
  },
  {
   "cell_type": "code",
   "execution_count": null,
   "metadata": {
    "id": "VwTbOpRDQjGx"
   },
   "outputs": [],
   "source": [
    "test['model'] = test['model'].apply(lambda x: 'rare' if x not in common_models else x)"
   ]
  },
  {
   "cell_type": "markdown",
   "metadata": {
    "id": "qOMZLOoEcvNr"
   },
   "source": [
    "Пропуски заполнены значением '-'. Названия моделей приведены к нижнему регистру. Редкие значения заменены на 'rare'."
   ]
  },
  {
   "cell_type": "markdown",
   "metadata": {
    "id": "_XgieLOVA94w"
   },
   "source": [
    "#### trim"
   ]
  },
  {
   "cell_type": "code",
   "execution_count": null,
   "metadata": {
    "colab": {
     "base_uri": "https://localhost:8080/"
    },
    "id": "bTUkmoxTBjf4",
    "outputId": "5a3d0ea0-c97e-44a7-c2a8-3cb56f6c1052"
   },
   "outputs": [
    {
     "data": {
      "text/plain": [
       "1496"
      ]
     },
     "execution_count": 257,
     "metadata": {},
     "output_type": "execute_result"
    }
   ],
   "source": [
    "test['trim'].nunique()"
   ]
  },
  {
   "cell_type": "code",
   "execution_count": null,
   "metadata": {
    "id": "_3Tm_DpYByEd"
   },
   "outputs": [],
   "source": [
    "test['trim'] = test['trim'].str.lower()\n",
    "test['trim'] = test['trim'].fillna('-')"
   ]
  },
  {
   "cell_type": "code",
   "execution_count": null,
   "metadata": {
    "id": "m91E3whQQjGy"
   },
   "outputs": [],
   "source": [
    "test['trim'] = test['trim'].apply(lambda x: 'rare' if x not in common_trim else x)"
   ]
  },
  {
   "cell_type": "markdown",
   "metadata": {
    "id": "uUCn2LqhdPtF"
   },
   "source": [
    "Пропуски заполнены значением '-'. Названия модификаций приведены к нижнему регистру. Редкие значения заменены на 'rare'."
   ]
  },
  {
   "cell_type": "markdown",
   "metadata": {
    "id": "-bSNbteeCOzh"
   },
   "source": [
    "#### body"
   ]
  },
  {
   "cell_type": "code",
   "execution_count": null,
   "metadata": {
    "colab": {
     "base_uri": "https://localhost:8080/"
    },
    "id": "80dxmCByCRth",
    "outputId": "3b78d44f-244e-4daa-e014-260915d7bbfe"
   },
   "outputs": [
    {
     "data": {
      "text/plain": [
       "array(['Access Cab', 'Beetle Convertible', 'CTS Coupe', 'CTS Wagon',\n",
       "       'CTS-V Coupe', 'Cab Plus', 'Club Cab', 'Convertible', 'Coupe',\n",
       "       'Crew Cab', 'CrewMax Cab', 'Double Cab', 'E-Series Van',\n",
       "       'Elantra Coupe', 'Extended Cab', 'G Convertible', 'G Coupe',\n",
       "       'G Sedan', 'G37 Convertible', 'G37 Coupe', 'Genesis Coupe',\n",
       "       'GranTurismo Convertible', 'Hatchback', 'King Cab', 'Koup',\n",
       "       'Mega Cab', 'Minivan', 'Promaster Cargo Van', 'Q60 Convertible',\n",
       "       'Q60 Coupe', 'Quad Cab', 'Regular Cab', 'SUV', 'Sedan', 'SuperCab',\n",
       "       'SuperCrew', 'TSX Sport Wagon', 'Transit Van', 'Van', 'Wagon',\n",
       "       'Xtracab', 'access cab', 'club cab', 'convertible', 'coupe',\n",
       "       'crew cab', 'crewmax cab', 'cts coupe', 'cts-v coupe',\n",
       "       'double cab', 'e-series van', 'elantra coupe', 'extended cab',\n",
       "       'g convertible', 'g coupe', 'g sedan', 'genesis coupe',\n",
       "       'granturismo convertible', 'hatchback', 'king cab', 'koup',\n",
       "       'mega cab', 'minivan', 'promaster cargo van', 'q60 convertible',\n",
       "       'quad cab', 'regular cab', 'regular-cab', 'sedan', 'supercab',\n",
       "       'supercrew', 'suv', 'transit van', 'tsx sport wagon', 'van',\n",
       "       'wagon', 'xtracab', nan], dtype=object)"
      ]
     },
     "execution_count": 260,
     "metadata": {},
     "output_type": "execute_result"
    }
   ],
   "source": [
    "test['body'].sort_values().unique()"
   ]
  },
  {
   "cell_type": "code",
   "execution_count": null,
   "metadata": {
    "id": "71HH4MYrCfFr"
   },
   "outputs": [],
   "source": [
    "test['body'] = test['body'].str.lower()\n",
    "test['body'] = test['body'].str.replace('regular-cab', 'regular cab')\n",
    "test['body'] = test['body'].fillna('-')"
   ]
  },
  {
   "cell_type": "markdown",
   "metadata": {
    "id": "VOAihzhjdqxn"
   },
   "source": [
    "Пропуски заполнены значением '-'. Названия типов кузова приведены к нижнему регистру. Переименованы повторяющиеся названия."
   ]
  },
  {
   "cell_type": "markdown",
   "metadata": {
    "id": "ca36wYNEDqdO"
   },
   "source": [
    "#### transmission"
   ]
  },
  {
   "cell_type": "code",
   "execution_count": null,
   "metadata": {
    "colab": {
     "base_uri": "https://localhost:8080/"
    },
    "id": "O-34W9ouDtpG",
    "outputId": "fdf477bc-bb5f-47d4-dfde-92d2a1655f9c"
   },
   "outputs": [
    {
     "data": {
      "text/plain": [
       "array(['automatic', nan, 'manual'], dtype=object)"
      ]
     },
     "execution_count": 262,
     "metadata": {},
     "output_type": "execute_result"
    }
   ],
   "source": [
    "test['transmission'].unique()"
   ]
  },
  {
   "cell_type": "code",
   "execution_count": null,
   "metadata": {
    "id": "fEfBanSID6mA"
   },
   "outputs": [],
   "source": [
    "test['transmission'] = test['transmission'].fillna('automatic')"
   ]
  },
  {
   "cell_type": "markdown",
   "metadata": {
    "id": "iaXk6cYFd7Ui"
   },
   "source": [
    "Пропуски заполнены наиболее частым значением('automatic')"
   ]
  },
  {
   "cell_type": "markdown",
   "metadata": {
    "id": "N1afZqn0EKcH"
   },
   "source": [
    "#### state"
   ]
  },
  {
   "cell_type": "code",
   "execution_count": null,
   "metadata": {
    "colab": {
     "base_uri": "https://localhost:8080/"
    },
    "id": "sSBQ_A-XEPmK",
    "outputId": "c894e321-a75d-4935-ed03-9ba88acdfac2"
   },
   "outputs": [
    {
     "data": {
      "text/plain": [
       "array(['ab', 'al', 'az', 'ca', 'co', 'fl', 'ga', 'hi', 'il', 'in', 'la',\n",
       "       'ma', 'md', 'mi', 'mn', 'mo', 'ms', 'nc', 'ne', 'nj', 'nm', 'ns',\n",
       "       'nv', 'ny', 'oh', 'ok', 'on', 'or', 'pa', 'pr', 'qc', 'sc', 'tn',\n",
       "       'tx', 'ut', 'va', 'wa', 'wi'], dtype=object)"
      ]
     },
     "execution_count": 264,
     "metadata": {},
     "output_type": "execute_result"
    }
   ],
   "source": [
    "test['state'].sort_values().unique()"
   ]
  },
  {
   "cell_type": "markdown",
   "metadata": {
    "id": "Y33JM6-qrUOv"
   },
   "source": [
    "#### condition"
   ]
  },
  {
   "cell_type": "code",
   "execution_count": null,
   "metadata": {
    "colab": {
     "base_uri": "https://localhost:8080/"
    },
    "id": "MABuT44srllc",
    "outputId": "db7cfde7-cbc7-44f0-868c-c5fbce3376d2"
   },
   "outputs": [
    {
     "data": {
      "text/plain": [
       "array([1. , 1.1, 1.2, 1.3, 1.4, 1.5, 1.6, 1.7, 1.8, 1.9, 2. , 2.1, 2.2,\n",
       "       2.3, 2.4, 2.5, 2.6, 2.7, 2.8, 2.9, 3. , 3.1, 3.2, 3.3, 3.4, 3.5,\n",
       "       3.6, 3.7, 3.8, 3.9, 4. , 4.1, 4.2, 4.3, 4.4, 4.5, 4.6, 4.7, 4.8,\n",
       "       4.9, 5. , nan])"
      ]
     },
     "execution_count": 265,
     "metadata": {},
     "output_type": "execute_result"
    }
   ],
   "source": [
    "test['condition'].sort_values().unique()"
   ]
  },
  {
   "cell_type": "code",
   "execution_count": null,
   "metadata": {
    "id": "X50qfwV0r_dS"
   },
   "outputs": [],
   "source": [
    "test['condition'] =  test['condition'].fillna(np.round(test['condition'].mean(), 1))"
   ]
  },
  {
   "cell_type": "markdown",
   "metadata": {
    "id": "lgw3ioxaeCOy"
   },
   "source": [
    "Пропуски заполнены средним значением."
   ]
  },
  {
   "cell_type": "markdown",
   "metadata": {
    "id": "g_kW5EKws9Ma"
   },
   "source": [
    "#### odometer"
   ]
  },
  {
   "cell_type": "code",
   "execution_count": null,
   "metadata": {
    "colab": {
     "base_uri": "https://localhost:8080/"
    },
    "id": "gSaDzBUNtIL2",
    "outputId": "c326a5a5-42f7-4e8b-b686-3dcc78595906"
   },
   "outputs": [
    {
     "data": {
      "text/plain": [
       "0    116970.0\n",
       "1      6286.0\n",
       "2     11831.0\n",
       "3     57105.0\n",
       "4     31083.0\n",
       "Name: odometer, dtype: float64"
      ]
     },
     "execution_count": 267,
     "metadata": {},
     "output_type": "execute_result"
    }
   ],
   "source": [
    "test['odometer'].head(5)"
   ]
  },
  {
   "cell_type": "code",
   "execution_count": null,
   "metadata": {
    "id": "evHxZwaPtBDJ"
   },
   "outputs": [],
   "source": [
    "test['odometer'] = test['odometer'].fillna(np.round(test['odometer'].mean(), 0))"
   ]
  },
  {
   "cell_type": "markdown",
   "metadata": {
    "id": "NR8Zyvu4eICq"
   },
   "source": [
    "Пропуски заполнены средним значением."
   ]
  },
  {
   "cell_type": "markdown",
   "metadata": {
    "id": "WWhMUno8tc6b"
   },
   "source": [
    "#### color"
   ]
  },
  {
   "cell_type": "code",
   "execution_count": null,
   "metadata": {
    "colab": {
     "base_uri": "https://localhost:8080/"
    },
    "id": "T7FMcXu6tf6U",
    "outputId": "d3f2fe9e-dc69-46ac-aecd-9726570d9764"
   },
   "outputs": [
    {
     "data": {
      "text/plain": [
       "array(['beige', 'black', 'blue', 'brown', 'burgundy', 'charcoal', 'gold',\n",
       "       'gray', 'green', 'lime', 'off-white', 'orange', 'pink', 'purple',\n",
       "       'red', 'silver', 'turquoise', 'white', 'yellow', '—', nan],\n",
       "      dtype=object)"
      ]
     },
     "execution_count": 269,
     "metadata": {},
     "output_type": "execute_result"
    }
   ],
   "source": [
    "test['color'].sort_values().unique()"
   ]
  },
  {
   "cell_type": "code",
   "execution_count": null,
   "metadata": {
    "id": "x-V74QFetmTq"
   },
   "outputs": [],
   "source": [
    "test['color'] = test['color'].fillna('—')"
   ]
  },
  {
   "cell_type": "markdown",
   "metadata": {
    "id": "az5ji_XYeMzM"
   },
   "source": [
    "Пропуски заполнены значением '—'"
   ]
  },
  {
   "cell_type": "markdown",
   "metadata": {
    "id": "BesqwWghtxDm"
   },
   "source": [
    "#### interior"
   ]
  },
  {
   "cell_type": "code",
   "execution_count": null,
   "metadata": {
    "colab": {
     "base_uri": "https://localhost:8080/"
    },
    "id": "FXbR6R34twHS",
    "outputId": "6b8ae753-874b-4ca4-cefd-2de1f330ed72"
   },
   "outputs": [
    {
     "data": {
      "text/plain": [
       "array(['beige', 'black', 'blue', 'brown', 'burgundy', 'gold', 'gray',\n",
       "       'green', 'off-white', 'orange', 'purple', 'red', 'silver', 'tan',\n",
       "       'white', 'yellow', '—', nan], dtype=object)"
      ]
     },
     "execution_count": 271,
     "metadata": {},
     "output_type": "execute_result"
    }
   ],
   "source": [
    "test['interior'].sort_values().unique()"
   ]
  },
  {
   "cell_type": "code",
   "execution_count": null,
   "metadata": {
    "id": "2cXJyzlSuIex"
   },
   "outputs": [],
   "source": [
    "test['interior'] = test['interior'].fillna('—')"
   ]
  },
  {
   "cell_type": "markdown",
   "metadata": {
    "id": "A-DbPGfmeY65"
   },
   "source": [
    "Пропуски заполнены значением '—'"
   ]
  },
  {
   "cell_type": "markdown",
   "metadata": {
    "id": "eFzOoTItQjG3"
   },
   "source": [
    "#### seller"
   ]
  },
  {
   "cell_type": "code",
   "execution_count": null,
   "metadata": {
    "id": "2PWZFPQmQjG4"
   },
   "outputs": [],
   "source": [
    "test['seller'] = test['seller'].apply(lambda x: 'rare' if x not in common_seller else x)"
   ]
  },
  {
   "cell_type": "markdown",
   "metadata": {
    "id": "wrjLfxfReiLV"
   },
   "source": [
    "Редко встечающиеся названия продавцов переименованы в 'rare'."
   ]
  },
  {
   "cell_type": "markdown",
   "metadata": {
    "id": "Pr8AChpfurrV"
   },
   "source": [
    "## Исследовательский анализ"
   ]
  },
  {
   "cell_type": "markdown",
   "metadata": {
    "id": "UuBk_uKuuxMK"
   },
   "source": [
    "### train"
   ]
  },
  {
   "cell_type": "code",
   "execution_count": null,
   "metadata": {
    "id": "kvfc1XGH2gGf"
   },
   "outputs": [],
   "source": [
    "train['saledate'] = pd.to_datetime(train['saledate'], utc=True)"
   ]
  },
  {
   "cell_type": "code",
   "execution_count": null,
   "metadata": {
    "id": "Vi2GDnjf3KPS"
   },
   "outputs": [],
   "source": [
    "train['sale_month'] = train['saledate'].dt.month\n",
    "train['sale_year'] = train['saledate'].dt.year"
   ]
  },
  {
   "cell_type": "code",
   "execution_count": null,
   "metadata": {
    "id": "oxV-r4xgDAdQ"
   },
   "outputs": [],
   "source": [
    "train = train.drop('saledate', axis=1)"
   ]
  },
  {
   "cell_type": "code",
   "execution_count": null,
   "metadata": {
    "colab": {
     "base_uri": "https://localhost:8080/",
     "height": 339
    },
    "id": "pTQQCrBk3ZS2",
    "outputId": "24a69ab2-1d9d-482f-963f-de6423034636"
   },
   "outputs": [
    {
     "data": {
      "text/html": [
       "\n",
       "  <div id=\"df-b30dde17-738e-4314-80f8-a05c53d7c034\">\n",
       "    <div class=\"colab-df-container\">\n",
       "      <div>\n",
       "<style scoped>\n",
       "    .dataframe tbody tr th:only-of-type {\n",
       "        vertical-align: middle;\n",
       "    }\n",
       "\n",
       "    .dataframe tbody tr th {\n",
       "        vertical-align: top;\n",
       "    }\n",
       "\n",
       "    .dataframe thead th {\n",
       "        text-align: right;\n",
       "    }\n",
       "</style>\n",
       "<table border=\"1\" class=\"dataframe\">\n",
       "  <thead>\n",
       "    <tr style=\"text-align: right;\">\n",
       "      <th></th>\n",
       "      <th>year</th>\n",
       "      <th>make</th>\n",
       "      <th>model</th>\n",
       "      <th>trim</th>\n",
       "      <th>body</th>\n",
       "      <th>transmission</th>\n",
       "      <th>vin</th>\n",
       "      <th>state</th>\n",
       "      <th>condition</th>\n",
       "      <th>odometer</th>\n",
       "      <th>color</th>\n",
       "      <th>interior</th>\n",
       "      <th>seller</th>\n",
       "      <th>sellingprice</th>\n",
       "      <th>colinterioror</th>\n",
       "      <th>sale_month</th>\n",
       "      <th>sale_year</th>\n",
       "    </tr>\n",
       "  </thead>\n",
       "  <tbody>\n",
       "    <tr>\n",
       "      <th>0</th>\n",
       "      <td>2011</td>\n",
       "      <td>ford</td>\n",
       "      <td>edge</td>\n",
       "      <td>sel</td>\n",
       "      <td>suv</td>\n",
       "      <td>automatic</td>\n",
       "      <td>2fmdk3jc4bba41556</td>\n",
       "      <td>md</td>\n",
       "      <td>4.2</td>\n",
       "      <td>111041.0</td>\n",
       "      <td>black</td>\n",
       "      <td>black</td>\n",
       "      <td>santander consumer</td>\n",
       "      <td>12500</td>\n",
       "      <td>black</td>\n",
       "      <td>6</td>\n",
       "      <td>2015</td>\n",
       "    </tr>\n",
       "    <tr>\n",
       "      <th>1</th>\n",
       "      <td>2014</td>\n",
       "      <td>ford</td>\n",
       "      <td>fusion</td>\n",
       "      <td>se</td>\n",
       "      <td>sedan</td>\n",
       "      <td>automatic</td>\n",
       "      <td>3fa6p0h75er208976</td>\n",
       "      <td>mo</td>\n",
       "      <td>3.5</td>\n",
       "      <td>31034.0</td>\n",
       "      <td>black</td>\n",
       "      <td>black</td>\n",
       "      <td>ars/avis budget group</td>\n",
       "      <td>14500</td>\n",
       "      <td>black</td>\n",
       "      <td>2</td>\n",
       "      <td>2015</td>\n",
       "    </tr>\n",
       "    <tr>\n",
       "      <th>2</th>\n",
       "      <td>2012</td>\n",
       "      <td>nissan</td>\n",
       "      <td>sentra</td>\n",
       "      <td>rare</td>\n",
       "      <td>sedan</td>\n",
       "      <td>automatic</td>\n",
       "      <td>3n1ab6ap4cl698412</td>\n",
       "      <td>nj</td>\n",
       "      <td>2.2</td>\n",
       "      <td>35619.0</td>\n",
       "      <td>black</td>\n",
       "      <td>black</td>\n",
       "      <td>nissan-infiniti lt</td>\n",
       "      <td>9100</td>\n",
       "      <td>black</td>\n",
       "      <td>6</td>\n",
       "      <td>2015</td>\n",
       "    </tr>\n",
       "    <tr>\n",
       "      <th>3</th>\n",
       "      <td>2003</td>\n",
       "      <td>hummer</td>\n",
       "      <td>rare</td>\n",
       "      <td>base</td>\n",
       "      <td>suv</td>\n",
       "      <td>automatic</td>\n",
       "      <td>5grgn23u93h101360</td>\n",
       "      <td>tx</td>\n",
       "      <td>2.8</td>\n",
       "      <td>131301.0</td>\n",
       "      <td>gold</td>\n",
       "      <td>beige</td>\n",
       "      <td>rare</td>\n",
       "      <td>13300</td>\n",
       "      <td>beige</td>\n",
       "      <td>6</td>\n",
       "      <td>2015</td>\n",
       "    </tr>\n",
       "    <tr>\n",
       "      <th>4</th>\n",
       "      <td>2007</td>\n",
       "      <td>ford</td>\n",
       "      <td>fusion</td>\n",
       "      <td>sel</td>\n",
       "      <td>sedan</td>\n",
       "      <td>automatic</td>\n",
       "      <td>3fahp08z17r268380</td>\n",
       "      <td>md</td>\n",
       "      <td>2.0</td>\n",
       "      <td>127709.0</td>\n",
       "      <td>black</td>\n",
       "      <td>black</td>\n",
       "      <td>rare</td>\n",
       "      <td>1300</td>\n",
       "      <td>black</td>\n",
       "      <td>2</td>\n",
       "      <td>2015</td>\n",
       "    </tr>\n",
       "  </tbody>\n",
       "</table>\n",
       "</div>\n",
       "      <button class=\"colab-df-convert\" onclick=\"convertToInteractive('df-b30dde17-738e-4314-80f8-a05c53d7c034')\"\n",
       "              title=\"Convert this dataframe to an interactive table.\"\n",
       "              style=\"display:none;\">\n",
       "        \n",
       "  <svg xmlns=\"http://www.w3.org/2000/svg\" height=\"24px\"viewBox=\"0 0 24 24\"\n",
       "       width=\"24px\">\n",
       "    <path d=\"M0 0h24v24H0V0z\" fill=\"none\"/>\n",
       "    <path d=\"M18.56 5.44l.94 2.06.94-2.06 2.06-.94-2.06-.94-.94-2.06-.94 2.06-2.06.94zm-11 1L8.5 8.5l.94-2.06 2.06-.94-2.06-.94L8.5 2.5l-.94 2.06-2.06.94zm10 10l.94 2.06.94-2.06 2.06-.94-2.06-.94-.94-2.06-.94 2.06-2.06.94z\"/><path d=\"M17.41 7.96l-1.37-1.37c-.4-.4-.92-.59-1.43-.59-.52 0-1.04.2-1.43.59L10.3 9.45l-7.72 7.72c-.78.78-.78 2.05 0 2.83L4 21.41c.39.39.9.59 1.41.59.51 0 1.02-.2 1.41-.59l7.78-7.78 2.81-2.81c.8-.78.8-2.07 0-2.86zM5.41 20L4 18.59l7.72-7.72 1.47 1.35L5.41 20z\"/>\n",
       "  </svg>\n",
       "      </button>\n",
       "      \n",
       "  <style>\n",
       "    .colab-df-container {\n",
       "      display:flex;\n",
       "      flex-wrap:wrap;\n",
       "      gap: 12px;\n",
       "    }\n",
       "\n",
       "    .colab-df-convert {\n",
       "      background-color: #E8F0FE;\n",
       "      border: none;\n",
       "      border-radius: 50%;\n",
       "      cursor: pointer;\n",
       "      display: none;\n",
       "      fill: #1967D2;\n",
       "      height: 32px;\n",
       "      padding: 0 0 0 0;\n",
       "      width: 32px;\n",
       "    }\n",
       "\n",
       "    .colab-df-convert:hover {\n",
       "      background-color: #E2EBFA;\n",
       "      box-shadow: 0px 1px 2px rgba(60, 64, 67, 0.3), 0px 1px 3px 1px rgba(60, 64, 67, 0.15);\n",
       "      fill: #174EA6;\n",
       "    }\n",
       "\n",
       "    [theme=dark] .colab-df-convert {\n",
       "      background-color: #3B4455;\n",
       "      fill: #D2E3FC;\n",
       "    }\n",
       "\n",
       "    [theme=dark] .colab-df-convert:hover {\n",
       "      background-color: #434B5C;\n",
       "      box-shadow: 0px 1px 3px 1px rgba(0, 0, 0, 0.15);\n",
       "      filter: drop-shadow(0px 1px 2px rgba(0, 0, 0, 0.3));\n",
       "      fill: #FFFFFF;\n",
       "    }\n",
       "  </style>\n",
       "\n",
       "      <script>\n",
       "        const buttonEl =\n",
       "          document.querySelector('#df-b30dde17-738e-4314-80f8-a05c53d7c034 button.colab-df-convert');\n",
       "        buttonEl.style.display =\n",
       "          google.colab.kernel.accessAllowed ? 'block' : 'none';\n",
       "\n",
       "        async function convertToInteractive(key) {\n",
       "          const element = document.querySelector('#df-b30dde17-738e-4314-80f8-a05c53d7c034');\n",
       "          const dataTable =\n",
       "            await google.colab.kernel.invokeFunction('convertToInteractive',\n",
       "                                                     [key], {});\n",
       "          if (!dataTable) return;\n",
       "\n",
       "          const docLinkHtml = 'Like what you see? Visit the ' +\n",
       "            '<a target=\"_blank\" href=https://colab.research.google.com/notebooks/data_table.ipynb>data table notebook</a>'\n",
       "            + ' to learn more about interactive tables.';\n",
       "          element.innerHTML = '';\n",
       "          dataTable['output_type'] = 'display_data';\n",
       "          await google.colab.output.renderOutput(dataTable, element);\n",
       "          const docLink = document.createElement('div');\n",
       "          docLink.innerHTML = docLinkHtml;\n",
       "          element.appendChild(docLink);\n",
       "        }\n",
       "      </script>\n",
       "    </div>\n",
       "  </div>\n",
       "  "
      ],
      "text/plain": [
       "   year    make   model  trim   body transmission                vin state  \\\n",
       "0  2011    ford    edge   sel    suv    automatic  2fmdk3jc4bba41556    md   \n",
       "1  2014    ford  fusion    se  sedan    automatic  3fa6p0h75er208976    mo   \n",
       "2  2012  nissan  sentra  rare  sedan    automatic  3n1ab6ap4cl698412    nj   \n",
       "3  2003  hummer    rare  base    suv    automatic  5grgn23u93h101360    tx   \n",
       "4  2007    ford  fusion   sel  sedan    automatic  3fahp08z17r268380    md   \n",
       "\n",
       "   condition  odometer  color interior                 seller  sellingprice  \\\n",
       "0        4.2  111041.0  black    black     santander consumer         12500   \n",
       "1        3.5   31034.0  black    black  ars/avis budget group         14500   \n",
       "2        2.2   35619.0  black    black     nissan-infiniti lt          9100   \n",
       "3        2.8  131301.0   gold    beige                   rare         13300   \n",
       "4        2.0  127709.0  black    black                   rare          1300   \n",
       "\n",
       "  colinterioror  sale_month  sale_year  \n",
       "0         black           6       2015  \n",
       "1         black           2       2015  \n",
       "2         black           6       2015  \n",
       "3         beige           6       2015  \n",
       "4         black           2       2015  "
      ]
     },
     "execution_count": 277,
     "metadata": {},
     "output_type": "execute_result"
    }
   ],
   "source": [
    "train.head()"
   ]
  },
  {
   "cell_type": "code",
   "execution_count": null,
   "metadata": {
    "id": "yt0Ngn0XQjG6"
   },
   "outputs": [],
   "source": [
    "train['age'] = train['sale_year'] - train['year']"
   ]
  },
  {
   "cell_type": "code",
   "execution_count": null,
   "metadata": {
    "id": "qwiYPVZWQjG6"
   },
   "outputs": [],
   "source": [
    "train = train.drop(['sale_year', 'year'], axis=1)"
   ]
  },
  {
   "cell_type": "markdown",
   "metadata": {
    "id": "5XTAhlEyfCRb"
   },
   "source": [
    "Из 'saledate' были получены месяц и год продажи. Из года производсва авто и года продажи был получен возраст авто, который был записан в 'age'. "
   ]
  },
  {
   "cell_type": "markdown",
   "metadata": {
    "id": "vgEPgfCHwlBV"
   },
   "source": [
    "#### transmission"
   ]
  },
  {
   "cell_type": "code",
   "execution_count": null,
   "metadata": {
    "colab": {
     "base_uri": "https://localhost:8080/",
     "height": 89
    },
    "id": "qce4Fyo-wo0m",
    "outputId": "7b8ef56e-3bc8-4a79-a0bf-9d84e7468b09"
   },
   "outputs": [
    {
     "data": {
      "text/plain": [
       "<Axes: >"
      ]
     },
     "execution_count": 280,
     "metadata": {},
     "output_type": "execute_result"
    },
    {
     "data": {
      "image/png": "[encoded data removed]",
      "text/plain": [
       "<Figure size 640x480 with 1 Axes>"
      ]
     },
     "metadata": {},
     "output_type": "display_data"
    }
   ],
   "source": [
    "train['transmission'].hist()"
   ]
  },
  {
   "cell_type": "markdown",
   "metadata": {
    "id": "YFlDhWYzxB8f"
   },
   "source": [
    "#### state"
   ]
  },
  {
   "cell_type": "code",
   "execution_count": null,
   "metadata": {
    "colab": {
     "base_uri": "https://localhost:8080/",
     "height": 89
    },
    "id": "GmGeOgSfxFaZ",
    "outputId": "8fe3ac27-9794-47b6-f1d7-b997da712b81"
   },
   "outputs": [
    {
     "data": {
      "text/plain": [
       "<Axes: >"
      ]
     },
     "execution_count": 281,
     "metadata": {},
     "output_type": "execute_result"
    },
    {
     "data": {
      "image/png": "[encoded data removed]",
      "text/plain": [
       "<Figure size 1200x400 with 1 Axes>"
      ]
     },
     "metadata": {},
     "output_type": "display_data"
    }
   ],
   "source": [
    "train['state'].hist(figsize=(12, 4))"
   ]
  },
  {
   "cell_type": "markdown",
   "metadata": {
    "id": "mAw1pnFGy9qN"
   },
   "source": [
    "#### condition"
   ]
  },
  {
   "cell_type": "code",
   "execution_count": null,
   "metadata": {
    "colab": {
     "base_uri": "https://localhost:8080/",
     "height": 89
    },
    "id": "jpLzpq5qzBw3",
    "outputId": "b1ac5e73-f430-43a0-9e57-3f26fe028698"
   },
   "outputs": [
    {
     "data": {
      "text/plain": [
       "<Axes: >"
      ]
     },
     "execution_count": 282,
     "metadata": {},
     "output_type": "execute_result"
    },
    {
     "data": {
      "image/png": "[encoded data removed]",
      "text/plain": [
       "<Figure size 640x480 with 1 Axes>"
      ]
     },
     "metadata": {},
     "output_type": "display_data"
    }
   ],
   "source": [
    "train['condition'].hist()"
   ]
  },
  {
   "cell_type": "markdown",
   "metadata": {
    "id": "MJ5OkV6vzO4z"
   },
   "source": [
    "#### odometer"
   ]
  },
  {
   "cell_type": "code",
   "execution_count": null,
   "metadata": {
    "colab": {
     "base_uri": "https://localhost:8080/",
     "height": 89
    },
    "id": "k2aFDViR0YEb",
    "outputId": "8768b045-c496-41e7-ddd6-93c92d6088f4"
   },
   "outputs": [
    {
     "data": {
      "text/plain": [
       "<Axes: >"
      ]
     },
     "execution_count": 283,
     "metadata": {},
     "output_type": "execute_result"
    },
    {
     "data": {
      "image/png": "[encoded data removed]",
      "text/plain": [
       "<Figure size 640x480 with 1 Axes>"
      ]
     },
     "metadata": {},
     "output_type": "display_data"
    }
   ],
   "source": [
    "train['odometer'].hist()"
   ]
  },
  {
   "cell_type": "code",
   "execution_count": null,
   "metadata": {
    "colab": {
     "base_uri": "https://localhost:8080/",
     "height": 89
    },
    "id": "ALNWmhN-zcoA",
    "outputId": "482263d2-1e63-41d2-f48a-415953cd8e5e"
   },
   "outputs": [
    {
     "data": {
      "text/plain": [
       "<Axes: >"
      ]
     },
     "execution_count": 284,
     "metadata": {},
     "output_type": "execute_result"
    },
    {
     "data": {
      "image/png": "[encoded data removed]",
      "text/plain": [
       "<Figure size 640x480 with 1 Axes>"
      ]
     },
     "metadata": {},
     "output_type": "display_data"
    }
   ],
   "source": [
    "train['odometer'].hist(range=[200000, 1000000])"
   ]
  },
  {
   "cell_type": "code",
   "execution_count": null,
   "metadata": {
    "id": "-21H0l-V0DBa"
   },
   "outputs": [],
   "source": [
    "train = train[train['odometer'] < 350000]"
   ]
  },
  {
   "cell_type": "markdown",
   "metadata": {
    "id": "oJpOrm5ngSfT"
   },
   "source": [
    "Редкие значения пробега были удалены"
   ]
  },
  {
   "cell_type": "markdown",
   "metadata": {
    "id": "6ZsAm8W11sn9"
   },
   "source": [
    "#### sellingprice"
   ]
  },
  {
   "cell_type": "code",
   "execution_count": null,
   "metadata": {
    "colab": {
     "base_uri": "https://localhost:8080/",
     "height": 89
    },
    "id": "TumftKLX1sGT",
    "outputId": "c29aaeb7-15d5-4b9c-ab56-8406908b4440"
   },
   "outputs": [
    {
     "data": {
      "text/plain": [
       "<Axes: >"
      ]
     },
     "execution_count": 286,
     "metadata": {},
     "output_type": "execute_result"
    },
    {
     "data": {
      "image/png": "[encoded data removed]",
      "text/plain": [
       "<Figure size 640x480 with 1 Axes>"
      ]
     },
     "metadata": {},
     "output_type": "display_data"
    }
   ],
   "source": [
    "train['sellingprice'].hist()"
   ]
  },
  {
   "cell_type": "code",
   "execution_count": null,
   "metadata": {
    "id": "ad4AvcVl2MMw"
   },
   "outputs": [],
   "source": [
    "train = train[train['sellingprice'] < 55000]"
   ]
  },
  {
   "cell_type": "markdown",
   "metadata": {
    "id": "Csb1svjJgyGt"
   },
   "source": [
    "Редкие значения цены были удалены"
   ]
  },
  {
   "cell_type": "markdown",
   "metadata": {
    "id": "HyW-T--7EQim"
   },
   "source": [
    "#### sale_month"
   ]
  },
  {
   "cell_type": "code",
   "execution_count": null,
   "metadata": {
    "colab": {
     "base_uri": "https://localhost:8080/",
     "height": 89
    },
    "id": "sEyE10f_EUD0",
    "outputId": "99386bcb-aca9-434f-fcf8-7c024907ed49"
   },
   "outputs": [
    {
     "data": {
      "text/plain": [
       "<Axes: >"
      ]
     },
     "execution_count": 288,
     "metadata": {},
     "output_type": "execute_result"
    },
    {
     "data": {
      "image/png": "[encoded data removed]",
      "text/plain": [
       "<Figure size 640x480 with 1 Axes>"
      ]
     },
     "metadata": {},
     "output_type": "display_data"
    }
   ],
   "source": [
    "train['sale_month'].hist()"
   ]
  },
  {
   "cell_type": "markdown",
   "metadata": {
    "id": "iSQQF3c4g_r4"
   },
   "source": [
    "#### age"
   ]
  },
  {
   "cell_type": "code",
   "execution_count": null,
   "metadata": {
    "colab": {
     "base_uri": "https://localhost:8080/",
     "height": 89
    },
    "id": "0gAYzs12hBng",
    "outputId": "bd9925f7-d586-4c2f-f909-4391cdede7ec"
   },
   "outputs": [
    {
     "data": {
      "text/plain": [
       "<Axes: >"
      ]
     },
     "execution_count": 289,
     "metadata": {},
     "output_type": "execute_result"
    },
    {
     "data": {
      "image/png": "[encoded data removed]",
      "text/plain": [
       "<Figure size 640x480 with 1 Axes>"
      ]
     },
     "metadata": {},
     "output_type": "display_data"
    }
   ],
   "source": [
    "train['age'].hist()"
   ]
  },
  {
   "cell_type": "markdown",
   "metadata": {
    "id": "jGLsVzMQcRLZ"
   },
   "source": [
    "### test"
   ]
  },
  {
   "cell_type": "code",
   "execution_count": null,
   "metadata": {
    "id": "8AsKKg7LcZdW"
   },
   "outputs": [],
   "source": [
    "test['saledate'] = pd.to_datetime(test['saledate'], utc=True)"
   ]
  },
  {
   "cell_type": "code",
   "execution_count": null,
   "metadata": {
    "id": "1sl5NT4qcZdX"
   },
   "outputs": [],
   "source": [
    "test['sale_month'] = test['saledate'].dt.month\n",
    "test['sale_year'] = test['saledate'].dt.year"
   ]
  },
  {
   "cell_type": "code",
   "execution_count": null,
   "metadata": {
    "id": "1U7HdQaJcZdY"
   },
   "outputs": [],
   "source": [
    "test = test.drop('saledate', axis=1)"
   ]
  },
  {
   "cell_type": "code",
   "execution_count": null,
   "metadata": {
    "colab": {
     "base_uri": "https://localhost:8080/",
     "height": 339
    },
    "id": "4RrS3yjvcZdZ",
    "outputId": "44f1e4a3-e34d-478f-a602-7aa0e151f090"
   },
   "outputs": [
    {
     "data": {
      "text/html": [
       "\n",
       "  <div id=\"df-77dd8d23-273c-4568-92ca-f8a287a862d9\">\n",
       "    <div class=\"colab-df-container\">\n",
       "      <div>\n",
       "<style scoped>\n",
       "    .dataframe tbody tr th:only-of-type {\n",
       "        vertical-align: middle;\n",
       "    }\n",
       "\n",
       "    .dataframe tbody tr th {\n",
       "        vertical-align: top;\n",
       "    }\n",
       "\n",
       "    .dataframe thead th {\n",
       "        text-align: right;\n",
       "    }\n",
       "</style>\n",
       "<table border=\"1\" class=\"dataframe\">\n",
       "  <thead>\n",
       "    <tr style=\"text-align: right;\">\n",
       "      <th></th>\n",
       "      <th>year</th>\n",
       "      <th>make</th>\n",
       "      <th>model</th>\n",
       "      <th>trim</th>\n",
       "      <th>body</th>\n",
       "      <th>transmission</th>\n",
       "      <th>vin</th>\n",
       "      <th>state</th>\n",
       "      <th>condition</th>\n",
       "      <th>odometer</th>\n",
       "      <th>color</th>\n",
       "      <th>interior</th>\n",
       "      <th>seller</th>\n",
       "      <th>sale_month</th>\n",
       "      <th>sale_year</th>\n",
       "    </tr>\n",
       "  </thead>\n",
       "  <tbody>\n",
       "    <tr>\n",
       "      <th>0</th>\n",
       "      <td>2005</td>\n",
       "      <td>cadillac</td>\n",
       "      <td>rare</td>\n",
       "      <td>base</td>\n",
       "      <td>sedan</td>\n",
       "      <td>automatic</td>\n",
       "      <td>1g6dp567450124779</td>\n",
       "      <td>ca</td>\n",
       "      <td>2.7</td>\n",
       "      <td>116970.0</td>\n",
       "      <td>silver</td>\n",
       "      <td>black</td>\n",
       "      <td>rare</td>\n",
       "      <td>1</td>\n",
       "      <td>2015</td>\n",
       "    </tr>\n",
       "    <tr>\n",
       "      <th>1</th>\n",
       "      <td>2014</td>\n",
       "      <td>gmc</td>\n",
       "      <td>rare</td>\n",
       "      <td>rare</td>\n",
       "      <td>van</td>\n",
       "      <td>automatic</td>\n",
       "      <td>1gtw7fca7e1902207</td>\n",
       "      <td>pa</td>\n",
       "      <td>4.4</td>\n",
       "      <td>6286.0</td>\n",
       "      <td>white</td>\n",
       "      <td>gray</td>\n",
       "      <td>rare</td>\n",
       "      <td>2</td>\n",
       "      <td>2015</td>\n",
       "    </tr>\n",
       "    <tr>\n",
       "      <th>2</th>\n",
       "      <td>2013</td>\n",
       "      <td>nissan</td>\n",
       "      <td>murano</td>\n",
       "      <td>s</td>\n",
       "      <td>suv</td>\n",
       "      <td>automatic</td>\n",
       "      <td>jn8az1mw6dw303497</td>\n",
       "      <td>oh</td>\n",
       "      <td>4.6</td>\n",
       "      <td>11831.0</td>\n",
       "      <td>gray</td>\n",
       "      <td>black</td>\n",
       "      <td>nissan-infiniti lt</td>\n",
       "      <td>2</td>\n",
       "      <td>2015</td>\n",
       "    </tr>\n",
       "    <tr>\n",
       "      <th>3</th>\n",
       "      <td>2013</td>\n",
       "      <td>chevrolet</td>\n",
       "      <td>impala</td>\n",
       "      <td>rare</td>\n",
       "      <td>sedan</td>\n",
       "      <td>automatic</td>\n",
       "      <td>2g1wf5e34d1160703</td>\n",
       "      <td>fl</td>\n",
       "      <td>2.3</td>\n",
       "      <td>57105.0</td>\n",
       "      <td>silver</td>\n",
       "      <td>black</td>\n",
       "      <td>rare</td>\n",
       "      <td>3</td>\n",
       "      <td>2015</td>\n",
       "    </tr>\n",
       "    <tr>\n",
       "      <th>4</th>\n",
       "      <td>2013</td>\n",
       "      <td>nissan</td>\n",
       "      <td>rare</td>\n",
       "      <td>sv</td>\n",
       "      <td>crew cab</td>\n",
       "      <td>automatic</td>\n",
       "      <td>1n6aa0ec3dn301209</td>\n",
       "      <td>tn</td>\n",
       "      <td>2.9</td>\n",
       "      <td>31083.0</td>\n",
       "      <td>black</td>\n",
       "      <td>black</td>\n",
       "      <td>nissan north america inc.</td>\n",
       "      <td>6</td>\n",
       "      <td>2015</td>\n",
       "    </tr>\n",
       "  </tbody>\n",
       "</table>\n",
       "</div>\n",
       "      <button class=\"colab-df-convert\" onclick=\"convertToInteractive('df-77dd8d23-273c-4568-92ca-f8a287a862d9')\"\n",
       "              title=\"Convert this dataframe to an interactive table.\"\n",
       "              style=\"display:none;\">\n",
       "        \n",
       "  <svg xmlns=\"http://www.w3.org/2000/svg\" height=\"24px\"viewBox=\"0 0 24 24\"\n",
       "       width=\"24px\">\n",
       "    <path d=\"M0 0h24v24H0V0z\" fill=\"none\"/>\n",
       "    <path d=\"M18.56 5.44l.94 2.06.94-2.06 2.06-.94-2.06-.94-.94-2.06-.94 2.06-2.06.94zm-11 1L8.5 8.5l.94-2.06 2.06-.94-2.06-.94L8.5 2.5l-.94 2.06-2.06.94zm10 10l.94 2.06.94-2.06 2.06-.94-2.06-.94-.94-2.06-.94 2.06-2.06.94z\"/><path d=\"M17.41 7.96l-1.37-1.37c-.4-.4-.92-.59-1.43-.59-.52 0-1.04.2-1.43.59L10.3 9.45l-7.72 7.72c-.78.78-.78 2.05 0 2.83L4 21.41c.39.39.9.59 1.41.59.51 0 1.02-.2 1.41-.59l7.78-7.78 2.81-2.81c.8-.78.8-2.07 0-2.86zM5.41 20L4 18.59l7.72-7.72 1.47 1.35L5.41 20z\"/>\n",
       "  </svg>\n",
       "      </button>\n",
       "      \n",
       "  <style>\n",
       "    .colab-df-container {\n",
       "      display:flex;\n",
       "      flex-wrap:wrap;\n",
       "      gap: 12px;\n",
       "    }\n",
       "\n",
       "    .colab-df-convert {\n",
       "      background-color: #E8F0FE;\n",
       "      border: none;\n",
       "      border-radius: 50%;\n",
       "      cursor: pointer;\n",
       "      display: none;\n",
       "      fill: #1967D2;\n",
       "      height: 32px;\n",
       "      padding: 0 0 0 0;\n",
       "      width: 32px;\n",
       "    }\n",
       "\n",
       "    .colab-df-convert:hover {\n",
       "      background-color: #E2EBFA;\n",
       "      box-shadow: 0px 1px 2px rgba(60, 64, 67, 0.3), 0px 1px 3px 1px rgba(60, 64, 67, 0.15);\n",
       "      fill: #174EA6;\n",
       "    }\n",
       "\n",
       "    [theme=dark] .colab-df-convert {\n",
       "      background-color: #3B4455;\n",
       "      fill: #D2E3FC;\n",
       "    }\n",
       "\n",
       "    [theme=dark] .colab-df-convert:hover {\n",
       "      background-color: #434B5C;\n",
       "      box-shadow: 0px 1px 3px 1px rgba(0, 0, 0, 0.15);\n",
       "      filter: drop-shadow(0px 1px 2px rgba(0, 0, 0, 0.3));\n",
       "      fill: #FFFFFF;\n",
       "    }\n",
       "  </style>\n",
       "\n",
       "      <script>\n",
       "        const buttonEl =\n",
       "          document.querySelector('#df-77dd8d23-273c-4568-92ca-f8a287a862d9 button.colab-df-convert');\n",
       "        buttonEl.style.display =\n",
       "          google.colab.kernel.accessAllowed ? 'block' : 'none';\n",
       "\n",
       "        async function convertToInteractive(key) {\n",
       "          const element = document.querySelector('#df-77dd8d23-273c-4568-92ca-f8a287a862d9');\n",
       "          const dataTable =\n",
       "            await google.colab.kernel.invokeFunction('convertToInteractive',\n",
       "                                                     [key], {});\n",
       "          if (!dataTable) return;\n",
       "\n",
       "          const docLinkHtml = 'Like what you see? Visit the ' +\n",
       "            '<a target=\"_blank\" href=https://colab.research.google.com/notebooks/data_table.ipynb>data table notebook</a>'\n",
       "            + ' to learn more about interactive tables.';\n",
       "          element.innerHTML = '';\n",
       "          dataTable['output_type'] = 'display_data';\n",
       "          await google.colab.output.renderOutput(dataTable, element);\n",
       "          const docLink = document.createElement('div');\n",
       "          docLink.innerHTML = docLinkHtml;\n",
       "          element.appendChild(docLink);\n",
       "        }\n",
       "      </script>\n",
       "    </div>\n",
       "  </div>\n",
       "  "
      ],
      "text/plain": [
       "   year       make   model  trim      body transmission                vin  \\\n",
       "0  2005   cadillac    rare  base     sedan    automatic  1g6dp567450124779   \n",
       "1  2014        gmc    rare  rare       van    automatic  1gtw7fca7e1902207   \n",
       "2  2013     nissan  murano     s       suv    automatic  jn8az1mw6dw303497   \n",
       "3  2013  chevrolet  impala  rare     sedan    automatic  2g1wf5e34d1160703   \n",
       "4  2013     nissan    rare    sv  crew cab    automatic  1n6aa0ec3dn301209   \n",
       "\n",
       "  state  condition  odometer   color interior                     seller  \\\n",
       "0    ca        2.7  116970.0  silver    black                       rare   \n",
       "1    pa        4.4    6286.0   white     gray                       rare   \n",
       "2    oh        4.6   11831.0    gray    black         nissan-infiniti lt   \n",
       "3    fl        2.3   57105.0  silver    black                       rare   \n",
       "4    tn        2.9   31083.0   black    black  nissan north america inc.   \n",
       "\n",
       "   sale_month  sale_year  \n",
       "0           1       2015  \n",
       "1           2       2015  \n",
       "2           2       2015  \n",
       "3           3       2015  \n",
       "4           6       2015  "
      ]
     },
     "execution_count": 293,
     "metadata": {},
     "output_type": "execute_result"
    }
   ],
   "source": [
    "test.head()"
   ]
  },
  {
   "cell_type": "code",
   "execution_count": null,
   "metadata": {
    "id": "XrsskKbAQjG_"
   },
   "outputs": [],
   "source": [
    "test['age'] = test['sale_year'] - test['year']\n",
    "test = test.drop(['year', 'sale_year'], axis=1)"
   ]
  },
  {
   "cell_type": "markdown",
   "metadata": {
    "id": "R6YBWEYSgPq2"
   },
   "source": [
    "Из 'saledate' были получены месяц и год продажи. Из года производсва авто и года продажи был получен возраст авто, который был записан в 'age'. "
   ]
  },
  {
   "cell_type": "markdown",
   "metadata": {
    "id": "CtyTunZKdIqp"
   },
   "source": [
    "#### transmission"
   ]
  },
  {
   "cell_type": "code",
   "execution_count": null,
   "metadata": {
    "colab": {
     "base_uri": "https://localhost:8080/",
     "height": 89
    },
    "id": "arBOjZzKdILN",
    "outputId": "82c45814-268d-46a9-848a-8f5d2b8db6d1"
   },
   "outputs": [
    {
     "data": {
      "text/plain": [
       "<Axes: >"
      ]
     },
     "execution_count": 295,
     "metadata": {},
     "output_type": "execute_result"
    },
    {
     "data": {
      "image/png": "[encoded data removed]",
      "text/plain": [
       "<Figure size 640x480 with 1 Axes>"
      ]
     },
     "metadata": {},
     "output_type": "display_data"
    }
   ],
   "source": [
    "test['transmission'].hist()"
   ]
  },
  {
   "cell_type": "markdown",
   "metadata": {
    "id": "qSh0v97yddRy"
   },
   "source": [
    "#### state"
   ]
  },
  {
   "cell_type": "code",
   "execution_count": null,
   "metadata": {
    "colab": {
     "base_uri": "https://localhost:8080/",
     "height": 89
    },
    "id": "_zobbv98dcXH",
    "outputId": "85c844e2-382d-4b22-84dc-92f375d54242"
   },
   "outputs": [
    {
     "data": {
      "text/plain": [
       "<Axes: >"
      ]
     },
     "execution_count": 296,
     "metadata": {},
     "output_type": "execute_result"
    },
    {
     "data": {
      "image/png": "[encoded data removed]",
      "text/plain": [
       "<Figure size 1200x400 with 1 Axes>"
      ]
     },
     "metadata": {},
     "output_type": "display_data"
    }
   ],
   "source": [
    "test['state'].hist(figsize=(12, 4))"
   ]
  },
  {
   "cell_type": "markdown",
   "metadata": {
    "id": "4iimbrlMd1A5"
   },
   "source": [
    "#### condition"
   ]
  },
  {
   "cell_type": "code",
   "execution_count": null,
   "metadata": {
    "colab": {
     "base_uri": "https://localhost:8080/",
     "height": 89
    },
    "id": "rSalZYx0d5Dz",
    "outputId": "266033b2-0cdd-4c1b-8873-448a7a6de18f"
   },
   "outputs": [
    {
     "data": {
      "text/plain": [
       "<Axes: >"
      ]
     },
     "execution_count": 297,
     "metadata": {},
     "output_type": "execute_result"
    },
    {
     "data": {
      "image/png": "[encoded data removed]",
      "text/plain": [
       "<Figure size 640x480 with 1 Axes>"
      ]
     },
     "metadata": {},
     "output_type": "display_data"
    }
   ],
   "source": [
    "test['condition'].hist()"
   ]
  },
  {
   "cell_type": "markdown",
   "metadata": {
    "id": "e88oZQ_teOd8"
   },
   "source": [
    "#### odometer"
   ]
  },
  {
   "cell_type": "code",
   "execution_count": null,
   "metadata": {
    "colab": {
     "base_uri": "https://localhost:8080/",
     "height": 89
    },
    "id": "P3kn-QKFeSRs",
    "outputId": "be854b6d-da48-4c25-fe73-d045af113b43"
   },
   "outputs": [
    {
     "data": {
      "text/plain": [
       "<Axes: >"
      ]
     },
     "execution_count": 298,
     "metadata": {},
     "output_type": "execute_result"
    },
    {
     "data": {
      "image/png": "[encoded data removed]",
      "text/plain": [
       "<Figure size 640x480 with 1 Axes>"
      ]
     },
     "metadata": {},
     "output_type": "display_data"
    }
   ],
   "source": [
    "test['odometer'].hist()"
   ]
  },
  {
   "cell_type": "markdown",
   "metadata": {
    "id": "VjDL1sVIf7Ih"
   },
   "source": [
    "#### sale_month"
   ]
  },
  {
   "cell_type": "code",
   "execution_count": null,
   "metadata": {
    "colab": {
     "base_uri": "https://localhost:8080/",
     "height": 89
    },
    "id": "B_mthbtIf9w2",
    "outputId": "50a00be0-53d1-4e80-b10e-613189faf0fa",
    "scrolled": true
   },
   "outputs": [
    {
     "data": {
      "text/plain": [
       "<Axes: >"
      ]
     },
     "execution_count": 299,
     "metadata": {},
     "output_type": "execute_result"
    },
    {
     "data": {
      "image/png": "[encoded data removed]",
      "text/plain": [
       "<Figure size 640x480 with 1 Axes>"
      ]
     },
     "metadata": {},
     "output_type": "display_data"
    }
   ],
   "source": [
    "test['sale_month'].hist(bins=12)"
   ]
  },
  {
   "cell_type": "markdown",
   "metadata": {
    "id": "0aoD23uIg5Af"
   },
   "source": [
    "#### age"
   ]
  },
  {
   "cell_type": "code",
   "execution_count": null,
   "metadata": {
    "colab": {
     "base_uri": "https://localhost:8080/",
     "height": 89
    },
    "id": "Uk6aKl0tQjHB",
    "outputId": "1f858394-c9b0-4c9d-d28e-1adbce00f6d2"
   },
   "outputs": [
    {
     "data": {
      "text/plain": [
       "<Axes: >"
      ]
     },
     "execution_count": 300,
     "metadata": {},
     "output_type": "execute_result"
    },
    {
     "data": {
      "image/png": "[encoded data removed]",
      "text/plain": [
       "<Figure size 640x480 with 1 Axes>"
      ]
     },
     "metadata": {},
     "output_type": "display_data"
    }
   ],
   "source": [
    "test['age'].hist()"
   ]
  },
  {
   "cell_type": "markdown",
   "metadata": {
    "id": "D-ncWUTHhO6Q"
   },
   "source": [
    "## Мультиколлинеарность"
   ]
  },
  {
   "cell_type": "markdown",
   "metadata": {
    "id": "m0Vf1SADnnRH"
   },
   "source": [
    "### train"
   ]
  },
  {
   "cell_type": "code",
   "execution_count": null,
   "metadata": {
    "colab": {
     "base_uri": "https://localhost:8080/",
     "height": 270
    },
    "id": "R5pnYtvdhUoj",
    "outputId": "5a711d4e-5cd1-46a5-884c-3938dbebec5d"
   },
   "outputs": [
    {
     "data": {
      "text/html": [
       "\n",
       "  <div id=\"df-bc59dfae-8f27-41fc-968e-27827f610675\">\n",
       "    <div class=\"colab-df-container\">\n",
       "      <div>\n",
       "<style scoped>\n",
       "    .dataframe tbody tr th:only-of-type {\n",
       "        vertical-align: middle;\n",
       "    }\n",
       "\n",
       "    .dataframe tbody tr th {\n",
       "        vertical-align: top;\n",
       "    }\n",
       "\n",
       "    .dataframe thead th {\n",
       "        text-align: right;\n",
       "    }\n",
       "</style>\n",
       "<table border=\"1\" class=\"dataframe\">\n",
       "  <thead>\n",
       "    <tr style=\"text-align: right;\">\n",
       "      <th></th>\n",
       "      <th>condition</th>\n",
       "      <th>odometer</th>\n",
       "      <th>sellingprice</th>\n",
       "      <th>sale_month</th>\n",
       "      <th>age</th>\n",
       "    </tr>\n",
       "  </thead>\n",
       "  <tbody>\n",
       "    <tr>\n",
       "      <th>condition</th>\n",
       "      <td>1.000000</td>\n",
       "      <td>-0.532403</td>\n",
       "      <td>0.553383</td>\n",
       "      <td>-0.017697</td>\n",
       "      <td>-0.535822</td>\n",
       "    </tr>\n",
       "    <tr>\n",
       "      <th>odometer</th>\n",
       "      <td>-0.532403</td>\n",
       "      <td>1.000000</td>\n",
       "      <td>-0.620238</td>\n",
       "      <td>0.043047</td>\n",
       "      <td>0.790251</td>\n",
       "    </tr>\n",
       "    <tr>\n",
       "      <th>sellingprice</th>\n",
       "      <td>0.553383</td>\n",
       "      <td>-0.620238</td>\n",
       "      <td>1.000000</td>\n",
       "      <td>-0.037097</td>\n",
       "      <td>-0.617582</td>\n",
       "    </tr>\n",
       "    <tr>\n",
       "      <th>sale_month</th>\n",
       "      <td>-0.017697</td>\n",
       "      <td>0.043047</td>\n",
       "      <td>-0.037097</td>\n",
       "      <td>1.000000</td>\n",
       "      <td>-0.014793</td>\n",
       "    </tr>\n",
       "    <tr>\n",
       "      <th>age</th>\n",
       "      <td>-0.535822</td>\n",
       "      <td>0.790251</td>\n",
       "      <td>-0.617582</td>\n",
       "      <td>-0.014793</td>\n",
       "      <td>1.000000</td>\n",
       "    </tr>\n",
       "  </tbody>\n",
       "</table>\n",
       "</div>\n",
       "      <button class=\"colab-df-convert\" onclick=\"convertToInteractive('df-bc59dfae-8f27-41fc-968e-27827f610675')\"\n",
       "              title=\"Convert this dataframe to an interactive table.\"\n",
       "              style=\"display:none;\">\n",
       "        \n",
       "  <svg xmlns=\"http://www.w3.org/2000/svg\" height=\"24px\"viewBox=\"0 0 24 24\"\n",
       "       width=\"24px\">\n",
       "    <path d=\"M0 0h24v24H0V0z\" fill=\"none\"/>\n",
       "    <path d=\"M18.56 5.44l.94 2.06.94-2.06 2.06-.94-2.06-.94-.94-2.06-.94 2.06-2.06.94zm-11 1L8.5 8.5l.94-2.06 2.06-.94-2.06-.94L8.5 2.5l-.94 2.06-2.06.94zm10 10l.94 2.06.94-2.06 2.06-.94-2.06-.94-.94-2.06-.94 2.06-2.06.94z\"/><path d=\"M17.41 7.96l-1.37-1.37c-.4-.4-.92-.59-1.43-.59-.52 0-1.04.2-1.43.59L10.3 9.45l-7.72 7.72c-.78.78-.78 2.05 0 2.83L4 21.41c.39.39.9.59 1.41.59.51 0 1.02-.2 1.41-.59l7.78-7.78 2.81-2.81c.8-.78.8-2.07 0-2.86zM5.41 20L4 18.59l7.72-7.72 1.47 1.35L5.41 20z\"/>\n",
       "  </svg>\n",
       "      </button>\n",
       "      \n",
       "  <style>\n",
       "    .colab-df-container {\n",
       "      display:flex;\n",
       "      flex-wrap:wrap;\n",
       "      gap: 12px;\n",
       "    }\n",
       "\n",
       "    .colab-df-convert {\n",
       "      background-color: #E8F0FE;\n",
       "      border: none;\n",
       "      border-radius: 50%;\n",
       "      cursor: pointer;\n",
       "      display: none;\n",
       "      fill: #1967D2;\n",
       "      height: 32px;\n",
       "      padding: 0 0 0 0;\n",
       "      width: 32px;\n",
       "    }\n",
       "\n",
       "    .colab-df-convert:hover {\n",
       "      background-color: #E2EBFA;\n",
       "      box-shadow: 0px 1px 2px rgba(60, 64, 67, 0.3), 0px 1px 3px 1px rgba(60, 64, 67, 0.15);\n",
       "      fill: #174EA6;\n",
       "    }\n",
       "\n",
       "    [theme=dark] .colab-df-convert {\n",
       "      background-color: #3B4455;\n",
       "      fill: #D2E3FC;\n",
       "    }\n",
       "\n",
       "    [theme=dark] .colab-df-convert:hover {\n",
       "      background-color: #434B5C;\n",
       "      box-shadow: 0px 1px 3px 1px rgba(0, 0, 0, 0.15);\n",
       "      filter: drop-shadow(0px 1px 2px rgba(0, 0, 0, 0.3));\n",
       "      fill: #FFFFFF;\n",
       "    }\n",
       "  </style>\n",
       "\n",
       "      <script>\n",
       "        const buttonEl =\n",
       "          document.querySelector('#df-bc59dfae-8f27-41fc-968e-27827f610675 button.colab-df-convert');\n",
       "        buttonEl.style.display =\n",
       "          google.colab.kernel.accessAllowed ? 'block' : 'none';\n",
       "\n",
       "        async function convertToInteractive(key) {\n",
       "          const element = document.querySelector('#df-bc59dfae-8f27-41fc-968e-27827f610675');\n",
       "          const dataTable =\n",
       "            await google.colab.kernel.invokeFunction('convertToInteractive',\n",
       "                                                     [key], {});\n",
       "          if (!dataTable) return;\n",
       "\n",
       "          const docLinkHtml = 'Like what you see? Visit the ' +\n",
       "            '<a target=\"_blank\" href=https://colab.research.google.com/notebooks/data_table.ipynb>data table notebook</a>'\n",
       "            + ' to learn more about interactive tables.';\n",
       "          element.innerHTML = '';\n",
       "          dataTable['output_type'] = 'display_data';\n",
       "          await google.colab.output.renderOutput(dataTable, element);\n",
       "          const docLink = document.createElement('div');\n",
       "          docLink.innerHTML = docLinkHtml;\n",
       "          element.appendChild(docLink);\n",
       "        }\n",
       "      </script>\n",
       "    </div>\n",
       "  </div>\n",
       "  "
      ],
      "text/plain": [
       "              condition  odometer  sellingprice  sale_month       age\n",
       "condition      1.000000 -0.532403      0.553383   -0.017697 -0.535822\n",
       "odometer      -0.532403  1.000000     -0.620238    0.043047  0.790251\n",
       "sellingprice   0.553383 -0.620238      1.000000   -0.037097 -0.617582\n",
       "sale_month    -0.017697  0.043047     -0.037097    1.000000 -0.014793\n",
       "age           -0.535822  0.790251     -0.617582   -0.014793  1.000000"
      ]
     },
     "execution_count": 301,
     "metadata": {},
     "output_type": "execute_result"
    }
   ],
   "source": [
    "train.corr()"
   ]
  },
  {
   "cell_type": "code",
   "execution_count": null,
   "metadata": {
    "colab": {
     "base_uri": "https://localhost:8080/"
    },
    "id": "TuxiDCHliVFA",
    "outputId": "f1e63d6b-ba5d-4938-dac8-d5f47a48ad38"
   },
   "outputs": [
    {
     "name": "stdout",
     "output_type": "stream",
     "text": [
      "     feature       VIF\n",
      "0  condition  1.891070\n",
      "1   odometer  6.879775\n",
      "2        age  6.540631\n"
     ]
    }
   ],
   "source": [
    "vif_data = pd.DataFrame()\n",
    "X = train[['condition', 'odometer', 'age']]\n",
    "vif_data[\"feature\"] = X.columns\n",
    "vif_data[\"VIF\"] = [variance_inflation_factor(X.values, i) for i in range(len(X.columns))]\n",
    "print(vif_data)"
   ]
  },
  {
   "cell_type": "markdown",
   "metadata": {
    "id": "z9fHOZHInpb5"
   },
   "source": [
    "### test"
   ]
  },
  {
   "cell_type": "code",
   "execution_count": null,
   "metadata": {
    "colab": {
     "base_uri": "https://localhost:8080/",
     "height": 239
    },
    "id": "jJUtYCVUnvdv",
    "outputId": "d3d40dc2-fdde-4a97-9fbe-262655a7b041"
   },
   "outputs": [
    {
     "data": {
      "text/html": [
       "\n",
       "  <div id=\"df-5ee7c749-7e48-4b5b-b957-f9003c554d43\">\n",
       "    <div class=\"colab-df-container\">\n",
       "      <div>\n",
       "<style scoped>\n",
       "    .dataframe tbody tr th:only-of-type {\n",
       "        vertical-align: middle;\n",
       "    }\n",
       "\n",
       "    .dataframe tbody tr th {\n",
       "        vertical-align: top;\n",
       "    }\n",
       "\n",
       "    .dataframe thead th {\n",
       "        text-align: right;\n",
       "    }\n",
       "</style>\n",
       "<table border=\"1\" class=\"dataframe\">\n",
       "  <thead>\n",
       "    <tr style=\"text-align: right;\">\n",
       "      <th></th>\n",
       "      <th>condition</th>\n",
       "      <th>odometer</th>\n",
       "      <th>sale_month</th>\n",
       "      <th>age</th>\n",
       "    </tr>\n",
       "  </thead>\n",
       "  <tbody>\n",
       "    <tr>\n",
       "      <th>condition</th>\n",
       "      <td>1.000000</td>\n",
       "      <td>-0.524281</td>\n",
       "      <td>-0.012373</td>\n",
       "      <td>-0.534832</td>\n",
       "    </tr>\n",
       "    <tr>\n",
       "      <th>odometer</th>\n",
       "      <td>-0.524281</td>\n",
       "      <td>1.000000</td>\n",
       "      <td>0.037620</td>\n",
       "      <td>0.765565</td>\n",
       "    </tr>\n",
       "    <tr>\n",
       "      <th>sale_month</th>\n",
       "      <td>-0.012373</td>\n",
       "      <td>0.037620</td>\n",
       "      <td>1.000000</td>\n",
       "      <td>-0.016972</td>\n",
       "    </tr>\n",
       "    <tr>\n",
       "      <th>age</th>\n",
       "      <td>-0.534832</td>\n",
       "      <td>0.765565</td>\n",
       "      <td>-0.016972</td>\n",
       "      <td>1.000000</td>\n",
       "    </tr>\n",
       "  </tbody>\n",
       "</table>\n",
       "</div>\n",
       "      <button class=\"colab-df-convert\" onclick=\"convertToInteractive('df-5ee7c749-7e48-4b5b-b957-f9003c554d43')\"\n",
       "              title=\"Convert this dataframe to an interactive table.\"\n",
       "              style=\"display:none;\">\n",
       "        \n",
       "  <svg xmlns=\"http://www.w3.org/2000/svg\" height=\"24px\"viewBox=\"0 0 24 24\"\n",
       "       width=\"24px\">\n",
       "    <path d=\"M0 0h24v24H0V0z\" fill=\"none\"/>\n",
       "    <path d=\"M18.56 5.44l.94 2.06.94-2.06 2.06-.94-2.06-.94-.94-2.06-.94 2.06-2.06.94zm-11 1L8.5 8.5l.94-2.06 2.06-.94-2.06-.94L8.5 2.5l-.94 2.06-2.06.94zm10 10l.94 2.06.94-2.06 2.06-.94-2.06-.94-.94-2.06-.94 2.06-2.06.94z\"/><path d=\"M17.41 7.96l-1.37-1.37c-.4-.4-.92-.59-1.43-.59-.52 0-1.04.2-1.43.59L10.3 9.45l-7.72 7.72c-.78.78-.78 2.05 0 2.83L4 21.41c.39.39.9.59 1.41.59.51 0 1.02-.2 1.41-.59l7.78-7.78 2.81-2.81c.8-.78.8-2.07 0-2.86zM5.41 20L4 18.59l7.72-7.72 1.47 1.35L5.41 20z\"/>\n",
       "  </svg>\n",
       "      </button>\n",
       "      \n",
       "  <style>\n",
       "    .colab-df-container {\n",
       "      display:flex;\n",
       "      flex-wrap:wrap;\n",
       "      gap: 12px;\n",
       "    }\n",
       "\n",
       "    .colab-df-convert {\n",
       "      background-color: #E8F0FE;\n",
       "      border: none;\n",
       "      border-radius: 50%;\n",
       "      cursor: pointer;\n",
       "      display: none;\n",
       "      fill: #1967D2;\n",
       "      height: 32px;\n",
       "      padding: 0 0 0 0;\n",
       "      width: 32px;\n",
       "    }\n",
       "\n",
       "    .colab-df-convert:hover {\n",
       "      background-color: #E2EBFA;\n",
       "      box-shadow: 0px 1px 2px rgba(60, 64, 67, 0.3), 0px 1px 3px 1px rgba(60, 64, 67, 0.15);\n",
       "      fill: #174EA6;\n",
       "    }\n",
       "\n",
       "    [theme=dark] .colab-df-convert {\n",
       "      background-color: #3B4455;\n",
       "      fill: #D2E3FC;\n",
       "    }\n",
       "\n",
       "    [theme=dark] .colab-df-convert:hover {\n",
       "      background-color: #434B5C;\n",
       "      box-shadow: 0px 1px 3px 1px rgba(0, 0, 0, 0.15);\n",
       "      filter: drop-shadow(0px 1px 2px rgba(0, 0, 0, 0.3));\n",
       "      fill: #FFFFFF;\n",
       "    }\n",
       "  </style>\n",
       "\n",
       "      <script>\n",
       "        const buttonEl =\n",
       "          document.querySelector('#df-5ee7c749-7e48-4b5b-b957-f9003c554d43 button.colab-df-convert');\n",
       "        buttonEl.style.display =\n",
       "          google.colab.kernel.accessAllowed ? 'block' : 'none';\n",
       "\n",
       "        async function convertToInteractive(key) {\n",
       "          const element = document.querySelector('#df-5ee7c749-7e48-4b5b-b957-f9003c554d43');\n",
       "          const dataTable =\n",
       "            await google.colab.kernel.invokeFunction('convertToInteractive',\n",
       "                                                     [key], {});\n",
       "          if (!dataTable) return;\n",
       "\n",
       "          const docLinkHtml = 'Like what you see? Visit the ' +\n",
       "            '<a target=\"_blank\" href=https://colab.research.google.com/notebooks/data_table.ipynb>data table notebook</a>'\n",
       "            + ' to learn more about interactive tables.';\n",
       "          element.innerHTML = '';\n",
       "          dataTable['output_type'] = 'display_data';\n",
       "          await google.colab.output.renderOutput(dataTable, element);\n",
       "          const docLink = document.createElement('div');\n",
       "          docLink.innerHTML = docLinkHtml;\n",
       "          element.appendChild(docLink);\n",
       "        }\n",
       "      </script>\n",
       "    </div>\n",
       "  </div>\n",
       "  "
      ],
      "text/plain": [
       "            condition  odometer  sale_month       age\n",
       "condition    1.000000 -0.524281   -0.012373 -0.534832\n",
       "odometer    -0.524281  1.000000    0.037620  0.765565\n",
       "sale_month  -0.012373  0.037620    1.000000 -0.016972\n",
       "age         -0.534832  0.765565   -0.016972  1.000000"
      ]
     },
     "execution_count": 303,
     "metadata": {},
     "output_type": "execute_result"
    }
   ],
   "source": [
    "test.corr()"
   ]
  },
  {
   "cell_type": "code",
   "execution_count": null,
   "metadata": {
    "colab": {
     "base_uri": "https://localhost:8080/"
    },
    "id": "uVDWz4O9nvdw",
    "outputId": "d735833c-8ef0-4a52-db9a-1b760a9967c7"
   },
   "outputs": [
    {
     "name": "stdout",
     "output_type": "stream",
     "text": [
      "     feature       VIF\n",
      "0  condition  1.868952\n",
      "1   odometer  6.056653\n",
      "2        age  5.864023\n"
     ]
    }
   ],
   "source": [
    "vif_data = pd.DataFrame()\n",
    "X = test[['condition', 'odometer', 'age']]\n",
    "vif_data[\"feature\"] = X.columns\n",
    "vif_data[\"VIF\"] = [variance_inflation_factor(X.values, i) for i in range(len(X.columns))]\n",
    "print(vif_data)"
   ]
  },
  {
   "cell_type": "markdown",
   "metadata": {
    "id": "rc6CdEP-euQY"
   },
   "source": [
    "## Обучение моделей"
   ]
  },
  {
   "cell_type": "code",
   "execution_count": null,
   "metadata": {
    "id": "uQL-aB8Ke1qA"
   },
   "outputs": [],
   "source": [
    "X = train[['state', 'age', 'make', 'model', 'trim', 'body', 'transmission', 'condition', 'odometer', 'color', 'interior', 'seller', 'sale_month']]\n",
    "y = train['sellingprice']\n",
    "test_vin = test['vin']\n",
    "X_test = test[['state', 'age', 'make', 'model', 'trim', 'body', 'transmission', 'condition', 'odometer', 'color', 'interior', 'seller', 'sale_month']]\n",
    "X_test = pd.get_dummies(X_test)\n",
    "X = pd.get_dummies(X)\n",
    "X = X[X.columns.intersection(X_test.columns)]\n",
    "X_test = X_test[X_test.columns.intersection(X.columns)]"
   ]
  },
  {
   "cell_type": "code",
   "execution_count": null,
   "metadata": {
    "id": "ukZgZGZOiCTa"
   },
   "outputs": [],
   "source": [
    "X_train, X_val, y_train, y_val = train_test_split(X, y, test_size=0.33, random_state=0)"
   ]
  },
  {
   "cell_type": "code",
   "execution_count": null,
   "metadata": {
    "id": "v7772UemQjHD"
   },
   "outputs": [],
   "source": [
    "scaler = StandardScaler()\n",
    "numeric_features = ['condition', 'age', 'odometer']\n",
    "scaler.fit(X_train[numeric_features])\n",
    "X_train[numeric_features] = scaler.transform(X_train[numeric_features])\n",
    "X_val[numeric_features] = scaler.transform(X_val[numeric_features])\n",
    "X_test[numeric_features] = scaler.transform(X_test[numeric_features])\n"
   ]
  },
  {
   "cell_type": "code",
   "execution_count": null,
   "metadata": {
    "id": "rQgjDPjvQjHE"
   },
   "outputs": [],
   "source": [
    "def objective(trial):\n",
    "    param = {\n",
    "        'max_depth': trial.suggest_int('max_depth', 1, 10),\n",
    "        'learning_rate': trial.suggest_float('learning_rate', 0.01, 1.0),\n",
    "        'n_estimators': trial.suggest_int('n_estimators', 50, 1000),\n",
    "        'min_child_weight': trial.suggest_int('min_child_weight', 1, 10),\n",
    "        'gamma': trial.suggest_float('gamma', 0.01, 1.0),\n",
    "        'subsample': trial.suggest_float('subsample', 0.01, 1.0),\n",
    "        'colsample_bytree': trial.suggest_float('colsample_bytree', 0.01, 1.0),\n",
    "        'reg_alpha': trial.suggest_float('reg_alpha', 0.01, 1.0),\n",
    "        'reg_lambda': trial.suggest_float('reg_lambda', 0.01, 1.0),\n",
    "        'random_state': trial.suggest_int('random_state', 1, 1)\n",
    "    }\n",
    "    model = xgboost.XGBRegressor(**param)\n",
    "    model.fit(X_train, y_train)\n",
    "    pred = model.predict(X_val)\n",
    "    return mean_absolute_percentage_error(y_val, pred)"
   ]
  },
  {
   "cell_type": "code",
   "execution_count": null,
   "metadata": {
    "id": "2DPHmw4KQjHE",
    "outputId": "dee9e57f-96dc-4592-c8fe-eef4d87a1679"
   },
   "outputs": [
    {
     "name": "stdout",
     "output_type": "stream",
     "text": [
      "Best parameters {'max_depth': 9, 'learning_rate': 0.22554172902940153, 'n_estimators': 398, 'min_child_weight': 7, 'gamma': 0.268544813736836, 'subsample': 0.6372635278026426, 'colsample_bytree': 0.697532697424521, 'reg_alpha': 0.7740332421866251, 'reg_lambda': 0.5796227263556395, 'random_state': 1}\n",
      "Best value 0.21827587258629408\n",
      "Best trial FrozenTrial(number=59, state=TrialState.COMPLETE, values=[0.21827587258629408], datetime_start=datetime.datetime(2023, 5, 1, 19, 40, 15, 418862), datetime_complete=datetime.datetime(2023, 5, 1, 19, 43, 18, 468146), params={'max_depth': 9, 'learning_rate': 0.22554172902940153, 'n_estimators': 398, 'min_child_weight': 7, 'gamma': 0.268544813736836, 'subsample': 0.6372635278026426, 'colsample_bytree': 0.697532697424521, 'reg_alpha': 0.7740332421866251, 'reg_lambda': 0.5796227263556395, 'random_state': 1}, user_attrs={}, system_attrs={}, intermediate_values={}, distributions={'max_depth': IntDistribution(high=10, log=False, low=1, step=1), 'learning_rate': FloatDistribution(high=1.0, log=False, low=0.01, step=None), 'n_estimators': IntDistribution(high=1000, log=False, low=50, step=1), 'min_child_weight': IntDistribution(high=10, log=False, low=1, step=1), 'gamma': FloatDistribution(high=1.0, log=False, low=0.01, step=None), 'subsample': FloatDistribution(high=1.0, log=False, low=0.01, step=None), 'colsample_bytree': FloatDistribution(high=1.0, log=False, low=0.01, step=None), 'reg_alpha': FloatDistribution(high=1.0, log=False, low=0.01, step=None), 'reg_lambda': FloatDistribution(high=1.0, log=False, low=0.01, step=None), 'random_state': IntDistribution(high=1, log=False, low=1, step=1)}, trial_id=59, value=None)\n"
     ]
    }
   ],
   "source": [
    "study = optuna.create_study(direction='minimize', study_name='regression')\n",
    "study.optimize(objective, n_trials=100)\n",
    "print('Best parameters', study.best_params)\n",
    "print('Best value', study.best_value)\n",
    "print('Best trial', study.best_trial)\n"
   ]
  },
  {
   "cell_type": "code",
   "execution_count": null,
   "metadata": {
    "id": "YK6pJQbsQjHE",
    "outputId": "761fe625-c0c2-44f3-ce1b-ca756589478c"
   },
   "outputs": [
    {
     "name": "stdout",
     "output_type": "stream",
     "text": [
      "0.21827587258629408\n"
     ]
    }
   ],
   "source": [
    "model = xgboost.XGBRegressor(**study.best_params)\n",
    "model.fit(X_train, y_train)\n",
    "pred = model.predict(X_val)\n",
    "mape = mean_absolute_percentage_error(y_val, pred)\n",
    "test_predictions = model.predict(X_test)\n",
    "print(mape)"
   ]
  },
  {
   "cell_type": "markdown",
   "metadata": {
    "id": "ZOPAcAqZhI8l"
   },
   "source": [
    "Данные были разбиты на тестовую и валидационную выборки. С помощью pd.get_dummies были обработаны категориальные признаки. Было произведено масштабирование численных признаков.\n",
    "\n",
    "С помощью optuna были подобраны оптимальные знацения параметров для XGBRegressor. В результате проверки на валидационной выборке было получено значение MAPE 0.21827587258629408"
   ]
  },
  {
   "cell_type": "code",
   "execution_count": null,
   "metadata": {
    "id": "RAypG2S2QjHE",
    "outputId": "e32fa5a1-ce30-4d65-f332-0313b73b02f8"
   },
   "outputs": [
    {
     "data": {
      "text/html": [
       "<div>\n",
       "<style scoped>\n",
       "    .dataframe tbody tr th:only-of-type {\n",
       "        vertical-align: middle;\n",
       "    }\n",
       "\n",
       "    .dataframe tbody tr th {\n",
       "        vertical-align: top;\n",
       "    }\n",
       "\n",
       "    .dataframe thead th {\n",
       "        text-align: right;\n",
       "    }\n",
       "</style>\n",
       "<table border=\"1\" class=\"dataframe\">\n",
       "  <thead>\n",
       "    <tr style=\"text-align: right;\">\n",
       "      <th></th>\n",
       "      <th>vin</th>\n",
       "      <th>sellingprice</th>\n",
       "    </tr>\n",
       "  </thead>\n",
       "  <tbody>\n",
       "    <tr>\n",
       "      <th>0</th>\n",
       "      <td>1g6dp567450124779</td>\n",
       "      <td>5030.188477</td>\n",
       "    </tr>\n",
       "    <tr>\n",
       "      <th>1</th>\n",
       "      <td>1gtw7fca7e1902207</td>\n",
       "      <td>22029.173828</td>\n",
       "    </tr>\n",
       "    <tr>\n",
       "      <th>2</th>\n",
       "      <td>jn8az1mw6dw303497</td>\n",
       "      <td>19387.892578</td>\n",
       "    </tr>\n",
       "    <tr>\n",
       "      <th>3</th>\n",
       "      <td>2g1wf5e34d1160703</td>\n",
       "      <td>9271.338867</td>\n",
       "    </tr>\n",
       "    <tr>\n",
       "      <th>4</th>\n",
       "      <td>1n6aa0ec3dn301209</td>\n",
       "      <td>22285.679688</td>\n",
       "    </tr>\n",
       "  </tbody>\n",
       "</table>\n",
       "</div>"
      ],
      "text/plain": [
       "                 vin  sellingprice\n",
       "0  1g6dp567450124779   5030.188477\n",
       "1  1gtw7fca7e1902207  22029.173828\n",
       "2  jn8az1mw6dw303497  19387.892578\n",
       "3  2g1wf5e34d1160703   9271.338867\n",
       "4  1n6aa0ec3dn301209  22285.679688"
      ]
     },
     "execution_count": 113,
     "metadata": {},
     "output_type": "execute_result"
    }
   ],
   "source": [
    "submission = pd.DataFrame()\n",
    "submission['vin'] = test_vin\n",
    "submission['sellingprice'] = test_predictions\n",
    "submission.head()"
   ]
  },
  {
   "cell_type": "code",
   "execution_count": null,
   "metadata": {
    "id": "tS65zwEIQjHF",
    "outputId": "f157b2fd-f2da-4432-bd13-848c3e3d861c"
   },
   "outputs": [
    {
     "data": {
      "text/plain": [
       "(110060, 2)"
      ]
     },
     "execution_count": 114,
     "metadata": {},
     "output_type": "execute_result"
    }
   ],
   "source": [
    "submission.shape"
   ]
  }
 ],
 "metadata": {
  "colab": {
   "collapsed_sections": [
    "IHwXS-YLU0UZ",
    "DPLpbRaTWajO",
    "XhUXuQ0DYrPy",
    "FpTdRVHXgP-g",
    "IdveDNS1k5g_",
    "ofVDGvCWnPi5",
    "nb4CR05OpMnT",
    "JrNXLk8wqe9v",
    "qf3K6EsRtRXm",
    "4PpP7mq8t8Zs",
    "xREDwMCyuf9P",
    "DzOzKYvevzPn",
    "4I2WOPdijE2q",
    "EzwFMWk1lUNe",
    "MVpOW8YGmfou",
    "AIV-Lcytpmrk",
    "_XgieLOVA94w",
    "-bSNbteeCOzh",
    "ca36wYNEDqdO",
    "N1afZqn0EKcH",
    "Y33JM6-qrUOv",
    "g_kW5EKws9Ma",
    "WWhMUno8tc6b",
    "BesqwWghtxDm",
    "eFzOoTItQjG3",
    "Pr8AChpfurrV",
    "vgEPgfCHwlBV",
    "YFlDhWYzxB8f",
    "mAw1pnFGy9qN",
    "MJ5OkV6vzO4z",
    "6ZsAm8W11sn9",
    "HyW-T--7EQim",
    "iSQQF3c4g_r4",
    "jGLsVzMQcRLZ",
    "CtyTunZKdIqp",
    "qSh0v97yddRy",
    "4iimbrlMd1A5",
    "e88oZQ_teOd8",
    "VjDL1sVIf7Ih",
    "0aoD23uIg5Af",
    "D-ncWUTHhO6Q",
    "m0Vf1SADnnRH",
    "z9fHOZHInpb5"
   ],
   "provenance": []
  },
  "kernelspec": {
   "display_name": "Python 3 (ipykernel)",
   "language": "python",
   "name": "python3"
  },
  "language_info": {
   "codemirror_mode": {
    "name": "ipython",
    "version": 3
   },
   "file_extension": ".py",
   "mimetype": "text/x-python",
   "name": "python",
   "nbconvert_exporter": "python",
   "pygments_lexer": "ipython3",
   "version": "3.11.5"
  },
  "toc": {
   "base_numbering": 1,
   "nav_menu": {},
   "number_sections": true,
   "sideBar": true,
   "skip_h1_title": false,
   "title_cell": "Table of Contents",
   "title_sidebar": "Contents",
   "toc_cell": false,
   "toc_position": {},
   "toc_section_display": true,
   "toc_window_display": false
  }
 },
 "nbformat": 4,
 "nbformat_minor": 4
}
