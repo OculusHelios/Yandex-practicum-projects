{
 "cells": [
  {
   "cell_type": "markdown",
   "id": "f030339b",
   "metadata": {},
   "source": [
    "# Защита персональных данных клиентов"
   ]
  },
  {
   "cell_type": "markdown",
   "id": "a764806e",
   "metadata": {},
   "source": [
    "Вам нужно защитить данные клиентов страховой компании «Хоть потоп». Разработайте такой метод преобразования данных, чтобы по ним было сложно восстановить персональную информацию. Обоснуйте корректность его работы.\n",
    "\n",
    "Нужно защитить данные, чтобы при преобразовании качество моделей машинного обучения не ухудшилось. Подбирать наилучшую модель не требуется."
   ]
  },
  {
   "cell_type": "markdown",
   "id": "2cde5bd3",
   "metadata": {},
   "source": [
    "## Загрузка данных"
   ]
  },
  {
   "cell_type": "code",
   "execution_count": 227,
   "id": "7ca0343a",
   "metadata": {},
   "outputs": [],
   "source": [
    "import pandas as pd\n",
    "import numpy as np\n",
    "from sklearn.linear_model import LinearRegression\n",
    "from sklearn.model_selection import train_test_split\n",
    "from sklearn.metrics import r2_score\n",
    "from sklearn.preprocessing import StandardScaler"
   ]
  },
  {
   "cell_type": "code",
   "execution_count": 228,
   "id": "245908cb",
   "metadata": {},
   "outputs": [
    {
     "data": {
      "text/html": [
       "<div>\n",
       "<style scoped>\n",
       "    .dataframe tbody tr th:only-of-type {\n",
       "        vertical-align: middle;\n",
       "    }\n",
       "\n",
       "    .dataframe tbody tr th {\n",
       "        vertical-align: top;\n",
       "    }\n",
       "\n",
       "    .dataframe thead th {\n",
       "        text-align: right;\n",
       "    }\n",
       "</style>\n",
       "<table border=\"1\" class=\"dataframe\">\n",
       "  <thead>\n",
       "    <tr style=\"text-align: right;\">\n",
       "      <th></th>\n",
       "      <th>Пол</th>\n",
       "      <th>Возраст</th>\n",
       "      <th>Зарплата</th>\n",
       "      <th>Члены семьи</th>\n",
       "      <th>Страховые выплаты</th>\n",
       "    </tr>\n",
       "  </thead>\n",
       "  <tbody>\n",
       "    <tr>\n",
       "      <th>0</th>\n",
       "      <td>1</td>\n",
       "      <td>41.0</td>\n",
       "      <td>49600.0</td>\n",
       "      <td>1</td>\n",
       "      <td>0</td>\n",
       "    </tr>\n",
       "    <tr>\n",
       "      <th>1</th>\n",
       "      <td>0</td>\n",
       "      <td>46.0</td>\n",
       "      <td>38000.0</td>\n",
       "      <td>1</td>\n",
       "      <td>1</td>\n",
       "    </tr>\n",
       "    <tr>\n",
       "      <th>2</th>\n",
       "      <td>0</td>\n",
       "      <td>29.0</td>\n",
       "      <td>21000.0</td>\n",
       "      <td>0</td>\n",
       "      <td>0</td>\n",
       "    </tr>\n",
       "    <tr>\n",
       "      <th>3</th>\n",
       "      <td>0</td>\n",
       "      <td>21.0</td>\n",
       "      <td>41700.0</td>\n",
       "      <td>2</td>\n",
       "      <td>0</td>\n",
       "    </tr>\n",
       "    <tr>\n",
       "      <th>4</th>\n",
       "      <td>1</td>\n",
       "      <td>28.0</td>\n",
       "      <td>26100.0</td>\n",
       "      <td>0</td>\n",
       "      <td>0</td>\n",
       "    </tr>\n",
       "  </tbody>\n",
       "</table>\n",
       "</div>"
      ],
      "text/plain": [
       "   Пол  Возраст  Зарплата  Члены семьи  Страховые выплаты\n",
       "0    1     41.0   49600.0            1                  0\n",
       "1    0     46.0   38000.0            1                  1\n",
       "2    0     29.0   21000.0            0                  0\n",
       "3    0     21.0   41700.0            2                  0\n",
       "4    1     28.0   26100.0            0                  0"
      ]
     },
     "execution_count": 228,
     "metadata": {},
     "output_type": "execute_result"
    }
   ],
   "source": [
    "df = pd.read_csv('/datasets/insurance.csv')\n",
    "df.head()"
   ]
  },
  {
   "cell_type": "markdown",
   "id": "510af8b1",
   "metadata": {},
   "source": [
    "## Умножение матриц"
   ]
  },
  {
   "cell_type": "markdown",
   "id": "d6e207e9",
   "metadata": {},
   "source": [
    "В этом задании вы можете записывать формулы в *Jupyter Notebook.*\n",
    "\n",
    "Чтобы записать формулу внутри текста, окружите её символами доллара \\\\$; если снаружи —  двойными символами \\\\$\\\\$. Эти формулы записываются на языке вёрстки *LaTeX.* \n",
    "\n",
    "Для примера мы записали формулы линейной регрессии. Можете их скопировать и отредактировать, чтобы решить задачу.\n",
    "\n",
    "Работать в *LaTeX* необязательно."
   ]
  },
  {
   "cell_type": "markdown",
   "id": "1cd3a436",
   "metadata": {},
   "source": [
    "Обозначения:\n",
    "\n",
    "- $X$ — матрица признаков (нулевой столбец состоит из единиц)\n",
    "\n",
    "- $y$ — вектор целевого признака\n",
    "\n",
    "- $P$ — матрица, на которую умножаются признаки\n",
    "\n",
    "- $w$ — вектор весов линейной регрессии (нулевой элемент равен сдвигу)"
   ]
  },
  {
   "cell_type": "markdown",
   "id": "c9fc845b",
   "metadata": {},
   "source": [
    "Предсказания:\n",
    "\n",
    "$$\n",
    "a = Xw\n",
    "$$\n",
    "\n",
    "Задача обучения:\n",
    "\n",
    "$$\n",
    "w = \\arg\\min_w MSE(Xw, y)\n",
    "$$\n",
    "\n",
    "Формула обучения:\n",
    "\n",
    "$$\n",
    "w = (X^T X)^{-1} X^T y\n",
    "$$"
   ]
  },
  {
   "cell_type": "markdown",
   "id": "153d6439",
   "metadata": {},
   "source": [
    "Признаки умножают на обратимую матрицу. Изменится ли качество линейной регрессии?"
   ]
  },
  {
   "cell_type": "markdown",
   "id": "b173f49e",
   "metadata": {},
   "source": [
    "**Ответ:** \n",
    "\n",
    "Качество не изменится, но в полученой матрице количество признаков будет равно количеству строк, что значительно увеличит время обучения модели.\n",
    "\n",
    "\n",
    "**Обоснование:** \n",
    "\n",
    "Предположим, что качество не меняется. Значит, предсказания равны друг другу:\n",
    "\n",
    "$$\n",
    "a = a_P\n",
    "$$\n",
    "$$\n",
    "Xw = XPw_P\n",
    "$$\n",
    "$$\n",
    "X((X^T X)^{-1} X^T y) = XP(((XP)^T XP)^{-1} (XP)^T y)\n",
    "$$\n",
    "$$\n",
    "(X^T X)^{-1} X^T y = P((P^TX^T XP)^{-1} P^T X^T y)\n",
    "$$\n",
    "$$\n",
    "(X^T X)^{-1} X^T y = P((X^TXP)^{-1} P^{T-1} P^T X^T y)\n",
    "$$\n",
    "$$\n",
    "(X^T X)^{-1} X^T y = P(X^TXP)^{-1} X^T y\n",
    "$$\n",
    "$$\n",
    "(X^T X)^{-1} X^T y = PP^{-1}(X^TX)^{-1} X^T y\n",
    "$$\n",
    "$$\n",
    "(X^T X)^{-1} X^T y = (X^TX)^{-1} X^T y\n",
    "$$\n",
    "$$\n",
    "I = I\n",
    "$$"
   ]
  },
  {
   "cell_type": "markdown",
   "id": "e43fb5b5",
   "metadata": {},
   "source": [
    "## Алгоритм преобразования"
   ]
  },
  {
   "cell_type": "markdown",
   "id": "501d6784",
   "metadata": {},
   "source": [
    "**Алгоритм**\n",
    "$$\n",
    "X^P = (X + p_1) \\cdot p_2\n",
    "$$\n",
    "$p_1, p_2$ - векторы случайных чисел $>0$."
   ]
  },
  {
   "cell_type": "markdown",
   "id": "e5177111",
   "metadata": {},
   "source": [
    "**Обоснование**\n",
    "\n",
    "Матрица признаков умножается на вектор случаных чисел > 0. Для избежения нулевых значений, перед умножением к матрице прибавляется другой вектор без нулевых значений.\n",
    "\n",
    "При прибавлении или умножении на вектор все значения признака изменяются на одну и ту же величину, что минимизирует влияние на результат линейной регресии."
   ]
  },
  {
   "cell_type": "markdown",
   "id": "4d8f842e",
   "metadata": {},
   "source": [
    "## Проверка алгоритма"
   ]
  },
  {
   "cell_type": "code",
   "execution_count": 229,
   "id": "c93d1ac8",
   "metadata": {},
   "outputs": [],
   "source": [
    "X = df.drop('Страховые выплаты', axis=1)\n",
    "y = df['Страховые выплаты']\n",
    "X_train, X_test, y_train, y_test = train_test_split(X, y, test_size=0.33, random_state=42)"
   ]
  },
  {
   "cell_type": "code",
   "execution_count": 230,
   "id": "c96bbcaa",
   "metadata": {},
   "outputs": [
    {
     "data": {
      "text/html": [
       "<div>\n",
       "<style scoped>\n",
       "    .dataframe tbody tr th:only-of-type {\n",
       "        vertical-align: middle;\n",
       "    }\n",
       "\n",
       "    .dataframe tbody tr th {\n",
       "        vertical-align: top;\n",
       "    }\n",
       "\n",
       "    .dataframe thead th {\n",
       "        text-align: right;\n",
       "    }\n",
       "</style>\n",
       "<table border=\"1\" class=\"dataframe\">\n",
       "  <thead>\n",
       "    <tr style=\"text-align: right;\">\n",
       "      <th></th>\n",
       "      <th>Пол</th>\n",
       "      <th>Возраст</th>\n",
       "      <th>Зарплата</th>\n",
       "      <th>Члены семьи</th>\n",
       "    </tr>\n",
       "  </thead>\n",
       "  <tbody>\n",
       "    <tr>\n",
       "      <th>0</th>\n",
       "      <td>1</td>\n",
       "      <td>41.0</td>\n",
       "      <td>49600.0</td>\n",
       "      <td>1</td>\n",
       "    </tr>\n",
       "    <tr>\n",
       "      <th>1</th>\n",
       "      <td>0</td>\n",
       "      <td>46.0</td>\n",
       "      <td>38000.0</td>\n",
       "      <td>1</td>\n",
       "    </tr>\n",
       "    <tr>\n",
       "      <th>2</th>\n",
       "      <td>0</td>\n",
       "      <td>29.0</td>\n",
       "      <td>21000.0</td>\n",
       "      <td>0</td>\n",
       "    </tr>\n",
       "    <tr>\n",
       "      <th>3</th>\n",
       "      <td>0</td>\n",
       "      <td>21.0</td>\n",
       "      <td>41700.0</td>\n",
       "      <td>2</td>\n",
       "    </tr>\n",
       "    <tr>\n",
       "      <th>4</th>\n",
       "      <td>1</td>\n",
       "      <td>28.0</td>\n",
       "      <td>26100.0</td>\n",
       "      <td>0</td>\n",
       "    </tr>\n",
       "  </tbody>\n",
       "</table>\n",
       "</div>"
      ],
      "text/plain": [
       "   Пол  Возраст  Зарплата  Члены семьи\n",
       "0    1     41.0   49600.0            1\n",
       "1    0     46.0   38000.0            1\n",
       "2    0     29.0   21000.0            0\n",
       "3    0     21.0   41700.0            2\n",
       "4    1     28.0   26100.0            0"
      ]
     },
     "execution_count": 230,
     "metadata": {},
     "output_type": "execute_result"
    }
   ],
   "source": [
    "X.head()"
   ]
  },
  {
   "cell_type": "code",
   "execution_count": 231,
   "id": "55a29e73",
   "metadata": {},
   "outputs": [
    {
     "data": {
      "text/plain": [
       "0.41541402565474894"
      ]
     },
     "execution_count": 231,
     "metadata": {},
     "output_type": "execute_result"
    }
   ],
   "source": [
    "model = LinearRegression()\n",
    "model.fit(X_train, y_train)\n",
    "predictions = model.predict(X_test)\n",
    "score = r2_score(y_test, predictions)\n",
    "score"
   ]
  },
  {
   "cell_type": "code",
   "execution_count": 232,
   "id": "0a841ea9",
   "metadata": {},
   "outputs": [],
   "source": [
    "np.random.seed(42)\n",
    "X = df.drop('Страховые выплаты', axis=1)\n",
    "y = df['Страховые выплаты']\n",
    "p1 =  np.random.uniform(low=1, high=1000, size=X.shape[1])\n",
    "p2 =  np.random.uniform(low=1, high=1000, size=X.shape[1])\n",
    "\n",
    "X = (X + p1) * p2 \n",
    "X_train, X_test, y_train, y_test = train_test_split(X, y, test_size=0.33, random_state=42)"
   ]
  },
  {
   "cell_type": "code",
   "execution_count": 233,
   "id": "4698ba83",
   "metadata": {},
   "outputs": [
    {
     "data": {
      "text/html": [
       "<div>\n",
       "<style scoped>\n",
       "    .dataframe tbody tr th:only-of-type {\n",
       "        vertical-align: middle;\n",
       "    }\n",
       "\n",
       "    .dataframe tbody tr th {\n",
       "        vertical-align: top;\n",
       "    }\n",
       "\n",
       "    .dataframe thead th {\n",
       "        text-align: right;\n",
       "    }\n",
       "</style>\n",
       "<table border=\"1\" class=\"dataframe\">\n",
       "  <thead>\n",
       "    <tr style=\"text-align: right;\">\n",
       "      <th></th>\n",
       "      <th>Пол</th>\n",
       "      <th>Возраст</th>\n",
       "      <th>Зарплата</th>\n",
       "      <th>Члены семьи</th>\n",
       "    </tr>\n",
       "  </thead>\n",
       "  <tbody>\n",
       "    <tr>\n",
       "      <th>0</th>\n",
       "      <td>59006.318911</td>\n",
       "      <td>155546.739743</td>\n",
       "      <td>2.970888e+06</td>\n",
       "      <td>519837.809389</td>\n",
       "    </tr>\n",
       "    <tr>\n",
       "      <th>1</th>\n",
       "      <td>58849.456289</td>\n",
       "      <td>156330.932372</td>\n",
       "      <td>2.286192e+06</td>\n",
       "      <td>519837.809389</td>\n",
       "    </tr>\n",
       "    <tr>\n",
       "      <th>2</th>\n",
       "      <td>58849.456289</td>\n",
       "      <td>153664.677434</td>\n",
       "      <td>1.282758e+06</td>\n",
       "      <td>518971.499419</td>\n",
       "    </tr>\n",
       "    <tr>\n",
       "      <th>3</th>\n",
       "      <td>58849.456289</td>\n",
       "      <td>152409.969227</td>\n",
       "      <td>2.504587e+06</td>\n",
       "      <td>520704.119359</td>\n",
       "    </tr>\n",
       "    <tr>\n",
       "      <th>4</th>\n",
       "      <td>59006.318911</td>\n",
       "      <td>153507.838908</td>\n",
       "      <td>1.583788e+06</td>\n",
       "      <td>518971.499419</td>\n",
       "    </tr>\n",
       "  </tbody>\n",
       "</table>\n",
       "</div>"
      ],
      "text/plain": [
       "            Пол        Возраст      Зарплата    Члены семьи\n",
       "0  59006.318911  155546.739743  2.970888e+06  519837.809389\n",
       "1  58849.456289  156330.932372  2.286192e+06  519837.809389\n",
       "2  58849.456289  153664.677434  1.282758e+06  518971.499419\n",
       "3  58849.456289  152409.969227  2.504587e+06  520704.119359\n",
       "4  59006.318911  153507.838908  1.583788e+06  518971.499419"
      ]
     },
     "execution_count": 233,
     "metadata": {},
     "output_type": "execute_result"
    }
   ],
   "source": [
    "X.head()"
   ]
  },
  {
   "cell_type": "markdown",
   "id": "e4a5d1b9",
   "metadata": {},
   "source": [
    "После преобразования сложно понять смысл значений и получить из них персональные данные."
   ]
  },
  {
   "cell_type": "code",
   "execution_count": 234,
   "id": "f891ef2e",
   "metadata": {},
   "outputs": [
    {
     "data": {
      "text/plain": [
       "0.4154140256547487"
      ]
     },
     "execution_count": 234,
     "metadata": {},
     "output_type": "execute_result"
    }
   ],
   "source": [
    "model = LinearRegression()\n",
    "model.fit(X_train, y_train)\n",
    "predictions = model.predict(X_test)\n",
    "p_score = r2_score(y_test, predictions)\n",
    "p_score"
   ]
  },
  {
   "cell_type": "code",
   "execution_count": 235,
   "id": "dbc84400",
   "metadata": {},
   "outputs": [
    {
     "data": {
      "text/plain": [
       "2.220446049250313e-16"
      ]
     },
     "execution_count": 235,
     "metadata": {},
     "output_type": "execute_result"
    }
   ],
   "source": [
    "score - p_score"
   ]
  },
  {
   "cell_type": "markdown",
   "id": "e3afce60",
   "metadata": {},
   "source": [
    "**Вывод**\n",
    "\n",
    "Разница между качеством моделей минимальная."
   ]
  }
 ],
 "metadata": {
  "kernelspec": {
   "display_name": "Python 3 (ipykernel)",
   "language": "python",
   "name": "python3"
  },
  "language_info": {
   "codemirror_mode": {
    "name": "ipython",
    "version": 3
   },
   "file_extension": ".py",
   "mimetype": "text/x-python",
   "name": "python",
   "nbconvert_exporter": "python",
   "pygments_lexer": "ipython3",
   "version": "3.11.5"
  },
  "toc": {
   "base_numbering": 1,
   "nav_menu": {},
   "number_sections": true,
   "sideBar": true,
   "skip_h1_title": false,
   "title_cell": "Table of Contents",
   "title_sidebar": "Contents",
   "toc_cell": false,
   "toc_position": {},
   "toc_section_display": true,
   "toc_window_display": false
  }
 },
 "nbformat": 4,
 "nbformat_minor": 5
}
