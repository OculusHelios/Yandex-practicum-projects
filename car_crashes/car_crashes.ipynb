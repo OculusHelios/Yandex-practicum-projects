{
 "cells": [
  {
   "cell_type": "markdown",
   "id": "01224fae",
   "metadata": {},
   "source": [
    "## Введение\n",
    "\n",
    "Цель проекта - разработка системы анализа риска ДТП. Для её выполнения были даны следующие SQL таблицы:\n",
    "\n",
    "* collisions (информация о происшествиях):\n",
    "    * `CASE_ID` - идентификационный  Номер в базе данных;\n",
    "    * `COLLISION_DATE` - дата происшествия;\n",
    "    * `COLLISION_TIME` - Время происшествия;\n",
    "    * `INTERSECTION` - является ли место происшествие перекрёстком;\n",
    "    * `WEATHER_1` - погода;\n",
    "    * `COLLISION_DAMAGE` - серьёзность происшествия;\n",
    "    * `PRIMARY_COLL_FACTOR` - основной фактор аварии;\n",
    "    * `ROAD_SURFACE` - состояние дороги;\n",
    "    * `LIGHTING` - освещение;\n",
    "    * `COUNTY_CITY_LOCATION` - номер географических районов, где произошло ДТП;\n",
    "    * `COUNTY_LOCATION` - названия географических районов, где произошло ДТП;\n",
    "    * `DIRECTION` - направление движения;\n",
    "    * `DISTANCE` - расстояние от главной дороги (метры);\n",
    "    * `LOCATION_TYPE` - тип дороги;\n",
    "    * `PARTY_COUNT` - количество участников;\n",
    "    * `PCF_VIOLATION_CATEGORY` - категория нарушения;\n",
    "    * `TYPE_OF_COLLISION` - тип аварии;\n",
    "    * `MOTOR_VEHICLE_INVOLVED_WITH` - дополнительные участники ДТП;\n",
    "    * `ROAD_CONDITION_1` - дорожное состояние;\n",
    "    * `CONTROL_CONDITION_1` - устройство управления.\n",
    "\n",
    "* Parties (описание участников происшествия):\n",
    "    * `CASE_ID` - идентификационный  номер в базе данных;\n",
    "    * `PARTY_NUMBER` - номер участника происшествия;\n",
    "    * `PARTY_TYPE` - тип участника происшествия;\n",
    "    * `Тип участника происшествия` - виновность участника;\n",
    "    * `INSURANCE_PREMIUM` - сумма страховки (тыс. $);\n",
    "    * `PARTY_DRUG_PHYSICAL` - состояние участника: физическое или с учётом принятых лекарств;\n",
    "    * `PARTY_SOBRIETY` - трезвость участника;\n",
    "    * `CELLPHONE_IN_USE` - наличие телефона в автомобиле (возможности разговаривать по громкой связи).\n",
    "    \n",
    "* Vehicles (Описание автомобиля):\n",
    "    * `ID` - индекс текущей таблицы;\n",
    "    * `CASE_ID` - идентификационный номер в базе данных;\n",
    "    * `VEHICLE_TYPE` - тип кузова;\n",
    "    * `VEHICLE_TRANSMISSION` - тип КПП;\n",
    "    * `VEHICLE_AGE` - возраст автомобиля (в годах).\n",
    "    \n",
    "    \n",
    "План работы:\n",
    "1. Загрузка библиотек и подключение к базе данных;\n",
    "1. Первичное исследование таблиц;\n",
    "1. Статистический анализ факторов ДТП;\n",
    "    * Подготовка задач для коллег и примеры их выполнения;\n",
    "1. Создание модели для оценки водительского риска:\n",
    "    1. Создание объеденённого датафрейма;\n",
    "    1. Предоработка и предварительный анализ данных;\n",
    "    1. Подготовка выборок для обучения;\n",
    "    1. Обучение моделей;\n",
    "    1. Сравнение моделей и выводы.\n",
    "1. Анализ важности факторов ДТП:\n",
    "    1. Графический анализ матрицы ошибок;\n",
    "    1. Анализ важности факторов ДТП;\n",
    "    1. Исследование наиболее важного фактора.\n",
    "1. Общий вывод."
   ]
  },
  {
   "cell_type": "markdown",
   "id": "22e3e6c6",
   "metadata": {
    "ExecuteTime": {
     "end_time": "2022-05-05T04:58:05.692448Z",
     "start_time": "2022-05-05T04:58:05.688565Z"
    }
   },
   "source": [
    "## Подключитесь к базе. Загрузите таблицы sql"
   ]
  },
  {
   "cell_type": "code",
   "execution_count": 1,
   "id": "38673509",
   "metadata": {},
   "outputs": [],
   "source": [
    "import numpy as np\n",
    "import pandas as pd\n",
    "from sqlalchemy import create_engine \n",
    "import matplotlib.pyplot as plt\n",
    "import seaborn as sns\n",
    "from sklearn.model_selection import train_test_split, GridSearchCV\n",
    "from sklearn.preprocessing import Normalizer, OneHotEncoder\n",
    "from sklearn.compose import make_column_transformer\n",
    "from sklearn.metrics import confusion_matrix, f1_score, recall_score, precision_score\n",
    "from sklearn.linear_model import LogisticRegression\n",
    "from sklearn.ensemble import RandomForestClassifier\n",
    "import xgboost as xgb\n",
    "from catboost import CatBoostClassifier\n",
    "from sklearn.metrics import ConfusionMatrixDisplay\n",
    "\n",
    "%matplotlib inline\n",
    "sns.set()\n",
    "import warnings\n",
    "warnings.filterwarnings('ignore')"
   ]
  },
  {
   "cell_type": "code",
   "execution_count": 2,
   "id": "17224bf6",
   "metadata": {},
   "outputs": [],
   "source": [
    "db_config = {\n",
    "'user': '********', # имя пользователя,\n",
    "'pwd': '********', # пароль,\n",
    "'host': '********,\n",
    "'port': ****, # порт подключения,\n",
    "'db': 'data-science-vehicle-db' # название базы данных,\n",
    "} \n",
    "\n",
    "connection_string = 'postgresql://{}:{}@{}:{}/{}'.format(\n",
    "    db_config['user'],\n",
    "    db_config['pwd'],\n",
    "    db_config['host'],\n",
    "    db_config['port'],\n",
    "    db_config['db'],\n",
    ") \n",
    "\n",
    "engine = create_engine(connection_string) "
   ]
  },
  {
   "cell_type": "markdown",
   "id": "2a08affb",
   "metadata": {},
   "source": [
    "## Проведите первичное исследование таблиц"
   ]
  },
  {
   "cell_type": "markdown",
   "id": "0f199e82",
   "metadata": {},
   "source": [
    "### case_ids"
   ]
  },
  {
   "cell_type": "code",
   "execution_count": 3,
   "id": "3138f492",
   "metadata": {},
   "outputs": [
    {
     "data": {
      "text/html": [
       "<div>\n",
       "<style scoped>\n",
       "    .dataframe tbody tr th:only-of-type {\n",
       "        vertical-align: middle;\n",
       "    }\n",
       "\n",
       "    .dataframe tbody tr th {\n",
       "        vertical-align: top;\n",
       "    }\n",
       "\n",
       "    .dataframe thead th {\n",
       "        text-align: right;\n",
       "    }\n",
       "</style>\n",
       "<table border=\"1\" class=\"dataframe\">\n",
       "  <thead>\n",
       "    <tr style=\"text-align: right;\">\n",
       "      <th></th>\n",
       "      <th>case_id</th>\n",
       "      <th>db_year</th>\n",
       "    </tr>\n",
       "  </thead>\n",
       "  <tbody>\n",
       "    <tr>\n",
       "      <th>0</th>\n",
       "      <td>0081715</td>\n",
       "      <td>2021</td>\n",
       "    </tr>\n",
       "    <tr>\n",
       "      <th>1</th>\n",
       "      <td>0726202</td>\n",
       "      <td>2021</td>\n",
       "    </tr>\n",
       "    <tr>\n",
       "      <th>2</th>\n",
       "      <td>3858022</td>\n",
       "      <td>2021</td>\n",
       "    </tr>\n",
       "    <tr>\n",
       "      <th>3</th>\n",
       "      <td>3899441</td>\n",
       "      <td>2021</td>\n",
       "    </tr>\n",
       "    <tr>\n",
       "      <th>4</th>\n",
       "      <td>3899442</td>\n",
       "      <td>2021</td>\n",
       "    </tr>\n",
       "  </tbody>\n",
       "</table>\n",
       "</div>"
      ],
      "text/plain": [
       "   case_id db_year\n",
       "0  0081715    2021\n",
       "1  0726202    2021\n",
       "2  3858022    2021\n",
       "3  3899441    2021\n",
       "4  3899442    2021"
      ]
     },
     "execution_count": 3,
     "metadata": {},
     "output_type": "execute_result"
    }
   ],
   "source": [
    "query = '''\n",
    "SELECT *\n",
    "FROM case_ids\n",
    "LIMIT 5\n",
    "'''\n",
    "\n",
    "df = pd.read_sql_query(query, con = engine) \n",
    "df"
   ]
  },
  {
   "cell_type": "markdown",
   "id": "9e6a516e",
   "metadata": {},
   "source": [
    "### vehicles"
   ]
  },
  {
   "cell_type": "code",
   "execution_count": 4,
   "id": "9d78a8f8",
   "metadata": {
    "scrolled": true
   },
   "outputs": [
    {
     "data": {
      "text/html": [
       "<div>\n",
       "<style scoped>\n",
       "    .dataframe tbody tr th:only-of-type {\n",
       "        vertical-align: middle;\n",
       "    }\n",
       "\n",
       "    .dataframe tbody tr th {\n",
       "        vertical-align: top;\n",
       "    }\n",
       "\n",
       "    .dataframe thead th {\n",
       "        text-align: right;\n",
       "    }\n",
       "</style>\n",
       "<table border=\"1\" class=\"dataframe\">\n",
       "  <thead>\n",
       "    <tr style=\"text-align: right;\">\n",
       "      <th></th>\n",
       "      <th>id</th>\n",
       "      <th>case_id</th>\n",
       "      <th>party_number</th>\n",
       "      <th>vehicle_type</th>\n",
       "      <th>vehicle_transmission</th>\n",
       "      <th>vehicle_age</th>\n",
       "    </tr>\n",
       "  </thead>\n",
       "  <tbody>\n",
       "    <tr>\n",
       "      <th>0</th>\n",
       "      <td>1175713</td>\n",
       "      <td>5305032</td>\n",
       "      <td>2</td>\n",
       "      <td>sedan</td>\n",
       "      <td>manual</td>\n",
       "      <td>3</td>\n",
       "    </tr>\n",
       "    <tr>\n",
       "      <th>1</th>\n",
       "      <td>1</td>\n",
       "      <td>3858022</td>\n",
       "      <td>1</td>\n",
       "      <td>sedan</td>\n",
       "      <td>auto</td>\n",
       "      <td>3</td>\n",
       "    </tr>\n",
       "    <tr>\n",
       "      <th>2</th>\n",
       "      <td>1175712</td>\n",
       "      <td>5305030</td>\n",
       "      <td>1</td>\n",
       "      <td>sedan</td>\n",
       "      <td>auto</td>\n",
       "      <td>3</td>\n",
       "    </tr>\n",
       "    <tr>\n",
       "      <th>3</th>\n",
       "      <td>1175717</td>\n",
       "      <td>5305033</td>\n",
       "      <td>3</td>\n",
       "      <td>sedan</td>\n",
       "      <td>auto</td>\n",
       "      <td>5</td>\n",
       "    </tr>\n",
       "    <tr>\n",
       "      <th>4</th>\n",
       "      <td>1175722</td>\n",
       "      <td>5305034</td>\n",
       "      <td>2</td>\n",
       "      <td>sedan</td>\n",
       "      <td>auto</td>\n",
       "      <td>5</td>\n",
       "    </tr>\n",
       "  </tbody>\n",
       "</table>\n",
       "</div>"
      ],
      "text/plain": [
       "        id  case_id  party_number vehicle_type vehicle_transmission  \\\n",
       "0  1175713  5305032             2        sedan               manual   \n",
       "1        1  3858022             1        sedan                 auto   \n",
       "2  1175712  5305030             1        sedan                 auto   \n",
       "3  1175717  5305033             3        sedan                 auto   \n",
       "4  1175722  5305034             2        sedan                 auto   \n",
       "\n",
       "   vehicle_age  \n",
       "0            3  \n",
       "1            3  \n",
       "2            3  \n",
       "3            5  \n",
       "4            5  "
      ]
     },
     "execution_count": 4,
     "metadata": {},
     "output_type": "execute_result"
    }
   ],
   "source": [
    "query = '''\n",
    "SELECT *\n",
    "FROM vehicles\n",
    "LIMIT 5\n",
    "'''\n",
    "\n",
    "df = pd.read_sql_query(query, con = engine) \n",
    "df"
   ]
  },
  {
   "cell_type": "markdown",
   "id": "2d3e7b26",
   "metadata": {},
   "source": [
    "### collisions"
   ]
  },
  {
   "cell_type": "code",
   "execution_count": 5,
   "id": "1cebd978",
   "metadata": {},
   "outputs": [
    {
     "data": {
      "text/html": [
       "<div>\n",
       "<style scoped>\n",
       "    .dataframe tbody tr th:only-of-type {\n",
       "        vertical-align: middle;\n",
       "    }\n",
       "\n",
       "    .dataframe tbody tr th {\n",
       "        vertical-align: top;\n",
       "    }\n",
       "\n",
       "    .dataframe thead th {\n",
       "        text-align: right;\n",
       "    }\n",
       "</style>\n",
       "<table border=\"1\" class=\"dataframe\">\n",
       "  <thead>\n",
       "    <tr style=\"text-align: right;\">\n",
       "      <th></th>\n",
       "      <th>case_id</th>\n",
       "      <th>county_city_location</th>\n",
       "      <th>county_location</th>\n",
       "      <th>distance</th>\n",
       "      <th>direction</th>\n",
       "      <th>intersection</th>\n",
       "      <th>weather_1</th>\n",
       "      <th>location_type</th>\n",
       "      <th>collision_damage</th>\n",
       "      <th>party_count</th>\n",
       "      <th>primary_collision_factor</th>\n",
       "      <th>pcf_violation_category</th>\n",
       "      <th>type_of_collision</th>\n",
       "      <th>motor_vehicle_involved_with</th>\n",
       "      <th>road_surface</th>\n",
       "      <th>road_condition_1</th>\n",
       "      <th>lighting</th>\n",
       "      <th>control_device</th>\n",
       "      <th>collision_date</th>\n",
       "      <th>collision_time</th>\n",
       "    </tr>\n",
       "  </thead>\n",
       "  <tbody>\n",
       "    <tr>\n",
       "      <th>0</th>\n",
       "      <td>4083072</td>\n",
       "      <td>1942</td>\n",
       "      <td>los angeles</td>\n",
       "      <td>528.0</td>\n",
       "      <td>north</td>\n",
       "      <td>0</td>\n",
       "      <td>cloudy</td>\n",
       "      <td>highway</td>\n",
       "      <td>small damage</td>\n",
       "      <td>2</td>\n",
       "      <td>vehicle code violation</td>\n",
       "      <td>unsafe lane change</td>\n",
       "      <td>sideswipe</td>\n",
       "      <td>other motor vehicle</td>\n",
       "      <td>wet</td>\n",
       "      <td>normal</td>\n",
       "      <td>daylight</td>\n",
       "      <td>none</td>\n",
       "      <td>2009-01-22</td>\n",
       "      <td>07:25:00</td>\n",
       "    </tr>\n",
       "    <tr>\n",
       "      <th>1</th>\n",
       "      <td>4083075</td>\n",
       "      <td>4313</td>\n",
       "      <td>santa clara</td>\n",
       "      <td>0.0</td>\n",
       "      <td>None</td>\n",
       "      <td>1</td>\n",
       "      <td>clear</td>\n",
       "      <td>None</td>\n",
       "      <td>small damage</td>\n",
       "      <td>1</td>\n",
       "      <td>vehicle code violation</td>\n",
       "      <td>improper passing</td>\n",
       "      <td>hit object</td>\n",
       "      <td>fixed object</td>\n",
       "      <td>dry</td>\n",
       "      <td>normal</td>\n",
       "      <td>dark with street lights</td>\n",
       "      <td>functioning</td>\n",
       "      <td>2009-01-03</td>\n",
       "      <td>02:26:00</td>\n",
       "    </tr>\n",
       "    <tr>\n",
       "      <th>2</th>\n",
       "      <td>4083073</td>\n",
       "      <td>0109</td>\n",
       "      <td>alameda</td>\n",
       "      <td>0.0</td>\n",
       "      <td>None</td>\n",
       "      <td>1</td>\n",
       "      <td>clear</td>\n",
       "      <td>None</td>\n",
       "      <td>scratch</td>\n",
       "      <td>2</td>\n",
       "      <td>vehicle code violation</td>\n",
       "      <td>improper turning</td>\n",
       "      <td>broadside</td>\n",
       "      <td>other motor vehicle</td>\n",
       "      <td>dry</td>\n",
       "      <td>normal</td>\n",
       "      <td>dark with street lights</td>\n",
       "      <td>functioning</td>\n",
       "      <td>2009-01-11</td>\n",
       "      <td>03:32:00</td>\n",
       "    </tr>\n",
       "    <tr>\n",
       "      <th>3</th>\n",
       "      <td>4083077</td>\n",
       "      <td>0109</td>\n",
       "      <td>alameda</td>\n",
       "      <td>0.0</td>\n",
       "      <td>None</td>\n",
       "      <td>1</td>\n",
       "      <td>clear</td>\n",
       "      <td>None</td>\n",
       "      <td>scratch</td>\n",
       "      <td>2</td>\n",
       "      <td>vehicle code violation</td>\n",
       "      <td>automobile right of way</td>\n",
       "      <td>broadside</td>\n",
       "      <td>other motor vehicle</td>\n",
       "      <td>dry</td>\n",
       "      <td>normal</td>\n",
       "      <td>daylight</td>\n",
       "      <td>functioning</td>\n",
       "      <td>2009-01-11</td>\n",
       "      <td>10:35:00</td>\n",
       "    </tr>\n",
       "    <tr>\n",
       "      <th>4</th>\n",
       "      <td>4083087</td>\n",
       "      <td>4313</td>\n",
       "      <td>santa clara</td>\n",
       "      <td>0.0</td>\n",
       "      <td>None</td>\n",
       "      <td>1</td>\n",
       "      <td>clear</td>\n",
       "      <td>None</td>\n",
       "      <td>scratch</td>\n",
       "      <td>2</td>\n",
       "      <td>vehicle code violation</td>\n",
       "      <td>speeding</td>\n",
       "      <td>rear end</td>\n",
       "      <td>other motor vehicle</td>\n",
       "      <td>dry</td>\n",
       "      <td>None</td>\n",
       "      <td>dark with street lights</td>\n",
       "      <td>functioning</td>\n",
       "      <td>2009-01-02</td>\n",
       "      <td>22:43:00</td>\n",
       "    </tr>\n",
       "  </tbody>\n",
       "</table>\n",
       "</div>"
      ],
      "text/plain": [
       "   case_id county_city_location county_location  distance direction  \\\n",
       "0  4083072                 1942     los angeles     528.0     north   \n",
       "1  4083075                 4313     santa clara       0.0      None   \n",
       "2  4083073                 0109         alameda       0.0      None   \n",
       "3  4083077                 0109         alameda       0.0      None   \n",
       "4  4083087                 4313     santa clara       0.0      None   \n",
       "\n",
       "   intersection weather_1 location_type collision_damage  party_count  \\\n",
       "0             0    cloudy       highway     small damage            2   \n",
       "1             1     clear          None     small damage            1   \n",
       "2             1     clear          None          scratch            2   \n",
       "3             1     clear          None          scratch            2   \n",
       "4             1     clear          None          scratch            2   \n",
       "\n",
       "  primary_collision_factor   pcf_violation_category type_of_collision  \\\n",
       "0   vehicle code violation       unsafe lane change         sideswipe   \n",
       "1   vehicle code violation         improper passing        hit object   \n",
       "2   vehicle code violation         improper turning         broadside   \n",
       "3   vehicle code violation  automobile right of way         broadside   \n",
       "4   vehicle code violation                 speeding          rear end   \n",
       "\n",
       "  motor_vehicle_involved_with road_surface road_condition_1  \\\n",
       "0         other motor vehicle          wet           normal   \n",
       "1                fixed object          dry           normal   \n",
       "2         other motor vehicle          dry           normal   \n",
       "3         other motor vehicle          dry           normal   \n",
       "4         other motor vehicle          dry             None   \n",
       "\n",
       "                  lighting control_device collision_date collision_time  \n",
       "0                 daylight           none     2009-01-22       07:25:00  \n",
       "1  dark with street lights    functioning     2009-01-03       02:26:00  \n",
       "2  dark with street lights    functioning     2009-01-11       03:32:00  \n",
       "3                 daylight    functioning     2009-01-11       10:35:00  \n",
       "4  dark with street lights    functioning     2009-01-02       22:43:00  "
      ]
     },
     "execution_count": 5,
     "metadata": {},
     "output_type": "execute_result"
    }
   ],
   "source": [
    "query = '''\n",
    "SELECT *\n",
    "FROM collisions\n",
    "LIMIT 5\n",
    "'''\n",
    "\n",
    "df = pd.read_sql_query(query, con = engine) \n",
    "df"
   ]
  },
  {
   "cell_type": "markdown",
   "id": "ba2ba784",
   "metadata": {},
   "source": [
    "### parties"
   ]
  },
  {
   "cell_type": "code",
   "execution_count": 6,
   "id": "26997bae",
   "metadata": {},
   "outputs": [
    {
     "data": {
      "text/html": [
       "<div>\n",
       "<style scoped>\n",
       "    .dataframe tbody tr th:only-of-type {\n",
       "        vertical-align: middle;\n",
       "    }\n",
       "\n",
       "    .dataframe tbody tr th {\n",
       "        vertical-align: top;\n",
       "    }\n",
       "\n",
       "    .dataframe thead th {\n",
       "        text-align: right;\n",
       "    }\n",
       "</style>\n",
       "<table border=\"1\" class=\"dataframe\">\n",
       "  <thead>\n",
       "    <tr style=\"text-align: right;\">\n",
       "      <th></th>\n",
       "      <th>id</th>\n",
       "      <th>case_id</th>\n",
       "      <th>party_number</th>\n",
       "      <th>party_type</th>\n",
       "      <th>at_fault</th>\n",
       "      <th>insurance_premium</th>\n",
       "      <th>party_sobriety</th>\n",
       "      <th>party_drug_physical</th>\n",
       "      <th>cellphone_in_use</th>\n",
       "    </tr>\n",
       "  </thead>\n",
       "  <tbody>\n",
       "    <tr>\n",
       "      <th>0</th>\n",
       "      <td>22</td>\n",
       "      <td>3899454</td>\n",
       "      <td>1</td>\n",
       "      <td>road signs</td>\n",
       "      <td>1</td>\n",
       "      <td>29.0</td>\n",
       "      <td>had not been drinking</td>\n",
       "      <td>None</td>\n",
       "      <td>0</td>\n",
       "    </tr>\n",
       "    <tr>\n",
       "      <th>1</th>\n",
       "      <td>23</td>\n",
       "      <td>3899454</td>\n",
       "      <td>2</td>\n",
       "      <td>road signs</td>\n",
       "      <td>0</td>\n",
       "      <td>7.0</td>\n",
       "      <td>had not been drinking</td>\n",
       "      <td>None</td>\n",
       "      <td>0</td>\n",
       "    </tr>\n",
       "    <tr>\n",
       "      <th>2</th>\n",
       "      <td>29</td>\n",
       "      <td>3899462</td>\n",
       "      <td>2</td>\n",
       "      <td>car</td>\n",
       "      <td>0</td>\n",
       "      <td>21.0</td>\n",
       "      <td>had not been drinking</td>\n",
       "      <td>None</td>\n",
       "      <td>0</td>\n",
       "    </tr>\n",
       "    <tr>\n",
       "      <th>3</th>\n",
       "      <td>31</td>\n",
       "      <td>3899465</td>\n",
       "      <td>2</td>\n",
       "      <td>road signs</td>\n",
       "      <td>0</td>\n",
       "      <td>24.0</td>\n",
       "      <td>had not been drinking</td>\n",
       "      <td>None</td>\n",
       "      <td>0</td>\n",
       "    </tr>\n",
       "    <tr>\n",
       "      <th>4</th>\n",
       "      <td>41</td>\n",
       "      <td>3899478</td>\n",
       "      <td>2</td>\n",
       "      <td>road bumper</td>\n",
       "      <td>0</td>\n",
       "      <td>NaN</td>\n",
       "      <td>not applicable</td>\n",
       "      <td>not applicable</td>\n",
       "      <td>0</td>\n",
       "    </tr>\n",
       "  </tbody>\n",
       "</table>\n",
       "</div>"
      ],
      "text/plain": [
       "   id  case_id  party_number   party_type  at_fault  insurance_premium  \\\n",
       "0  22  3899454             1   road signs         1               29.0   \n",
       "1  23  3899454             2   road signs         0                7.0   \n",
       "2  29  3899462             2          car         0               21.0   \n",
       "3  31  3899465             2   road signs         0               24.0   \n",
       "4  41  3899478             2  road bumper         0                NaN   \n",
       "\n",
       "          party_sobriety party_drug_physical  cellphone_in_use  \n",
       "0  had not been drinking                None                 0  \n",
       "1  had not been drinking                None                 0  \n",
       "2  had not been drinking                None                 0  \n",
       "3  had not been drinking                None                 0  \n",
       "4         not applicable      not applicable                 0  "
      ]
     },
     "execution_count": 6,
     "metadata": {},
     "output_type": "execute_result"
    }
   ],
   "source": [
    "query = '''\n",
    "SELECT *\n",
    "FROM parties\n",
    "LIMIT 5\n",
    "'''\n",
    "\n",
    "df = pd.read_sql_query(query, con = engine) \n",
    "df"
   ]
  },
  {
   "cell_type": "markdown",
   "id": "fe78eedf",
   "metadata": {},
   "source": [
    "### Вывод\n",
    "\n",
    "Количество таблиц и их содержание соответствует условию задачи. Общий ключ `case_id` присутствует во всех таблицах."
   ]
  },
  {
   "cell_type": "markdown",
   "id": "02b03dde",
   "metadata": {},
   "source": [
    "##  Проведите статистический анализ факторов ДТП"
   ]
  },
  {
   "cell_type": "markdown",
   "id": "aba67c9e",
   "metadata": {},
   "source": [
    "### Выясните, в какие месяцы происходит наибольшее количество аварий"
   ]
  },
  {
   "cell_type": "code",
   "execution_count": 7,
   "id": "aa9e218d",
   "metadata": {
    "scrolled": true
   },
   "outputs": [
    {
     "data": {
      "text/html": [
       "<div>\n",
       "<style scoped>\n",
       "    .dataframe tbody tr th:only-of-type {\n",
       "        vertical-align: middle;\n",
       "    }\n",
       "\n",
       "    .dataframe tbody tr th {\n",
       "        vertical-align: top;\n",
       "    }\n",
       "\n",
       "    .dataframe thead th {\n",
       "        text-align: right;\n",
       "    }\n",
       "</style>\n",
       "<table border=\"1\" class=\"dataframe\">\n",
       "  <thead>\n",
       "    <tr style=\"text-align: right;\">\n",
       "      <th></th>\n",
       "      <th>month</th>\n",
       "      <th>date</th>\n",
       "      <th>count</th>\n",
       "    </tr>\n",
       "  </thead>\n",
       "  <tbody>\n",
       "    <tr>\n",
       "      <th>0</th>\n",
       "      <td>January</td>\n",
       "      <td>2009-01-01 00:00:00+03:00</td>\n",
       "      <td>35062</td>\n",
       "    </tr>\n",
       "    <tr>\n",
       "      <th>1</th>\n",
       "      <td>February</td>\n",
       "      <td>2009-02-01 00:00:00+03:00</td>\n",
       "      <td>34480</td>\n",
       "    </tr>\n",
       "    <tr>\n",
       "      <th>2</th>\n",
       "      <td>March</td>\n",
       "      <td>2009-03-01 00:00:00+03:00</td>\n",
       "      <td>36648</td>\n",
       "    </tr>\n",
       "    <tr>\n",
       "      <th>3</th>\n",
       "      <td>April</td>\n",
       "      <td>2009-04-01 00:00:00+04:00</td>\n",
       "      <td>35239</td>\n",
       "    </tr>\n",
       "    <tr>\n",
       "      <th>4</th>\n",
       "      <td>May</td>\n",
       "      <td>2009-05-01 00:00:00+04:00</td>\n",
       "      <td>36916</td>\n",
       "    </tr>\n",
       "    <tr>\n",
       "      <th>5</th>\n",
       "      <td>June</td>\n",
       "      <td>2009-06-01 00:00:00+04:00</td>\n",
       "      <td>34202</td>\n",
       "    </tr>\n",
       "    <tr>\n",
       "      <th>6</th>\n",
       "      <td>July</td>\n",
       "      <td>2009-07-01 00:00:00+04:00</td>\n",
       "      <td>35161</td>\n",
       "    </tr>\n",
       "    <tr>\n",
       "      <th>7</th>\n",
       "      <td>August</td>\n",
       "      <td>2009-08-01 00:00:00+04:00</td>\n",
       "      <td>34508</td>\n",
       "    </tr>\n",
       "    <tr>\n",
       "      <th>8</th>\n",
       "      <td>September</td>\n",
       "      <td>2009-09-01 00:00:00+04:00</td>\n",
       "      <td>35555</td>\n",
       "    </tr>\n",
       "    <tr>\n",
       "      <th>9</th>\n",
       "      <td>October</td>\n",
       "      <td>2009-10-01 00:00:00+04:00</td>\n",
       "      <td>37835</td>\n",
       "    </tr>\n",
       "    <tr>\n",
       "      <th>10</th>\n",
       "      <td>November</td>\n",
       "      <td>2009-11-01 00:00:00+03:00</td>\n",
       "      <td>34562</td>\n",
       "    </tr>\n",
       "    <tr>\n",
       "      <th>11</th>\n",
       "      <td>December</td>\n",
       "      <td>2009-12-01 00:00:00+03:00</td>\n",
       "      <td>36060</td>\n",
       "    </tr>\n",
       "    <tr>\n",
       "      <th>12</th>\n",
       "      <td>January</td>\n",
       "      <td>2010-01-01 00:00:00+03:00</td>\n",
       "      <td>32892</td>\n",
       "    </tr>\n",
       "    <tr>\n",
       "      <th>13</th>\n",
       "      <td>February</td>\n",
       "      <td>2010-02-01 00:00:00+03:00</td>\n",
       "      <td>31918</td>\n",
       "    </tr>\n",
       "    <tr>\n",
       "      <th>14</th>\n",
       "      <td>March</td>\n",
       "      <td>2010-03-01 00:00:00+03:00</td>\n",
       "      <td>35803</td>\n",
       "    </tr>\n",
       "    <tr>\n",
       "      <th>15</th>\n",
       "      <td>April</td>\n",
       "      <td>2010-04-01 00:00:00+04:00</td>\n",
       "      <td>34416</td>\n",
       "    </tr>\n",
       "    <tr>\n",
       "      <th>16</th>\n",
       "      <td>May</td>\n",
       "      <td>2010-05-01 00:00:00+04:00</td>\n",
       "      <td>34862</td>\n",
       "    </tr>\n",
       "    <tr>\n",
       "      <th>17</th>\n",
       "      <td>June</td>\n",
       "      <td>2010-06-01 00:00:00+04:00</td>\n",
       "      <td>33367</td>\n",
       "    </tr>\n",
       "    <tr>\n",
       "      <th>18</th>\n",
       "      <td>July</td>\n",
       "      <td>2010-07-01 00:00:00+04:00</td>\n",
       "      <td>33645</td>\n",
       "    </tr>\n",
       "    <tr>\n",
       "      <th>19</th>\n",
       "      <td>August</td>\n",
       "      <td>2010-08-01 00:00:00+04:00</td>\n",
       "      <td>34620</td>\n",
       "    </tr>\n",
       "    <tr>\n",
       "      <th>20</th>\n",
       "      <td>September</td>\n",
       "      <td>2010-09-01 00:00:00+04:00</td>\n",
       "      <td>34957</td>\n",
       "    </tr>\n",
       "    <tr>\n",
       "      <th>21</th>\n",
       "      <td>October</td>\n",
       "      <td>2010-10-01 00:00:00+04:00</td>\n",
       "      <td>37480</td>\n",
       "    </tr>\n",
       "    <tr>\n",
       "      <th>22</th>\n",
       "      <td>November</td>\n",
       "      <td>2010-11-01 00:00:00+03:00</td>\n",
       "      <td>35460</td>\n",
       "    </tr>\n",
       "    <tr>\n",
       "      <th>23</th>\n",
       "      <td>December</td>\n",
       "      <td>2010-12-01 00:00:00+03:00</td>\n",
       "      <td>37070</td>\n",
       "    </tr>\n",
       "    <tr>\n",
       "      <th>24</th>\n",
       "      <td>January</td>\n",
       "      <td>2011-01-01 00:00:00+03:00</td>\n",
       "      <td>31926</td>\n",
       "    </tr>\n",
       "    <tr>\n",
       "      <th>25</th>\n",
       "      <td>February</td>\n",
       "      <td>2011-02-01 00:00:00+03:00</td>\n",
       "      <td>31975</td>\n",
       "    </tr>\n",
       "    <tr>\n",
       "      <th>26</th>\n",
       "      <td>March</td>\n",
       "      <td>2011-03-01 00:00:00+03:00</td>\n",
       "      <td>34585</td>\n",
       "    </tr>\n",
       "    <tr>\n",
       "      <th>27</th>\n",
       "      <td>April</td>\n",
       "      <td>2011-04-01 00:00:00+04:00</td>\n",
       "      <td>31377</td>\n",
       "    </tr>\n",
       "    <tr>\n",
       "      <th>28</th>\n",
       "      <td>May</td>\n",
       "      <td>2011-05-01 00:00:00+04:00</td>\n",
       "      <td>33370</td>\n",
       "    </tr>\n",
       "    <tr>\n",
       "      <th>29</th>\n",
       "      <td>June</td>\n",
       "      <td>2011-06-01 00:00:00+04:00</td>\n",
       "      <td>31962</td>\n",
       "    </tr>\n",
       "    <tr>\n",
       "      <th>30</th>\n",
       "      <td>July</td>\n",
       "      <td>2011-07-01 00:00:00+04:00</td>\n",
       "      <td>33029</td>\n",
       "    </tr>\n",
       "    <tr>\n",
       "      <th>31</th>\n",
       "      <td>August</td>\n",
       "      <td>2011-08-01 00:00:00+04:00</td>\n",
       "      <td>34339</td>\n",
       "    </tr>\n",
       "    <tr>\n",
       "      <th>32</th>\n",
       "      <td>September</td>\n",
       "      <td>2011-09-01 00:00:00+04:00</td>\n",
       "      <td>34137</td>\n",
       "    </tr>\n",
       "    <tr>\n",
       "      <th>33</th>\n",
       "      <td>October</td>\n",
       "      <td>2011-10-01 00:00:00+04:00</td>\n",
       "      <td>36618</td>\n",
       "    </tr>\n",
       "    <tr>\n",
       "      <th>34</th>\n",
       "      <td>November</td>\n",
       "      <td>2011-11-01 00:00:00+04:00</td>\n",
       "      <td>34495</td>\n",
       "    </tr>\n",
       "    <tr>\n",
       "      <th>35</th>\n",
       "      <td>December</td>\n",
       "      <td>2011-12-01 00:00:00+04:00</td>\n",
       "      <td>34615</td>\n",
       "    </tr>\n",
       "    <tr>\n",
       "      <th>36</th>\n",
       "      <td>January</td>\n",
       "      <td>2012-01-01 00:00:00+04:00</td>\n",
       "      <td>32020</td>\n",
       "    </tr>\n",
       "    <tr>\n",
       "      <th>37</th>\n",
       "      <td>February</td>\n",
       "      <td>2012-02-01 00:00:00+04:00</td>\n",
       "      <td>30377</td>\n",
       "    </tr>\n",
       "    <tr>\n",
       "      <th>38</th>\n",
       "      <td>March</td>\n",
       "      <td>2012-03-01 00:00:00+04:00</td>\n",
       "      <td>32498</td>\n",
       "    </tr>\n",
       "    <tr>\n",
       "      <th>39</th>\n",
       "      <td>April</td>\n",
       "      <td>2012-04-01 00:00:00+04:00</td>\n",
       "      <td>29143</td>\n",
       "    </tr>\n",
       "    <tr>\n",
       "      <th>40</th>\n",
       "      <td>May</td>\n",
       "      <td>2012-05-01 00:00:00+04:00</td>\n",
       "      <td>25168</td>\n",
       "    </tr>\n",
       "    <tr>\n",
       "      <th>41</th>\n",
       "      <td>June</td>\n",
       "      <td>2012-06-01 00:00:00+04:00</td>\n",
       "      <td>3062</td>\n",
       "    </tr>\n",
       "    <tr>\n",
       "      <th>42</th>\n",
       "      <td>July</td>\n",
       "      <td>2012-07-01 00:00:00+04:00</td>\n",
       "      <td>390</td>\n",
       "    </tr>\n",
       "    <tr>\n",
       "      <th>43</th>\n",
       "      <td>August</td>\n",
       "      <td>2012-08-01 00:00:00+04:00</td>\n",
       "      <td>622</td>\n",
       "    </tr>\n",
       "    <tr>\n",
       "      <th>44</th>\n",
       "      <td>September</td>\n",
       "      <td>2012-09-01 00:00:00+04:00</td>\n",
       "      <td>510</td>\n",
       "    </tr>\n",
       "    <tr>\n",
       "      <th>45</th>\n",
       "      <td>October</td>\n",
       "      <td>2012-10-01 00:00:00+04:00</td>\n",
       "      <td>304</td>\n",
       "    </tr>\n",
       "    <tr>\n",
       "      <th>46</th>\n",
       "      <td>November</td>\n",
       "      <td>2012-11-01 00:00:00+04:00</td>\n",
       "      <td>253</td>\n",
       "    </tr>\n",
       "    <tr>\n",
       "      <th>47</th>\n",
       "      <td>December</td>\n",
       "      <td>2012-12-01 00:00:00+04:00</td>\n",
       "      <td>200</td>\n",
       "    </tr>\n",
       "    <tr>\n",
       "      <th>48</th>\n",
       "      <td>January</td>\n",
       "      <td>2013-01-01 00:00:00+04:00</td>\n",
       "      <td>144</td>\n",
       "    </tr>\n",
       "    <tr>\n",
       "      <th>49</th>\n",
       "      <td>February</td>\n",
       "      <td>2013-02-01 00:00:00+04:00</td>\n",
       "      <td>108</td>\n",
       "    </tr>\n",
       "    <tr>\n",
       "      <th>50</th>\n",
       "      <td>March</td>\n",
       "      <td>2013-03-01 00:00:00+04:00</td>\n",
       "      <td>46</td>\n",
       "    </tr>\n",
       "    <tr>\n",
       "      <th>51</th>\n",
       "      <td>April</td>\n",
       "      <td>2013-04-01 00:00:00+04:00</td>\n",
       "      <td>5</td>\n",
       "    </tr>\n",
       "    <tr>\n",
       "      <th>52</th>\n",
       "      <td>June</td>\n",
       "      <td>2013-06-01 00:00:00+04:00</td>\n",
       "      <td>1</td>\n",
       "    </tr>\n",
       "    <tr>\n",
       "      <th>53</th>\n",
       "      <td>July</td>\n",
       "      <td>2013-07-01 00:00:00+04:00</td>\n",
       "      <td>1</td>\n",
       "    </tr>\n",
       "    <tr>\n",
       "      <th>54</th>\n",
       "      <td>March</td>\n",
       "      <td>2020-03-01 00:00:00+03:00</td>\n",
       "      <td>1</td>\n",
       "    </tr>\n",
       "    <tr>\n",
       "      <th>55</th>\n",
       "      <td>July</td>\n",
       "      <td>2020-07-01 00:00:00+03:00</td>\n",
       "      <td>1</td>\n",
       "    </tr>\n",
       "  </tbody>\n",
       "</table>\n",
       "</div>"
      ],
      "text/plain": [
       "        month                       date  count\n",
       "0   January    2009-01-01 00:00:00+03:00  35062\n",
       "1   February   2009-02-01 00:00:00+03:00  34480\n",
       "2   March      2009-03-01 00:00:00+03:00  36648\n",
       "3   April      2009-04-01 00:00:00+04:00  35239\n",
       "4   May        2009-05-01 00:00:00+04:00  36916\n",
       "5   June       2009-06-01 00:00:00+04:00  34202\n",
       "6   July       2009-07-01 00:00:00+04:00  35161\n",
       "7   August     2009-08-01 00:00:00+04:00  34508\n",
       "8   September  2009-09-01 00:00:00+04:00  35555\n",
       "9   October    2009-10-01 00:00:00+04:00  37835\n",
       "10  November   2009-11-01 00:00:00+03:00  34562\n",
       "11  December   2009-12-01 00:00:00+03:00  36060\n",
       "12  January    2010-01-01 00:00:00+03:00  32892\n",
       "13  February   2010-02-01 00:00:00+03:00  31918\n",
       "14  March      2010-03-01 00:00:00+03:00  35803\n",
       "15  April      2010-04-01 00:00:00+04:00  34416\n",
       "16  May        2010-05-01 00:00:00+04:00  34862\n",
       "17  June       2010-06-01 00:00:00+04:00  33367\n",
       "18  July       2010-07-01 00:00:00+04:00  33645\n",
       "19  August     2010-08-01 00:00:00+04:00  34620\n",
       "20  September  2010-09-01 00:00:00+04:00  34957\n",
       "21  October    2010-10-01 00:00:00+04:00  37480\n",
       "22  November   2010-11-01 00:00:00+03:00  35460\n",
       "23  December   2010-12-01 00:00:00+03:00  37070\n",
       "24  January    2011-01-01 00:00:00+03:00  31926\n",
       "25  February   2011-02-01 00:00:00+03:00  31975\n",
       "26  March      2011-03-01 00:00:00+03:00  34585\n",
       "27  April      2011-04-01 00:00:00+04:00  31377\n",
       "28  May        2011-05-01 00:00:00+04:00  33370\n",
       "29  June       2011-06-01 00:00:00+04:00  31962\n",
       "30  July       2011-07-01 00:00:00+04:00  33029\n",
       "31  August     2011-08-01 00:00:00+04:00  34339\n",
       "32  September  2011-09-01 00:00:00+04:00  34137\n",
       "33  October    2011-10-01 00:00:00+04:00  36618\n",
       "34  November   2011-11-01 00:00:00+04:00  34495\n",
       "35  December   2011-12-01 00:00:00+04:00  34615\n",
       "36  January    2012-01-01 00:00:00+04:00  32020\n",
       "37  February   2012-02-01 00:00:00+04:00  30377\n",
       "38  March      2012-03-01 00:00:00+04:00  32498\n",
       "39  April      2012-04-01 00:00:00+04:00  29143\n",
       "40  May        2012-05-01 00:00:00+04:00  25168\n",
       "41  June       2012-06-01 00:00:00+04:00   3062\n",
       "42  July       2012-07-01 00:00:00+04:00    390\n",
       "43  August     2012-08-01 00:00:00+04:00    622\n",
       "44  September  2012-09-01 00:00:00+04:00    510\n",
       "45  October    2012-10-01 00:00:00+04:00    304\n",
       "46  November   2012-11-01 00:00:00+04:00    253\n",
       "47  December   2012-12-01 00:00:00+04:00    200\n",
       "48  January    2013-01-01 00:00:00+04:00    144\n",
       "49  February   2013-02-01 00:00:00+04:00    108\n",
       "50  March      2013-03-01 00:00:00+04:00     46\n",
       "51  April      2013-04-01 00:00:00+04:00      5\n",
       "52  June       2013-06-01 00:00:00+04:00      1\n",
       "53  July       2013-07-01 00:00:00+04:00      1\n",
       "54  March      2020-03-01 00:00:00+03:00      1\n",
       "55  July       2020-07-01 00:00:00+03:00      1"
      ]
     },
     "execution_count": 7,
     "metadata": {},
     "output_type": "execute_result"
    }
   ],
   "source": [
    "query = '''\n",
    "SELECT \n",
    "  DISTINCT TO_CHAR(collision_date, 'Month') AS month, DATE_TRUNC('month', collision_date) AS date, \n",
    "  COUNT(case_id) OVER(\n",
    "    PARTITION BY DATE_TRUNC('month', collision_date) \n",
    "    ORDER BY \n",
    "      DATE_TRUNC('month', collision_date)\n",
    "  ) \n",
    "FROM \n",
    "  collisions \n",
    "ORDER BY \n",
    "  date\n",
    "\n",
    "'''\n",
    "\n",
    "df = pd.read_sql_query(query, con = engine) \n",
    "df"
   ]
  },
  {
   "cell_type": "code",
   "execution_count": 8,
   "id": "692e2d6e",
   "metadata": {},
   "outputs": [
    {
     "data": {
      "text/html": [
       "<div>\n",
       "<style scoped>\n",
       "    .dataframe tbody tr th:only-of-type {\n",
       "        vertical-align: middle;\n",
       "    }\n",
       "\n",
       "    .dataframe tbody tr th {\n",
       "        vertical-align: top;\n",
       "    }\n",
       "\n",
       "    .dataframe thead th {\n",
       "        text-align: right;\n",
       "    }\n",
       "</style>\n",
       "<table border=\"1\" class=\"dataframe\">\n",
       "  <thead>\n",
       "    <tr style=\"text-align: right;\">\n",
       "      <th></th>\n",
       "      <th>month</th>\n",
       "      <th>count</th>\n",
       "    </tr>\n",
       "  </thead>\n",
       "  <tbody>\n",
       "    <tr>\n",
       "      <th>0</th>\n",
       "      <td>April</td>\n",
       "      <td>101032</td>\n",
       "    </tr>\n",
       "    <tr>\n",
       "      <th>1</th>\n",
       "      <td>August</td>\n",
       "      <td>103467</td>\n",
       "    </tr>\n",
       "    <tr>\n",
       "      <th>2</th>\n",
       "      <td>December</td>\n",
       "      <td>107745</td>\n",
       "    </tr>\n",
       "    <tr>\n",
       "      <th>3</th>\n",
       "      <td>February</td>\n",
       "      <td>98373</td>\n",
       "    </tr>\n",
       "    <tr>\n",
       "      <th>4</th>\n",
       "      <td>January</td>\n",
       "      <td>99880</td>\n",
       "    </tr>\n",
       "    <tr>\n",
       "      <th>5</th>\n",
       "      <td>July</td>\n",
       "      <td>101835</td>\n",
       "    </tr>\n",
       "    <tr>\n",
       "      <th>6</th>\n",
       "      <td>June</td>\n",
       "      <td>99531</td>\n",
       "    </tr>\n",
       "    <tr>\n",
       "      <th>7</th>\n",
       "      <td>March</td>\n",
       "      <td>107036</td>\n",
       "    </tr>\n",
       "    <tr>\n",
       "      <th>8</th>\n",
       "      <td>May</td>\n",
       "      <td>105148</td>\n",
       "    </tr>\n",
       "    <tr>\n",
       "      <th>9</th>\n",
       "      <td>November</td>\n",
       "      <td>104517</td>\n",
       "    </tr>\n",
       "    <tr>\n",
       "      <th>10</th>\n",
       "      <td>October</td>\n",
       "      <td>111933</td>\n",
       "    </tr>\n",
       "    <tr>\n",
       "      <th>11</th>\n",
       "      <td>September</td>\n",
       "      <td>104649</td>\n",
       "    </tr>\n",
       "  </tbody>\n",
       "</table>\n",
       "</div>"
      ],
      "text/plain": [
       "        month   count\n",
       "0   April      101032\n",
       "1   August     103467\n",
       "2   December   107745\n",
       "3   February    98373\n",
       "4   January     99880\n",
       "5   July       101835\n",
       "6   June        99531\n",
       "7   March      107036\n",
       "8   May        105148\n",
       "9   November   104517\n",
       "10  October    111933\n",
       "11  September  104649"
      ]
     },
     "execution_count": 8,
     "metadata": {},
     "output_type": "execute_result"
    }
   ],
   "source": [
    "query = '''\n",
    "SELECT \n",
    "  DISTINCT TO_CHAR(collision_date, 'Month') AS month, \n",
    "  COUNT(case_id) OVER(\n",
    "    PARTITION BY TO_CHAR(collision_date, 'Month') \n",
    "    ORDER BY \n",
    "      TO_CHAR(collision_date, 'Month')\n",
    "  ) \n",
    "FROM \n",
    "  collisions \n",
    "WHERE \n",
    "  EXTRACT (\n",
    "    'year' \n",
    "    FROM \n",
    "      collision_date\n",
    "  ) < '2012' \n",
    "ORDER BY \n",
    "  month\n",
    "'''\n",
    "\n",
    "df = pd.read_sql_query(query, con = engine) \n",
    "df"
   ]
  },
  {
   "cell_type": "markdown",
   "id": "d1335add",
   "metadata": {},
   "source": [
    "Удалены неполные данные за 2012, 2013 и 2020 года"
   ]
  },
  {
   "cell_type": "code",
   "execution_count": 9,
   "id": "cc4be25b",
   "metadata": {
    "scrolled": false
   },
   "outputs": [
    {
     "data": {
      "image/png": "[encoded data removed]",
      "text/plain": [
       "<Figure size 800x800 with 1 Axes>"
      ]
     },
     "metadata": {},
     "output_type": "display_data"
    }
   ],
   "source": [
    "plt.figure(figsize=(8,8))\n",
    "plt.pie(data=df, x='count', labels='month', autopct='%.0f%%');"
   ]
  },
  {
   "cell_type": "markdown",
   "id": "7f609494",
   "metadata": {},
   "source": [
    "Количество аварий относительно равномерно распределено по месяцам. Их пик наблюдается в марте."
   ]
  },
  {
   "cell_type": "markdown",
   "id": "aa942b5b",
   "metadata": {},
   "source": [
    "### Скоро состоится первое совещание вашей рабочей группы. Чтобы обсуждение было конструктивным, каждый сотрудник должен понимать данные. Для этого вы должны создать подходящие аналитические задачи и поручить их решение коллегам"
   ]
  },
  {
   "cell_type": "markdown",
   "id": "ddf99bdd",
   "metadata": {},
   "source": [
    "* Провести анализ серьёзности повреждений транспортного средства, исходя из состояния дороги в момент ДТП (связать collisions и parties);\n",
    "* Определить наиболее частые часы ДТП с участием более двух авто на перекрестке (таблицы collisions и parties);\n",
    "* Найдти самые частые причины ДТП (таблица parties);\n",
    "* Провести анализ серьёзности повреждений транспортного средства, исходя из освещения в момент ДТП (связать collisions и parties);\n",
    "* Найти процент ДТП с возрастом авто более 10 лет(таблицы collisions и vehicles);\n",
    "* Определить направление с наибольшим количеством ДТП(таблица collisions).\n"
   ]
  },
  {
   "cell_type": "markdown",
   "id": "6497237d",
   "metadata": {},
   "source": [
    "#### Провести анализ серьёзности повреждений транспортного средства, исходя из состояния дороги в момент ДТП"
   ]
  },
  {
   "cell_type": "code",
   "execution_count": 10,
   "id": "9d8ce98e",
   "metadata": {},
   "outputs": [
    {
     "data": {
      "text/html": [
       "<div>\n",
       "<style scoped>\n",
       "    .dataframe tbody tr th:only-of-type {\n",
       "        vertical-align: middle;\n",
       "    }\n",
       "\n",
       "    .dataframe tbody tr th {\n",
       "        vertical-align: top;\n",
       "    }\n",
       "\n",
       "    .dataframe thead th {\n",
       "        text-align: right;\n",
       "    }\n",
       "</style>\n",
       "<table border=\"1\" class=\"dataframe\">\n",
       "  <thead>\n",
       "    <tr style=\"text-align: right;\">\n",
       "      <th></th>\n",
       "      <th>collision_damage</th>\n",
       "      <th>road_surface</th>\n",
       "    </tr>\n",
       "  </thead>\n",
       "  <tbody>\n",
       "    <tr>\n",
       "      <th>0</th>\n",
       "      <td>small damage</td>\n",
       "      <td>dry</td>\n",
       "    </tr>\n",
       "    <tr>\n",
       "      <th>1</th>\n",
       "      <td>middle damage</td>\n",
       "      <td>dry</td>\n",
       "    </tr>\n",
       "    <tr>\n",
       "      <th>2</th>\n",
       "      <td>middle damage</td>\n",
       "      <td>dry</td>\n",
       "    </tr>\n",
       "    <tr>\n",
       "      <th>3</th>\n",
       "      <td>scratch</td>\n",
       "      <td>dry</td>\n",
       "    </tr>\n",
       "    <tr>\n",
       "      <th>4</th>\n",
       "      <td>scratch</td>\n",
       "      <td>dry</td>\n",
       "    </tr>\n",
       "  </tbody>\n",
       "</table>\n",
       "</div>"
      ],
      "text/plain": [
       "  collision_damage road_surface\n",
       "0     small damage          dry\n",
       "1    middle damage          dry\n",
       "2    middle damage          dry\n",
       "3          scratch          dry\n",
       "4          scratch          dry"
      ]
     },
     "execution_count": 10,
     "metadata": {},
     "output_type": "execute_result"
    }
   ],
   "source": [
    "query = '''\n",
    "SELECT \n",
    "  collision_damage, \n",
    "  road_surface \n",
    "FROM \n",
    "  collisions \n",
    "  INNER JOIN parties ON collisions.case_id = parties.case_id \n",
    "WHERE \n",
    "  party_type = 'car' \n",
    "ORDER BY \n",
    "  road_surface\n",
    "\n",
    "'''\n",
    "\n",
    "df = pd.read_sql_query(query, con = engine) \n",
    "df.head()"
   ]
  },
  {
   "cell_type": "code",
   "execution_count": 11,
   "id": "21704230",
   "metadata": {},
   "outputs": [],
   "source": [
    "order = ['scratch', 'small damage', 'middle damage', 'severe damage', 'fatal']"
   ]
  },
  {
   "cell_type": "markdown",
   "id": "841ba00b",
   "metadata": {},
   "source": [
    "##### dry"
   ]
  },
  {
   "cell_type": "code",
   "execution_count": 12,
   "id": "2100a953",
   "metadata": {},
   "outputs": [
    {
     "data": {
      "text/plain": [
       "Text(0.5, 1.0, 'dry')"
      ]
     },
     "execution_count": 12,
     "metadata": {},
     "output_type": "execute_result"
    },
    {
     "data": {
      "image/png": "[encoded data removed]",
      "text/plain": [
       "<Figure size 1000x500 with 1 Axes>"
      ]
     },
     "metadata": {},
     "output_type": "display_data"
    }
   ],
   "source": [
    "plt.figure(figsize=(10,5))\n",
    "sns.countplot(data=df[df['road_surface'] == 'dry'], x='collision_damage', order=order)\n",
    "plt.title('dry')"
   ]
  },
  {
   "cell_type": "markdown",
   "id": "8a7f1efc",
   "metadata": {},
   "source": [
    "##### slippery"
   ]
  },
  {
   "cell_type": "code",
   "execution_count": 13,
   "id": "259e46ae",
   "metadata": {},
   "outputs": [
    {
     "data": {
      "text/plain": [
       "Text(0.5, 1.0, 'slippery')"
      ]
     },
     "execution_count": 13,
     "metadata": {},
     "output_type": "execute_result"
    },
    {
     "data": {
      "image/png": "[encoded data removed]",
      "text/plain": [
       "<Figure size 1000x500 with 1 Axes>"
      ]
     },
     "metadata": {},
     "output_type": "display_data"
    }
   ],
   "source": [
    "plt.figure(figsize=(10,5))\n",
    "sns.countplot(data=df[df['road_surface'] == 'slippery'], x='collision_damage', order=order)\n",
    "plt.title('slippery')"
   ]
  },
  {
   "cell_type": "markdown",
   "id": "281d741c",
   "metadata": {},
   "source": [
    "##### snowy"
   ]
  },
  {
   "cell_type": "code",
   "execution_count": 14,
   "id": "1b9a6bcf",
   "metadata": {},
   "outputs": [
    {
     "data": {
      "text/plain": [
       "Text(0.5, 1.0, 'snowy')"
      ]
     },
     "execution_count": 14,
     "metadata": {},
     "output_type": "execute_result"
    },
    {
     "data": {
      "image/png": "[encoded data removed]",
      "text/plain": [
       "<Figure size 1000x500 with 1 Axes>"
      ]
     },
     "metadata": {},
     "output_type": "display_data"
    }
   ],
   "source": [
    "plt.figure(figsize=(10,5))\n",
    "sns.countplot(data=df[df['road_surface'] == 'snowy'], x='collision_damage', order=order)\n",
    "plt.title('snowy')"
   ]
  },
  {
   "cell_type": "markdown",
   "id": "3ec2155a",
   "metadata": {},
   "source": [
    "##### wet"
   ]
  },
  {
   "cell_type": "code",
   "execution_count": 15,
   "id": "4a1ac826",
   "metadata": {},
   "outputs": [
    {
     "data": {
      "text/plain": [
       "Text(0.5, 1.0, 'wet')"
      ]
     },
     "execution_count": 15,
     "metadata": {},
     "output_type": "execute_result"
    },
    {
     "data": {
      "image/png": "[encoded data removed]",
      "text/plain": [
       "<Figure size 1000x500 with 1 Axes>"
      ]
     },
     "metadata": {},
     "output_type": "display_data"
    }
   ],
   "source": [
    "plt.figure(figsize=(10,5))\n",
    "sns.countplot(data=df[df['road_surface'] == 'wet'], x='collision_damage', order=order)\n",
    "plt.title('wet')"
   ]
  },
  {
   "cell_type": "markdown",
   "id": "de960970",
   "metadata": {},
   "source": [
    "Пропорции количества повреждений сохроняются вне зависимости от типа дороги, за исключением скользкой, где процент серьезных повреждений выше остальных."
   ]
  },
  {
   "cell_type": "markdown",
   "id": "4e04ed7b",
   "metadata": {},
   "source": [
    "#### Определить наиболее частые часы ДТП с участием более двух авто на перекрестке "
   ]
  },
  {
   "cell_type": "code",
   "execution_count": 16,
   "id": "eeb70e20",
   "metadata": {},
   "outputs": [
    {
     "data": {
      "text/html": [
       "<div>\n",
       "<style scoped>\n",
       "    .dataframe tbody tr th:only-of-type {\n",
       "        vertical-align: middle;\n",
       "    }\n",
       "\n",
       "    .dataframe tbody tr th {\n",
       "        vertical-align: top;\n",
       "    }\n",
       "\n",
       "    .dataframe thead th {\n",
       "        text-align: right;\n",
       "    }\n",
       "</style>\n",
       "<table border=\"1\" class=\"dataframe\">\n",
       "  <thead>\n",
       "    <tr style=\"text-align: right;\">\n",
       "      <th></th>\n",
       "      <th>hour</th>\n",
       "      <th>count</th>\n",
       "    </tr>\n",
       "  </thead>\n",
       "  <tbody>\n",
       "    <tr>\n",
       "      <th>0</th>\n",
       "      <td>17.0</td>\n",
       "      <td>6341</td>\n",
       "    </tr>\n",
       "    <tr>\n",
       "      <th>1</th>\n",
       "      <td>15.0</td>\n",
       "      <td>6285</td>\n",
       "    </tr>\n",
       "    <tr>\n",
       "      <th>2</th>\n",
       "      <td>16.0</td>\n",
       "      <td>5926</td>\n",
       "    </tr>\n",
       "    <tr>\n",
       "      <th>3</th>\n",
       "      <td>14.0</td>\n",
       "      <td>5677</td>\n",
       "    </tr>\n",
       "    <tr>\n",
       "      <th>4</th>\n",
       "      <td>18.0</td>\n",
       "      <td>5193</td>\n",
       "    </tr>\n",
       "  </tbody>\n",
       "</table>\n",
       "</div>"
      ],
      "text/plain": [
       "   hour  count\n",
       "0  17.0   6341\n",
       "1  15.0   6285\n",
       "2  16.0   5926\n",
       "3  14.0   5677\n",
       "4  18.0   5193"
      ]
     },
     "execution_count": 16,
     "metadata": {},
     "output_type": "execute_result"
    }
   ],
   "source": [
    "query = '''\n",
    "SELECT DISTINCT EXTRACT(HOUR FROM collision_time) AS hour,\n",
    "COUNT(collisions.case_id) OVER (PARTITION BY EXTRACT(HOUR FROM collision_time) ORDER BY EXTRACT(HOUR FROM collision_time))\n",
    "FROM collisions\n",
    "INNER JOIN parties\n",
    "ON collisions.case_id = parties.case_id\n",
    "WHERE intersection = 1\n",
    "AND party_count > 2\n",
    "AND party_type = 'car'\n",
    "ORDER BY count DESC\n",
    "'''\n",
    "\n",
    "df = pd.read_sql_query(query, con = engine) \n",
    "df.head()"
   ]
  },
  {
   "cell_type": "code",
   "execution_count": 17,
   "id": "e3699f1b",
   "metadata": {},
   "outputs": [
    {
     "data": {
      "text/plain": [
       "Text(0.5, 1.0, 'зависимость частоты ДТП от времени')"
      ]
     },
     "execution_count": 17,
     "metadata": {},
     "output_type": "execute_result"
    },
    {
     "data": {
      "image/png": "[encoded data removed]",
      "text/plain": [
       "<Figure size 1200x500 with 1 Axes>"
      ]
     },
     "metadata": {},
     "output_type": "display_data"
    }
   ],
   "source": [
    "plt.figure(figsize=(12,5))\n",
    "sns.barplot(data=df, x='hour', y='count')\n",
    "plt.title('зависимость частоты ДТП от времени')"
   ]
  },
  {
   "cell_type": "markdown",
   "id": "84730197",
   "metadata": {},
   "source": [
    "Наблюдается скачок в количествах ДТП на перекрёстках в 7:00 и 8:00, с последующим пиком в период между 15:00 и 17:00. Предположительно, это вызвано большим количеством авто на дорогах в часы пик."
   ]
  },
  {
   "cell_type": "markdown",
   "id": "8760069c",
   "metadata": {},
   "source": [
    "## Создайте модель для оценки водительского риска"
   ]
  },
  {
   "cell_type": "markdown",
   "id": "49f3256e",
   "metadata": {},
   "source": [
    "### Создание датафрейма"
   ]
  },
  {
   "cell_type": "code",
   "execution_count": 18,
   "id": "3cb10f7f",
   "metadata": {},
   "outputs": [
    {
     "data": {
      "text/html": [
       "<div>\n",
       "<style scoped>\n",
       "    .dataframe tbody tr th:only-of-type {\n",
       "        vertical-align: middle;\n",
       "    }\n",
       "\n",
       "    .dataframe tbody tr th {\n",
       "        vertical-align: top;\n",
       "    }\n",
       "\n",
       "    .dataframe thead th {\n",
       "        text-align: right;\n",
       "    }\n",
       "</style>\n",
       "<table border=\"1\" class=\"dataframe\">\n",
       "  <thead>\n",
       "    <tr style=\"text-align: right;\">\n",
       "      <th></th>\n",
       "      <th>id</th>\n",
       "      <th>case_id</th>\n",
       "      <th>party_number</th>\n",
       "      <th>vehicle_type</th>\n",
       "      <th>vehicle_transmission</th>\n",
       "      <th>vehicle_age</th>\n",
       "      <th>id</th>\n",
       "      <th>case_id</th>\n",
       "      <th>party_number</th>\n",
       "      <th>party_type</th>\n",
       "      <th>...</th>\n",
       "      <th>primary_collision_factor</th>\n",
       "      <th>pcf_violation_category</th>\n",
       "      <th>type_of_collision</th>\n",
       "      <th>motor_vehicle_involved_with</th>\n",
       "      <th>road_surface</th>\n",
       "      <th>road_condition_1</th>\n",
       "      <th>lighting</th>\n",
       "      <th>control_device</th>\n",
       "      <th>collision_date</th>\n",
       "      <th>collision_time</th>\n",
       "    </tr>\n",
       "  </thead>\n",
       "  <tbody>\n",
       "    <tr>\n",
       "      <th>0</th>\n",
       "      <td>1328327</td>\n",
       "      <td>5456705</td>\n",
       "      <td>1</td>\n",
       "      <td>sedan</td>\n",
       "      <td>manual</td>\n",
       "      <td>5.0</td>\n",
       "      <td>2409910</td>\n",
       "      <td>5456705</td>\n",
       "      <td>1</td>\n",
       "      <td>car</td>\n",
       "      <td>...</td>\n",
       "      <td>unknown</td>\n",
       "      <td>unknown</td>\n",
       "      <td>sideswipe</td>\n",
       "      <td>other motor vehicle</td>\n",
       "      <td>dry</td>\n",
       "      <td>normal</td>\n",
       "      <td>dark with no street lights</td>\n",
       "      <td>none</td>\n",
       "      <td>2012-01-18</td>\n",
       "      <td>20:10:00</td>\n",
       "    </tr>\n",
       "    <tr>\n",
       "      <th>1</th>\n",
       "      <td>1328686</td>\n",
       "      <td>5457021</td>\n",
       "      <td>2</td>\n",
       "      <td>sedan</td>\n",
       "      <td>auto</td>\n",
       "      <td>1.0</td>\n",
       "      <td>2410555</td>\n",
       "      <td>5457021</td>\n",
       "      <td>2</td>\n",
       "      <td>car</td>\n",
       "      <td>...</td>\n",
       "      <td>vehicle code violation</td>\n",
       "      <td>speeding</td>\n",
       "      <td>rear end</td>\n",
       "      <td>other motor vehicle</td>\n",
       "      <td>dry</td>\n",
       "      <td>normal</td>\n",
       "      <td>daylight</td>\n",
       "      <td>not functioning</td>\n",
       "      <td>2012-01-11</td>\n",
       "      <td>14:28:00</td>\n",
       "    </tr>\n",
       "    <tr>\n",
       "      <th>2</th>\n",
       "      <td>1329594</td>\n",
       "      <td>5457954</td>\n",
       "      <td>2</td>\n",
       "      <td>sedan</td>\n",
       "      <td>manual</td>\n",
       "      <td>8.0</td>\n",
       "      <td>2412316</td>\n",
       "      <td>5457954</td>\n",
       "      <td>2</td>\n",
       "      <td>car</td>\n",
       "      <td>...</td>\n",
       "      <td>vehicle code violation</td>\n",
       "      <td>automobile right of way</td>\n",
       "      <td>broadside</td>\n",
       "      <td>other motor vehicle</td>\n",
       "      <td>dry</td>\n",
       "      <td>normal</td>\n",
       "      <td>dark with street lights</td>\n",
       "      <td>none</td>\n",
       "      <td>2012-01-05</td>\n",
       "      <td>18:33:00</td>\n",
       "    </tr>\n",
       "    <tr>\n",
       "      <th>3</th>\n",
       "      <td>1330992</td>\n",
       "      <td>5459631</td>\n",
       "      <td>2</td>\n",
       "      <td>coupe</td>\n",
       "      <td>auto</td>\n",
       "      <td>10.0</td>\n",
       "      <td>2415244</td>\n",
       "      <td>5459631</td>\n",
       "      <td>2</td>\n",
       "      <td>car</td>\n",
       "      <td>...</td>\n",
       "      <td>vehicle code violation</td>\n",
       "      <td>speeding</td>\n",
       "      <td>rear end</td>\n",
       "      <td>other motor vehicle</td>\n",
       "      <td>wet</td>\n",
       "      <td>normal</td>\n",
       "      <td>daylight</td>\n",
       "      <td>none</td>\n",
       "      <td>2012-02-07</td>\n",
       "      <td>15:00:00</td>\n",
       "    </tr>\n",
       "    <tr>\n",
       "      <th>4</th>\n",
       "      <td>1331046</td>\n",
       "      <td>5459675</td>\n",
       "      <td>1</td>\n",
       "      <td>coupe</td>\n",
       "      <td>manual</td>\n",
       "      <td>4.0</td>\n",
       "      <td>2415327</td>\n",
       "      <td>5459675</td>\n",
       "      <td>1</td>\n",
       "      <td>car</td>\n",
       "      <td>...</td>\n",
       "      <td>vehicle code violation</td>\n",
       "      <td>traffic signals and signs</td>\n",
       "      <td>broadside</td>\n",
       "      <td>other motor vehicle</td>\n",
       "      <td>dry</td>\n",
       "      <td>normal</td>\n",
       "      <td>dark with street lights</td>\n",
       "      <td>functioning</td>\n",
       "      <td>2012-01-29</td>\n",
       "      <td>21:17:00</td>\n",
       "    </tr>\n",
       "  </tbody>\n",
       "</table>\n",
       "<p>5 rows × 35 columns</p>\n",
       "</div>"
      ],
      "text/plain": [
       "        id  case_id  party_number vehicle_type vehicle_transmission  \\\n",
       "0  1328327  5456705             1        sedan               manual   \n",
       "1  1328686  5457021             2        sedan                 auto   \n",
       "2  1329594  5457954             2        sedan               manual   \n",
       "3  1330992  5459631             2        coupe                 auto   \n",
       "4  1331046  5459675             1        coupe               manual   \n",
       "\n",
       "   vehicle_age       id  case_id  party_number party_type  ...  \\\n",
       "0          5.0  2409910  5456705             1        car  ...   \n",
       "1          1.0  2410555  5457021             2        car  ...   \n",
       "2          8.0  2412316  5457954             2        car  ...   \n",
       "3         10.0  2415244  5459631             2        car  ...   \n",
       "4          4.0  2415327  5459675             1        car  ...   \n",
       "\n",
       "   primary_collision_factor     pcf_violation_category type_of_collision  \\\n",
       "0                   unknown                    unknown         sideswipe   \n",
       "1    vehicle code violation                   speeding          rear end   \n",
       "2    vehicle code violation    automobile right of way         broadside   \n",
       "3    vehicle code violation                   speeding          rear end   \n",
       "4    vehicle code violation  traffic signals and signs         broadside   \n",
       "\n",
       "  motor_vehicle_involved_with  road_surface road_condition_1  \\\n",
       "0         other motor vehicle           dry           normal   \n",
       "1         other motor vehicle           dry           normal   \n",
       "2         other motor vehicle           dry           normal   \n",
       "3         other motor vehicle           wet           normal   \n",
       "4         other motor vehicle           dry           normal   \n",
       "\n",
       "                     lighting   control_device  collision_date collision_time  \n",
       "0  dark with no street lights             none      2012-01-18       20:10:00  \n",
       "1                    daylight  not functioning      2012-01-11       14:28:00  \n",
       "2     dark with street lights             none      2012-01-05       18:33:00  \n",
       "3                    daylight             none      2012-02-07       15:00:00  \n",
       "4     dark with street lights      functioning      2012-01-29       21:17:00  \n",
       "\n",
       "[5 rows x 35 columns]"
      ]
     },
     "execution_count": 18,
     "metadata": {},
     "output_type": "execute_result"
    }
   ],
   "source": [
    "query = '''\n",
    "SELECT \n",
    "  * \n",
    "FROM \n",
    "  vehicles \n",
    "  INNER JOIN parties ON vehicles.case_id = parties.case_id \n",
    "  AND vehicles.party_number = parties.party_number \n",
    "  INNER JOIN collisions ON parties.case_id = collisions.case_id \n",
    "WHERE \n",
    "  EXTRACT(\n",
    "    YEAR \n",
    "    FROM \n",
    "      collision_date\n",
    "  ) = 2012 \n",
    "  AND party_type = 'car' \n",
    "  AND collision_damage != 'scratch'\n",
    "'''\n",
    "\n",
    "df = pd.read_sql_query(query, con = engine) \n",
    "df.head()"
   ]
  },
  {
   "cell_type": "code",
   "execution_count": 19,
   "id": "b8b4bc47",
   "metadata": {},
   "outputs": [],
   "source": [
    "columns = [\n",
    "    'distance', # \n",
    "    'intersection', \n",
    "    'weather_1',\n",
    "    'location_type',\n",
    "    'collision_damage',\n",
    "    'party_count',\n",
    "    'primary_collision_factor',\n",
    "    'pcf_violation_category',\n",
    "    'type_of_collision',\n",
    "    'motor_vehicle_involved_with',\n",
    "    'road_surface',\n",
    "    'road_condition_1',\n",
    "    'lighting', \n",
    "    'control_device',\n",
    "    'collision_time',\n",
    "    'at_fault', \n",
    "    'party_sobriety', \n",
    "    'party_drug_physical',\n",
    "    'cellphone_in_use',\n",
    "    'vehicle_transmission',\n",
    "    'vehicle_age'\n",
    "]"
   ]
  },
  {
   "cell_type": "code",
   "execution_count": 20,
   "id": "d5006bf2",
   "metadata": {},
   "outputs": [
    {
     "data": {
      "text/html": [
       "<div>\n",
       "<style scoped>\n",
       "    .dataframe tbody tr th:only-of-type {\n",
       "        vertical-align: middle;\n",
       "    }\n",
       "\n",
       "    .dataframe tbody tr th {\n",
       "        vertical-align: top;\n",
       "    }\n",
       "\n",
       "    .dataframe thead th {\n",
       "        text-align: right;\n",
       "    }\n",
       "</style>\n",
       "<table border=\"1\" class=\"dataframe\">\n",
       "  <thead>\n",
       "    <tr style=\"text-align: right;\">\n",
       "      <th></th>\n",
       "      <th>distance</th>\n",
       "      <th>intersection</th>\n",
       "      <th>weather_1</th>\n",
       "      <th>location_type</th>\n",
       "      <th>collision_damage</th>\n",
       "      <th>party_count</th>\n",
       "      <th>primary_collision_factor</th>\n",
       "      <th>pcf_violation_category</th>\n",
       "      <th>type_of_collision</th>\n",
       "      <th>motor_vehicle_involved_with</th>\n",
       "      <th>...</th>\n",
       "      <th>road_condition_1</th>\n",
       "      <th>lighting</th>\n",
       "      <th>control_device</th>\n",
       "      <th>collision_time</th>\n",
       "      <th>at_fault</th>\n",
       "      <th>party_sobriety</th>\n",
       "      <th>party_drug_physical</th>\n",
       "      <th>cellphone_in_use</th>\n",
       "      <th>vehicle_transmission</th>\n",
       "      <th>vehicle_age</th>\n",
       "    </tr>\n",
       "  </thead>\n",
       "  <tbody>\n",
       "    <tr>\n",
       "      <th>0</th>\n",
       "      <td>500.0</td>\n",
       "      <td>0.0</td>\n",
       "      <td>clear</td>\n",
       "      <td>ramp</td>\n",
       "      <td>small damage</td>\n",
       "      <td>2</td>\n",
       "      <td>unknown</td>\n",
       "      <td>unknown</td>\n",
       "      <td>sideswipe</td>\n",
       "      <td>other motor vehicle</td>\n",
       "      <td>...</td>\n",
       "      <td>normal</td>\n",
       "      <td>dark with no street lights</td>\n",
       "      <td>none</td>\n",
       "      <td>20:10:00</td>\n",
       "      <td>0</td>\n",
       "      <td>had not been drinking</td>\n",
       "      <td>None</td>\n",
       "      <td>0.0</td>\n",
       "      <td>manual</td>\n",
       "      <td>5.0</td>\n",
       "    </tr>\n",
       "    <tr>\n",
       "      <th>1</th>\n",
       "      <td>387.0</td>\n",
       "      <td>0.0</td>\n",
       "      <td>clear</td>\n",
       "      <td>None</td>\n",
       "      <td>small damage</td>\n",
       "      <td>2</td>\n",
       "      <td>vehicle code violation</td>\n",
       "      <td>speeding</td>\n",
       "      <td>rear end</td>\n",
       "      <td>other motor vehicle</td>\n",
       "      <td>...</td>\n",
       "      <td>normal</td>\n",
       "      <td>daylight</td>\n",
       "      <td>not functioning</td>\n",
       "      <td>14:28:00</td>\n",
       "      <td>0</td>\n",
       "      <td>had not been drinking</td>\n",
       "      <td>None</td>\n",
       "      <td>0.0</td>\n",
       "      <td>auto</td>\n",
       "      <td>1.0</td>\n",
       "    </tr>\n",
       "    <tr>\n",
       "      <th>2</th>\n",
       "      <td>7.8</td>\n",
       "      <td>0.0</td>\n",
       "      <td>clear</td>\n",
       "      <td>ramp</td>\n",
       "      <td>small damage</td>\n",
       "      <td>2</td>\n",
       "      <td>vehicle code violation</td>\n",
       "      <td>automobile right of way</td>\n",
       "      <td>broadside</td>\n",
       "      <td>other motor vehicle</td>\n",
       "      <td>...</td>\n",
       "      <td>normal</td>\n",
       "      <td>dark with street lights</td>\n",
       "      <td>none</td>\n",
       "      <td>18:33:00</td>\n",
       "      <td>0</td>\n",
       "      <td>had not been drinking</td>\n",
       "      <td>None</td>\n",
       "      <td>NaN</td>\n",
       "      <td>manual</td>\n",
       "      <td>8.0</td>\n",
       "    </tr>\n",
       "    <tr>\n",
       "      <th>3</th>\n",
       "      <td>2112.0</td>\n",
       "      <td>0.0</td>\n",
       "      <td>cloudy</td>\n",
       "      <td>None</td>\n",
       "      <td>middle damage</td>\n",
       "      <td>2</td>\n",
       "      <td>vehicle code violation</td>\n",
       "      <td>speeding</td>\n",
       "      <td>rear end</td>\n",
       "      <td>other motor vehicle</td>\n",
       "      <td>...</td>\n",
       "      <td>normal</td>\n",
       "      <td>daylight</td>\n",
       "      <td>none</td>\n",
       "      <td>15:00:00</td>\n",
       "      <td>0</td>\n",
       "      <td>had not been drinking</td>\n",
       "      <td>None</td>\n",
       "      <td>0.0</td>\n",
       "      <td>auto</td>\n",
       "      <td>10.0</td>\n",
       "    </tr>\n",
       "    <tr>\n",
       "      <th>4</th>\n",
       "      <td>0.0</td>\n",
       "      <td>1.0</td>\n",
       "      <td>clear</td>\n",
       "      <td>None</td>\n",
       "      <td>middle damage</td>\n",
       "      <td>2</td>\n",
       "      <td>vehicle code violation</td>\n",
       "      <td>traffic signals and signs</td>\n",
       "      <td>broadside</td>\n",
       "      <td>other motor vehicle</td>\n",
       "      <td>...</td>\n",
       "      <td>normal</td>\n",
       "      <td>dark with street lights</td>\n",
       "      <td>functioning</td>\n",
       "      <td>21:17:00</td>\n",
       "      <td>1</td>\n",
       "      <td>had not been drinking</td>\n",
       "      <td>None</td>\n",
       "      <td>NaN</td>\n",
       "      <td>manual</td>\n",
       "      <td>4.0</td>\n",
       "    </tr>\n",
       "  </tbody>\n",
       "</table>\n",
       "<p>5 rows × 21 columns</p>\n",
       "</div>"
      ],
      "text/plain": [
       "   distance  intersection weather_1 location_type collision_damage  \\\n",
       "0     500.0           0.0     clear          ramp     small damage   \n",
       "1     387.0           0.0     clear          None     small damage   \n",
       "2       7.8           0.0     clear          ramp     small damage   \n",
       "3    2112.0           0.0    cloudy          None    middle damage   \n",
       "4       0.0           1.0     clear          None    middle damage   \n",
       "\n",
       "   party_count primary_collision_factor     pcf_violation_category  \\\n",
       "0            2                  unknown                    unknown   \n",
       "1            2   vehicle code violation                   speeding   \n",
       "2            2   vehicle code violation    automobile right of way   \n",
       "3            2   vehicle code violation                   speeding   \n",
       "4            2   vehicle code violation  traffic signals and signs   \n",
       "\n",
       "  type_of_collision motor_vehicle_involved_with  ... road_condition_1  \\\n",
       "0         sideswipe         other motor vehicle  ...           normal   \n",
       "1          rear end         other motor vehicle  ...           normal   \n",
       "2         broadside         other motor vehicle  ...           normal   \n",
       "3          rear end         other motor vehicle  ...           normal   \n",
       "4         broadside         other motor vehicle  ...           normal   \n",
       "\n",
       "                     lighting   control_device collision_time at_fault  \\\n",
       "0  dark with no street lights             none       20:10:00        0   \n",
       "1                    daylight  not functioning       14:28:00        0   \n",
       "2     dark with street lights             none       18:33:00        0   \n",
       "3                    daylight             none       15:00:00        0   \n",
       "4     dark with street lights      functioning       21:17:00        1   \n",
       "\n",
       "          party_sobriety party_drug_physical cellphone_in_use  \\\n",
       "0  had not been drinking                None              0.0   \n",
       "1  had not been drinking                None              0.0   \n",
       "2  had not been drinking                None              NaN   \n",
       "3  had not been drinking                None              0.0   \n",
       "4  had not been drinking                None              NaN   \n",
       "\n",
       "   vehicle_transmission vehicle_age  \n",
       "0                manual         5.0  \n",
       "1                  auto         1.0  \n",
       "2                manual         8.0  \n",
       "3                  auto        10.0  \n",
       "4                manual         4.0  \n",
       "\n",
       "[5 rows x 21 columns]"
      ]
     },
     "execution_count": 20,
     "metadata": {},
     "output_type": "execute_result"
    }
   ],
   "source": [
    "df = df[columns]\n",
    "df.head()"
   ]
  },
  {
   "cell_type": "markdown",
   "id": "361b0253",
   "metadata": {},
   "source": [
    "### Предобработка и исследовательский анализ данных"
   ]
  },
  {
   "cell_type": "code",
   "execution_count": 21,
   "id": "832617b7",
   "metadata": {},
   "outputs": [
    {
     "name": "stdout",
     "output_type": "stream",
     "text": [
      "<class 'pandas.core.frame.DataFrame'>\n",
      "RangeIndex: 56248 entries, 0 to 56247\n",
      "Data columns (total 21 columns):\n",
      " #   Column                       Non-Null Count  Dtype  \n",
      "---  ------                       --------------  -----  \n",
      " 0   distance                     56248 non-null  float64\n",
      " 1   intersection                 56073 non-null  float64\n",
      " 2   weather_1                    56080 non-null  object \n",
      " 3   location_type                25932 non-null  object \n",
      " 4   collision_damage             56248 non-null  object \n",
      " 5   party_count                  56248 non-null  int64  \n",
      " 6   primary_collision_factor     56137 non-null  object \n",
      " 7   pcf_violation_category       55482 non-null  object \n",
      " 8   type_of_collision            55940 non-null  object \n",
      " 9   motor_vehicle_involved_with  56086 non-null  object \n",
      " 10  road_surface                 55900 non-null  object \n",
      " 11  road_condition_1             55999 non-null  object \n",
      " 12  lighting                     56094 non-null  object \n",
      " 13  control_device               56033 non-null  object \n",
      " 14  collision_time               56160 non-null  object \n",
      " 15  at_fault                     56248 non-null  int64  \n",
      " 16  party_sobriety               55376 non-null  object \n",
      " 17  party_drug_physical          2857 non-null   object \n",
      " 18  cellphone_in_use             51777 non-null  float64\n",
      " 19  vehicle_transmission         55389 non-null  object \n",
      " 20  vehicle_age                  54554 non-null  float64\n",
      "dtypes: float64(4), int64(2), object(15)\n",
      "memory usage: 9.0+ MB\n"
     ]
    }
   ],
   "source": [
    "df.info()"
   ]
  },
  {
   "cell_type": "markdown",
   "id": "ddbf59d3",
   "metadata": {},
   "source": [
    "#### дубликаты"
   ]
  },
  {
   "cell_type": "code",
   "execution_count": 22,
   "id": "2d7d4f7e",
   "metadata": {},
   "outputs": [
    {
     "data": {
      "text/plain": [
       "215"
      ]
     },
     "execution_count": 22,
     "metadata": {},
     "output_type": "execute_result"
    }
   ],
   "source": [
    "df.duplicated().sum()"
   ]
  },
  {
   "cell_type": "code",
   "execution_count": 23,
   "id": "4ba9a805",
   "metadata": {},
   "outputs": [
    {
     "data": {
      "text/plain": [
       "0"
      ]
     },
     "execution_count": 23,
     "metadata": {},
     "output_type": "execute_result"
    }
   ],
   "source": [
    "df = df.drop_duplicates()\n",
    "df.duplicated().sum()"
   ]
  },
  {
   "cell_type": "markdown",
   "id": "dc7ea7c4",
   "metadata": {},
   "source": [
    "Явные дубликаты были удалены."
   ]
  },
  {
   "cell_type": "markdown",
   "id": "9024c7c6",
   "metadata": {},
   "source": [
    "#### пропуски"
   ]
  },
  {
   "cell_type": "code",
   "execution_count": 24,
   "id": "2f1bc6b7",
   "metadata": {},
   "outputs": [
    {
     "data": {
      "text/plain": [
       "distance                           0\n",
       "intersection                     174\n",
       "weather_1                        168\n",
       "location_type                  30217\n",
       "collision_damage                   0\n",
       "party_count                        0\n",
       "primary_collision_factor         109\n",
       "pcf_violation_category           762\n",
       "type_of_collision                308\n",
       "motor_vehicle_involved_with      161\n",
       "road_surface                     346\n",
       "road_condition_1                 248\n",
       "lighting                         154\n",
       "control_device                   215\n",
       "collision_time                    88\n",
       "at_fault                           0\n",
       "party_sobriety                   870\n",
       "party_drug_physical            53178\n",
       "cellphone_in_use                4459\n",
       "vehicle_transmission             857\n",
       "vehicle_age                     1687\n",
       "dtype: int64"
      ]
     },
     "execution_count": 24,
     "metadata": {},
     "output_type": "execute_result"
    }
   ],
   "source": [
    "df.isna().sum()"
   ]
  },
  {
   "cell_type": "code",
   "execution_count": 25,
   "id": "4ddf7316",
   "metadata": {},
   "outputs": [],
   "source": [
    "initial_len = df.shape[0]# сохранение изначального размера датафрейма для итогового сравнения."
   ]
  },
  {
   "cell_type": "markdown",
   "id": "9c8678c4",
   "metadata": {},
   "source": [
    "#### distance"
   ]
  },
  {
   "cell_type": "code",
   "execution_count": 26,
   "id": "37f15d39",
   "metadata": {},
   "outputs": [
    {
     "name": "stdout",
     "output_type": "stream",
     "text": [
      "count    5.603300e+04\n",
      "mean     8.602224e+02\n",
      "std      7.253382e+03\n",
      "min      0.000000e+00\n",
      "25%      7.000000e+00\n",
      "50%      1.350000e+02\n",
      "75%      5.450000e+02\n",
      "max      1.584000e+06\n",
      "Name: distance, dtype: float64\n"
     ]
    },
    {
     "data": {
      "image/png": "[encoded data removed]",
      "text/plain": [
       "<Figure size 640x480 with 1 Axes>"
      ]
     },
     "metadata": {},
     "output_type": "display_data"
    }
   ],
   "source": [
    "print(df['distance'].describe())\n",
    "df['distance'].hist()\n",
    "plt.title('гистограмма столбца distance')\n",
    "plt.xlabel('расстояние')\n",
    "plt.ylabel('количество')\n",
    "plt.show()"
   ]
  },
  {
   "cell_type": "code",
   "execution_count": 27,
   "id": "e8b39ca6",
   "metadata": {},
   "outputs": [
    {
     "data": {
      "image/png": "[encoded data removed]",
      "text/plain": [
       "<Figure size 640x480 with 1 Axes>"
      ]
     },
     "metadata": {},
     "output_type": "display_data"
    }
   ],
   "source": [
    "df['distance'].hist(range=(0,8000))\n",
    "plt.title('гистограмма столбца distance')\n",
    "plt.xlabel('расстояние')\n",
    "plt.ylabel('количество')\n",
    "plt.show()"
   ]
  },
  {
   "cell_type": "code",
   "execution_count": 28,
   "id": "e0af7cc9",
   "metadata": {},
   "outputs": [
    {
     "data": {
      "text/plain": [
       "1.6401049381614403"
      ]
     },
     "execution_count": 28,
     "metadata": {},
     "output_type": "execute_result"
    }
   ],
   "source": [
    "(df.shape[0] - df[df['distance'] <= 8000].shape[0]) / df.shape[0] * 100"
   ]
  },
  {
   "cell_type": "markdown",
   "id": "4aabe73e",
   "metadata": {},
   "source": [
    "Аномалии состовляют ~1.6% дасета."
   ]
  },
  {
   "cell_type": "code",
   "execution_count": 29,
   "id": "e56dec7b",
   "metadata": {},
   "outputs": [],
   "source": [
    "df = df[df['distance'] <= 8000]"
   ]
  },
  {
   "cell_type": "markdown",
   "id": "261db1a1",
   "metadata": {},
   "source": [
    "Аномальные значения были удалены."
   ]
  },
  {
   "cell_type": "markdown",
   "id": "feeebf51",
   "metadata": {},
   "source": [
    "#### intersection"
   ]
  },
  {
   "cell_type": "code",
   "execution_count": 30,
   "id": "216b50cc",
   "metadata": {},
   "outputs": [
    {
     "data": {
      "text/plain": [
       "0.0    42576\n",
       "1.0    12365\n",
       "Name: intersection, dtype: int64"
      ]
     },
     "execution_count": 30,
     "metadata": {},
     "output_type": "execute_result"
    }
   ],
   "source": [
    "df['intersection'].value_counts()"
   ]
  },
  {
   "cell_type": "code",
   "execution_count": 31,
   "id": "cdd0bcac",
   "metadata": {},
   "outputs": [],
   "source": [
    "df['intersection'] = df['intersection'].fillna(0.0)"
   ]
  },
  {
   "cell_type": "markdown",
   "id": "2ef15f10",
   "metadata": {},
   "source": [
    "Пропуски заполнены значением 0.0 - отсутствие перекрёстка."
   ]
  },
  {
   "cell_type": "markdown",
   "id": "dc018390",
   "metadata": {},
   "source": [
    "#### weather_1"
   ]
  },
  {
   "cell_type": "code",
   "execution_count": 32,
   "id": "dca56da9",
   "metadata": {},
   "outputs": [
    {
     "data": {
      "text/plain": [
       "clear      44191\n",
       "cloudy      8251\n",
       "raining     2145\n",
       "fog          174\n",
       "None         168\n",
       "snowing      143\n",
       "other         31\n",
       "wind          11\n",
       "Name: weather_1, dtype: int64"
      ]
     },
     "execution_count": 32,
     "metadata": {},
     "output_type": "execute_result"
    }
   ],
   "source": [
    "df['weather_1'].value_counts(dropna=False)"
   ]
  },
  {
   "cell_type": "code",
   "execution_count": 33,
   "id": "71852a23",
   "metadata": {},
   "outputs": [],
   "source": [
    "df['weather_1'] = df['weather_1'].fillna('clear')"
   ]
  },
  {
   "cell_type": "markdown",
   "id": "27af2ff6",
   "metadata": {},
   "source": [
    "Пропуски, скорее всего, говорят о том, что погода не повлияла на ДТП."
   ]
  },
  {
   "cell_type": "markdown",
   "id": "80eaa46c",
   "metadata": {},
   "source": [
    "#### location_type"
   ]
  },
  {
   "cell_type": "code",
   "execution_count": 34,
   "id": "c2a5178f",
   "metadata": {},
   "outputs": [
    {
     "data": {
      "text/plain": [
       "None            29948\n",
       "highway         20565\n",
       "ramp             3260\n",
       "intersection     1341\n",
       "Name: location_type, dtype: int64"
      ]
     },
     "execution_count": 34,
     "metadata": {},
     "output_type": "execute_result"
    }
   ],
   "source": [
    "df['location_type'].value_counts(dropna=False)"
   ]
  },
  {
   "cell_type": "code",
   "execution_count": 35,
   "id": "2729e05c",
   "metadata": {},
   "outputs": [
    {
     "data": {
      "text/plain": [
       "54.3382806546431"
      ]
     },
     "execution_count": 35,
     "metadata": {},
     "output_type": "execute_result"
    }
   ],
   "source": [
    "(df['location_type'].isna().sum()) / df.shape[0] * 100"
   ]
  },
  {
   "cell_type": "code",
   "execution_count": 36,
   "id": "f00f2fce",
   "metadata": {},
   "outputs": [
    {
     "data": {
      "text/html": [
       "<div>\n",
       "<style scoped>\n",
       "    .dataframe tbody tr th:only-of-type {\n",
       "        vertical-align: middle;\n",
       "    }\n",
       "\n",
       "    .dataframe tbody tr th {\n",
       "        vertical-align: top;\n",
       "    }\n",
       "\n",
       "    .dataframe thead th {\n",
       "        text-align: right;\n",
       "    }\n",
       "</style>\n",
       "<table border=\"1\" class=\"dataframe\">\n",
       "  <thead>\n",
       "    <tr style=\"text-align: right;\">\n",
       "      <th></th>\n",
       "      <th>intersection</th>\n",
       "      <th>location_type</th>\n",
       "    </tr>\n",
       "  </thead>\n",
       "  <tbody>\n",
       "    <tr>\n",
       "      <th>107</th>\n",
       "      <td>0.0</td>\n",
       "      <td>intersection</td>\n",
       "    </tr>\n",
       "    <tr>\n",
       "      <th>155</th>\n",
       "      <td>0.0</td>\n",
       "      <td>intersection</td>\n",
       "    </tr>\n",
       "    <tr>\n",
       "      <th>410</th>\n",
       "      <td>0.0</td>\n",
       "      <td>intersection</td>\n",
       "    </tr>\n",
       "    <tr>\n",
       "      <th>551</th>\n",
       "      <td>0.0</td>\n",
       "      <td>intersection</td>\n",
       "    </tr>\n",
       "    <tr>\n",
       "      <th>1385</th>\n",
       "      <td>0.0</td>\n",
       "      <td>intersection</td>\n",
       "    </tr>\n",
       "    <tr>\n",
       "      <th>...</th>\n",
       "      <td>...</td>\n",
       "      <td>...</td>\n",
       "    </tr>\n",
       "    <tr>\n",
       "      <th>55566</th>\n",
       "      <td>0.0</td>\n",
       "      <td>intersection</td>\n",
       "    </tr>\n",
       "    <tr>\n",
       "      <th>55706</th>\n",
       "      <td>0.0</td>\n",
       "      <td>intersection</td>\n",
       "    </tr>\n",
       "    <tr>\n",
       "      <th>55833</th>\n",
       "      <td>0.0</td>\n",
       "      <td>intersection</td>\n",
       "    </tr>\n",
       "    <tr>\n",
       "      <th>56116</th>\n",
       "      <td>0.0</td>\n",
       "      <td>intersection</td>\n",
       "    </tr>\n",
       "    <tr>\n",
       "      <th>56129</th>\n",
       "      <td>0.0</td>\n",
       "      <td>intersection</td>\n",
       "    </tr>\n",
       "  </tbody>\n",
       "</table>\n",
       "<p>294 rows × 2 columns</p>\n",
       "</div>"
      ],
      "text/plain": [
       "       intersection location_type\n",
       "107             0.0  intersection\n",
       "155             0.0  intersection\n",
       "410             0.0  intersection\n",
       "551             0.0  intersection\n",
       "1385            0.0  intersection\n",
       "...             ...           ...\n",
       "55566           0.0  intersection\n",
       "55706           0.0  intersection\n",
       "55833           0.0  intersection\n",
       "56116           0.0  intersection\n",
       "56129           0.0  intersection\n",
       "\n",
       "[294 rows x 2 columns]"
      ]
     },
     "execution_count": 36,
     "metadata": {},
     "output_type": "execute_result"
    }
   ],
   "source": [
    "df[(df['location_type'] == 'intersection') & (df['intersection'] == 0.0)][['intersection', 'location_type']]"
   ]
  },
  {
   "cell_type": "code",
   "execution_count": 37,
   "id": "b81f9f6c",
   "metadata": {},
   "outputs": [],
   "source": [
    "df = df.drop('location_type', axis=1)"
   ]
  },
  {
   "cell_type": "markdown",
   "id": "942215cc",
   "metadata": {},
   "source": [
    "54% значений столбца `location_type` являются пропусками. Кроме того, столбец дублирует информацию из `intersection`, иногда с противоречиями. Было принято решение его удалить."
   ]
  },
  {
   "cell_type": "markdown",
   "id": "55032bc6",
   "metadata": {},
   "source": [
    "#### collision_damage"
   ]
  },
  {
   "cell_type": "code",
   "execution_count": 38,
   "id": "7953eea4",
   "metadata": {},
   "outputs": [
    {
     "data": {
      "image/png": "[encoded data removed]",
      "text/plain": [
       "<Figure size 640x480 with 1 Axes>"
      ]
     },
     "metadata": {},
     "output_type": "display_data"
    }
   ],
   "source": [
    "df['collision_damage'].hist()\n",
    "plt.title('гистограмма столбца collision_damage')\n",
    "plt.xlabel('тип повреждения')\n",
    "plt.ylabel('количество')\n",
    "plt.show()"
   ]
  },
  {
   "cell_type": "markdown",
   "id": "241f2726",
   "metadata": {},
   "source": [
    "#### party_count"
   ]
  },
  {
   "cell_type": "code",
   "execution_count": 39,
   "id": "716f066c",
   "metadata": {},
   "outputs": [
    {
     "data": {
      "image/png": "[encoded data removed]",
      "text/plain": [
       "<Figure size 640x480 with 1 Axes>"
      ]
     },
     "metadata": {},
     "output_type": "display_data"
    }
   ],
   "source": [
    "df['party_count'].hist()\n",
    "plt.title('гистограмма столбца party_count')\n",
    "plt.xlabel('количество участников')\n",
    "plt.ylabel('количество')\n",
    "plt.show()"
   ]
  },
  {
   "cell_type": "code",
   "execution_count": 40,
   "id": "64c70d2a",
   "metadata": {},
   "outputs": [
    {
     "data": {
      "image/png": "[encoded data removed]",
      "text/plain": [
       "<Figure size 640x480 with 1 Axes>"
      ]
     },
     "metadata": {},
     "output_type": "display_data"
    }
   ],
   "source": [
    "df['party_count'].hist(range=(1, 5))\n",
    "plt.title('гистограмма столбца party_count')\n",
    "plt.xlabel('количество участников')\n",
    "plt.ylabel('количество')\n",
    "plt.show()"
   ]
  },
  {
   "cell_type": "code",
   "execution_count": 41,
   "id": "2a75b7f1",
   "metadata": {
    "scrolled": false
   },
   "outputs": [
    {
     "data": {
      "text/plain": [
       "0.3919149399426643"
      ]
     },
     "execution_count": 41,
     "metadata": {},
     "output_type": "execute_result"
    }
   ],
   "source": [
    "(df.shape[0] - df[df['party_count'] < 6].shape[0]) / df.shape[0] * 100"
   ]
  },
  {
   "cell_type": "markdown",
   "id": "c318505e",
   "metadata": {},
   "source": [
    "Аномалии состовляют ~0.4% дасета."
   ]
  },
  {
   "cell_type": "code",
   "execution_count": 42,
   "id": "c68f148e",
   "metadata": {},
   "outputs": [],
   "source": [
    "df = df[df['party_count'] < 6]"
   ]
  },
  {
   "cell_type": "markdown",
   "id": "3043af53",
   "metadata": {},
   "source": [
    "Аномалии были удалены."
   ]
  },
  {
   "cell_type": "markdown",
   "id": "83760162",
   "metadata": {},
   "source": [
    "#### primary_collision_factor"
   ]
  },
  {
   "cell_type": "code",
   "execution_count": 43,
   "id": "b1b44254",
   "metadata": {},
   "outputs": [
    {
     "data": {
      "text/plain": [
       "vehicle code violation    52645\n",
       "other than driver          1090\n",
       "unknown                     829\n",
       "other improper driving      223\n",
       "None                        108\n",
       "fell asleep                   3\n",
       "Name: primary_collision_factor, dtype: int64"
      ]
     },
     "execution_count": 43,
     "metadata": {},
     "output_type": "execute_result"
    }
   ],
   "source": [
    "df['primary_collision_factor'].value_counts(dropna=False)"
   ]
  },
  {
   "cell_type": "code",
   "execution_count": 44,
   "id": "1dd86059",
   "metadata": {},
   "outputs": [
    {
     "data": {
      "text/plain": [
       "95.89602535611498"
      ]
     },
     "execution_count": 44,
     "metadata": {},
     "output_type": "execute_result"
    }
   ],
   "source": [
    "(df.shape[0] - df[df['primary_collision_factor'] != 'vehicle code violation'].shape[0]) / df.shape[0] * 100"
   ]
  },
  {
   "cell_type": "code",
   "execution_count": 45,
   "id": "8d2376cc",
   "metadata": {},
   "outputs": [],
   "source": [
    "df = df.drop('primary_collision_factor', axis=1)"
   ]
  },
  {
   "cell_type": "markdown",
   "id": "ceb16198",
   "metadata": {},
   "source": [
    "Значение `vehicle code violation` состовляет 95% значений столбца. Всязи с этим он не несёт полезной информации и был удалён."
   ]
  },
  {
   "cell_type": "markdown",
   "id": "36dcf83c",
   "metadata": {},
   "source": [
    "#### pcf_violation_category"
   ]
  },
  {
   "cell_type": "code",
   "execution_count": 46,
   "id": "488027ba",
   "metadata": {},
   "outputs": [
    {
     "data": {
      "text/plain": [
       "speeding                             17766\n",
       "improper turning                      7818\n",
       "automobile right of way               7094\n",
       "dui                                   6086\n",
       "unsafe lane change                    4598\n",
       "traffic signals and signs             3355\n",
       "unsafe starting or backing            1370\n",
       "wrong side of road                    1300\n",
       "other than driver (or pedestrian)     1090\n",
       "following too closely                 1000\n",
       "unknown                                887\n",
       "None                                   759\n",
       "other hazardous violation              504\n",
       "improper passing                       467\n",
       "pedestrian violation                   304\n",
       "other improper driving                 223\n",
       "pedestrian right of way                112\n",
       "other equipment                         84\n",
       "impeding traffic                        33\n",
       "hazardous parking                       32\n",
       "brakes                                  10\n",
       "fell asleep                              3\n",
       "lights                                   3\n",
       "Name: pcf_violation_category, dtype: int64"
      ]
     },
     "execution_count": 46,
     "metadata": {},
     "output_type": "execute_result"
    }
   ],
   "source": [
    "df['pcf_violation_category'].value_counts(dropna=False)"
   ]
  },
  {
   "cell_type": "code",
   "execution_count": 47,
   "id": "e88a17db",
   "metadata": {},
   "outputs": [],
   "source": [
    "df['pcf_violation_category'] = df['pcf_violation_category'].fillna('unknown')\n",
    "df['pcf_violation_category'] = df['pcf_violation_category'].str.replace('brakes', 'other hazardous violation')\n",
    "df['pcf_violation_category'] = df['pcf_violation_category'].str.replace('lights', 'other hazardous violation')\n",
    "df['pcf_violation_category'] = df['pcf_violation_category'].str.replace('fell asleep', 'other hazardous violation')"
   ]
  },
  {
   "cell_type": "markdown",
   "id": "43870910",
   "metadata": {},
   "source": [
    "Редко встречающиеся значения были объеденены с другими, пропуски были заполнены значением `unknown`"
   ]
  },
  {
   "cell_type": "markdown",
   "id": "9b6944f3",
   "metadata": {},
   "source": [
    "#### type_of_collision"
   ]
  },
  {
   "cell_type": "code",
   "execution_count": 48,
   "id": "1588df48",
   "metadata": {
    "scrolled": true
   },
   "outputs": [
    {
     "data": {
      "text/plain": [
       "rear end      18389\n",
       "broadside     11841\n",
       "sideswipe      9096\n",
       "hit object     8306\n",
       "head-on        3194\n",
       "overturned     2090\n",
       "other          1679\n",
       "None            303\n",
       "Name: type_of_collision, dtype: int64"
      ]
     },
     "execution_count": 48,
     "metadata": {},
     "output_type": "execute_result"
    }
   ],
   "source": [
    "df['type_of_collision'].value_counts(dropna=False)"
   ]
  },
  {
   "cell_type": "code",
   "execution_count": 49,
   "id": "7cb4b3e6",
   "metadata": {},
   "outputs": [
    {
     "data": {
      "text/plain": [
       "0.5519326751429925"
      ]
     },
     "execution_count": 49,
     "metadata": {},
     "output_type": "execute_result"
    }
   ],
   "source": [
    "(df['type_of_collision'].isna().sum()) / df.shape[0] * 100"
   ]
  },
  {
   "cell_type": "markdown",
   "id": "c0d2f0d3",
   "metadata": {},
   "source": [
    "Пропуски состовляют ~0.5% от датасета."
   ]
  },
  {
   "cell_type": "code",
   "execution_count": 50,
   "id": "76f061e2",
   "metadata": {},
   "outputs": [],
   "source": [
    "df = df.dropna(subset=['type_of_collision'], axis=0)"
   ]
  },
  {
   "cell_type": "markdown",
   "id": "79681f05",
   "metadata": {},
   "source": [
    "Пропуски были удалены."
   ]
  },
  {
   "cell_type": "markdown",
   "id": "19f0d125",
   "metadata": {},
   "source": [
    "#### motor_vehicle_involved_with"
   ]
  },
  {
   "cell_type": "code",
   "execution_count": 51,
   "id": "e367dc81",
   "metadata": {},
   "outputs": [
    {
     "data": {
      "text/plain": [
       "other motor vehicle               40320\n",
       "fixed object                       7940\n",
       "non-collision                      2046\n",
       "other object                       1635\n",
       "parked motor vehicle               1500\n",
       "bicycle                             411\n",
       "motor vehicle on other roadway      405\n",
       "animal                              212\n",
       "None                                110\n",
       "train                                16\n",
       "Name: motor_vehicle_involved_with, dtype: int64"
      ]
     },
     "execution_count": 51,
     "metadata": {},
     "output_type": "execute_result"
    }
   ],
   "source": [
    "df['motor_vehicle_involved_with'].value_counts(dropna=False)"
   ]
  },
  {
   "cell_type": "code",
   "execution_count": 52,
   "id": "4c850802",
   "metadata": {
    "scrolled": true
   },
   "outputs": [
    {
     "data": {
      "text/plain": [
       "0.20148365234911622"
      ]
     },
     "execution_count": 52,
     "metadata": {},
     "output_type": "execute_result"
    }
   ],
   "source": [
    "(df['motor_vehicle_involved_with'].isna().sum()) / df.shape[0] * 100"
   ]
  },
  {
   "cell_type": "markdown",
   "id": "f5f226e3",
   "metadata": {},
   "source": [
    "Пропуски состовляют ~0.2% от датасета."
   ]
  },
  {
   "cell_type": "code",
   "execution_count": 53,
   "id": "9948e215",
   "metadata": {},
   "outputs": [],
   "source": [
    "df = df.dropna(subset=['type_of_collision'], axis=0)\n",
    "df['motor_vehicle_involved_with'] = df['motor_vehicle_involved_with'].str.replace('train', 'other object')\n",
    "df['motor_vehicle_involved_with'] = df['motor_vehicle_involved_with'].str.replace('animal', 'other object')\n",
    "df['motor_vehicle_involved_with'] = df['motor_vehicle_involved_with'].str.replace('motor vehicle on other roadway', 'other motor vehicle')"
   ]
  },
  {
   "cell_type": "markdown",
   "id": "a7396dc9",
   "metadata": {},
   "source": [
    "Пропуски были удалены, редкие и схожие значения были объеденены с другими."
   ]
  },
  {
   "cell_type": "markdown",
   "id": "6fa7df92",
   "metadata": {},
   "source": [
    "#### road_surface"
   ]
  },
  {
   "cell_type": "code",
   "execution_count": 54,
   "id": "ed69a682",
   "metadata": {},
   "outputs": [
    {
     "data": {
      "text/plain": [
       "dry         48831\n",
       "wet          5089\n",
       "snowy         321\n",
       "None          314\n",
       "slippery       40\n",
       "Name: road_surface, dtype: int64"
      ]
     },
     "execution_count": 54,
     "metadata": {},
     "output_type": "execute_result"
    }
   ],
   "source": [
    "df['road_surface'].value_counts(dropna=False)"
   ]
  },
  {
   "cell_type": "code",
   "execution_count": 55,
   "id": "55ac2977",
   "metadata": {},
   "outputs": [
    {
     "data": {
      "text/plain": [
       "0.5751442439783863"
      ]
     },
     "execution_count": 55,
     "metadata": {},
     "output_type": "execute_result"
    }
   ],
   "source": [
    "(df['road_surface'].isna().sum()) / df.shape[0] * 100"
   ]
  },
  {
   "cell_type": "markdown",
   "id": "4b20da07",
   "metadata": {},
   "source": [
    "Пропуски состовляют ~0.6% от датасета.\n"
   ]
  },
  {
   "cell_type": "code",
   "execution_count": 56,
   "id": "c7b839cc",
   "metadata": {},
   "outputs": [],
   "source": [
    "df = df.dropna(subset=['road_surface'], axis=0)"
   ]
  },
  {
   "cell_type": "markdown",
   "id": "59ed661b",
   "metadata": {},
   "source": [
    "Пропуски были удалены."
   ]
  },
  {
   "cell_type": "markdown",
   "id": "d4039b2d",
   "metadata": {},
   "source": [
    "#### road_condition_1"
   ]
  },
  {
   "cell_type": "code",
   "execution_count": 57,
   "id": "2c86a15b",
   "metadata": {},
   "outputs": [
    {
     "data": {
      "text/plain": [
       "normal            52367\n",
       "construction        960\n",
       "obstruction         235\n",
       "other               211\n",
       "None                171\n",
       "holes               126\n",
       "loose material      114\n",
       "reduced width        66\n",
       "flooded              31\n",
       "Name: road_condition_1, dtype: int64"
      ]
     },
     "execution_count": 57,
     "metadata": {},
     "output_type": "execute_result"
    }
   ],
   "source": [
    "df['road_condition_1'].value_counts(dropna=False)"
   ]
  },
  {
   "cell_type": "code",
   "execution_count": 58,
   "id": "5b3b0fc5",
   "metadata": {},
   "outputs": [
    {
     "data": {
      "text/plain": [
       "96.47390431274296"
      ]
     },
     "execution_count": 58,
     "metadata": {},
     "output_type": "execute_result"
    }
   ],
   "source": [
    "(df.shape[0] - df[df['road_condition_1'] != 'normal'].shape[0]) / df.shape[0] * 100"
   ]
  },
  {
   "cell_type": "code",
   "execution_count": 59,
   "id": "b2eb6102",
   "metadata": {},
   "outputs": [],
   "source": [
    "df = df.drop('road_condition_1', axis=1)"
   ]
  },
  {
   "cell_type": "markdown",
   "id": "41866cfe",
   "metadata": {},
   "source": [
    "Значение `normal` состовляет 96.5% значений столбца. Всязи с этим он почти не несёт полезной информации и был удалён."
   ]
  },
  {
   "cell_type": "markdown",
   "id": "58ad88f6",
   "metadata": {},
   "source": [
    "#### lighting"
   ]
  },
  {
   "cell_type": "code",
   "execution_count": 60,
   "id": "78fb61ff",
   "metadata": {},
   "outputs": [
    {
     "data": {
      "text/plain": [
       "daylight                                   36746\n",
       "dark with street lights                    10807\n",
       "dark with no street lights                  4790\n",
       "dusk or dawn                                1714\n",
       "dark with street lights not functioning      130\n",
       "None                                          94\n",
       "Name: lighting, dtype: int64"
      ]
     },
     "execution_count": 60,
     "metadata": {},
     "output_type": "execute_result"
    }
   ],
   "source": [
    "df['lighting'].value_counts(dropna=False)"
   ]
  },
  {
   "cell_type": "code",
   "execution_count": 61,
   "id": "15a18fc4",
   "metadata": {},
   "outputs": [
    {
     "data": {
      "text/plain": [
       "0.17317293343895654"
      ]
     },
     "execution_count": 61,
     "metadata": {},
     "output_type": "execute_result"
    }
   ],
   "source": [
    "(df['lighting'].isna().sum()) / df.shape[0] * 100"
   ]
  },
  {
   "cell_type": "markdown",
   "id": "2182b3d9",
   "metadata": {},
   "source": [
    "Пропуски состовляют ~0.2% от датасета."
   ]
  },
  {
   "cell_type": "code",
   "execution_count": 62,
   "id": "e3a06177",
   "metadata": {},
   "outputs": [],
   "source": [
    "df = df.dropna(subset=['lighting'], axis=0)"
   ]
  },
  {
   "cell_type": "code",
   "execution_count": 63,
   "id": "c3046956",
   "metadata": {},
   "outputs": [],
   "source": [
    "df['lighting'] = df['lighting'].str.replace('dark with street lights not functioning', 'dark with no street lights')"
   ]
  },
  {
   "cell_type": "markdown",
   "id": "7f1b46c4",
   "metadata": {},
   "source": [
    "Пропуски были удалены, редкие значения были объеденены с другими."
   ]
  },
  {
   "cell_type": "markdown",
   "id": "e48ee67c",
   "metadata": {},
   "source": [
    "#### control_device"
   ]
  },
  {
   "cell_type": "code",
   "execution_count": 64,
   "id": "ec1ee8c6",
   "metadata": {
    "scrolled": false
   },
   "outputs": [
    {
     "data": {
      "text/plain": [
       "none               36101\n",
       "functioning        17795\n",
       "None                 152\n",
       "not functioning      112\n",
       "obscured              27\n",
       "Name: control_device, dtype: int64"
      ]
     },
     "execution_count": 64,
     "metadata": {},
     "output_type": "execute_result"
    }
   ],
   "source": [
    "df['control_device'].value_counts(dropna=False)"
   ]
  },
  {
   "cell_type": "code",
   "execution_count": 65,
   "id": "8f129a96",
   "metadata": {},
   "outputs": [
    {
     "data": {
      "text/plain": [
       "0.2805100854448484"
      ]
     },
     "execution_count": 65,
     "metadata": {},
     "output_type": "execute_result"
    }
   ],
   "source": [
    "(df['control_device'].isna().sum()) / df.shape[0] * 100"
   ]
  },
  {
   "cell_type": "markdown",
   "id": "cc7056f4",
   "metadata": {},
   "source": [
    "Пропуски состовляют ~0.3% от датасета."
   ]
  },
  {
   "cell_type": "code",
   "execution_count": 66,
   "id": "5fea2cc8",
   "metadata": {},
   "outputs": [],
   "source": [
    "df = df.dropna(subset=['control_device'], axis=0)"
   ]
  },
  {
   "cell_type": "code",
   "execution_count": 67,
   "id": "5be9baa1",
   "metadata": {
    "scrolled": true
   },
   "outputs": [],
   "source": [
    "df['control_device'] = df['control_device'].str.replace('obscured', 'not functioning')"
   ]
  },
  {
   "cell_type": "markdown",
   "id": "d50ab8f9",
   "metadata": {},
   "source": [
    "Пропуски были удалены, редкие значения были объеденены с другими."
   ]
  },
  {
   "cell_type": "markdown",
   "id": "1ed3ca3e",
   "metadata": {},
   "source": [
    "#### collision_time"
   ]
  },
  {
   "cell_type": "code",
   "execution_count": 68,
   "id": "9f5b755f",
   "metadata": {},
   "outputs": [
    {
     "data": {
      "text/plain": [
       "dtype('O')"
      ]
     },
     "execution_count": 68,
     "metadata": {},
     "output_type": "execute_result"
    }
   ],
   "source": [
    "df['collision_time'].dtype"
   ]
  },
  {
   "cell_type": "code",
   "execution_count": 69,
   "id": "c3da7628",
   "metadata": {
    "scrolled": true
   },
   "outputs": [],
   "source": [
    "df['collision_time'] = pd.to_datetime(df['collision_time'],format= '%H:%M:%S' ).dt.hour"
   ]
  },
  {
   "cell_type": "code",
   "execution_count": 70,
   "id": "8a74ef82",
   "metadata": {},
   "outputs": [
    {
     "data": {
      "text/plain": [
       "0.1462015360414546"
      ]
     },
     "execution_count": 70,
     "metadata": {},
     "output_type": "execute_result"
    }
   ],
   "source": [
    "(df['collision_time'].isna().sum()) / df.shape[0] * 100"
   ]
  },
  {
   "cell_type": "markdown",
   "id": "8df1e1bd",
   "metadata": {},
   "source": [
    "Пропуски состовляют ~0.1% от датасета."
   ]
  },
  {
   "cell_type": "code",
   "execution_count": 71,
   "id": "2b31e0d7",
   "metadata": {},
   "outputs": [],
   "source": [
    "df = df.dropna(subset=['collision_time'], axis=0)"
   ]
  },
  {
   "cell_type": "code",
   "execution_count": 72,
   "id": "a3819f87",
   "metadata": {},
   "outputs": [
    {
     "data": {
      "image/png": "[encoded data removed]",
      "text/plain": [
       "<Figure size 640x480 with 1 Axes>"
      ]
     },
     "metadata": {},
     "output_type": "display_data"
    }
   ],
   "source": [
    "df['collision_time'].hist()\n",
    "plt.title('гистограмма столбца collision_time')\n",
    "plt.xlabel('час ДТП')\n",
    "plt.ylabel('количество')\n",
    "plt.show()"
   ]
  },
  {
   "cell_type": "markdown",
   "id": "a86de083",
   "metadata": {},
   "source": [
    "Данные в столбце `collision_time` были приведены к типу timestamp, затем из них был извлечен час ДТП. Пропуски были удалены."
   ]
  },
  {
   "cell_type": "markdown",
   "id": "2908373e",
   "metadata": {},
   "source": [
    "#### at_fault"
   ]
  },
  {
   "cell_type": "code",
   "execution_count": 73,
   "id": "0609c780",
   "metadata": {},
   "outputs": [
    {
     "data": {
      "image/png": "[encoded data removed]",
      "text/plain": [
       "<Figure size 640x480 with 1 Axes>"
      ]
     },
     "metadata": {},
     "output_type": "display_data"
    }
   ],
   "source": [
    "df['at_fault'].hist()\n",
    "plt.title('гистограмма столбца at_fault')\n",
    "plt.xlabel('виновность водителя')\n",
    "plt.ylabel('количество')\n",
    "plt.show()"
   ]
  },
  {
   "cell_type": "markdown",
   "id": "69cdecd2",
   "metadata": {},
   "source": [
    "Дисбаланс в целевом столбце не наблюдается."
   ]
  },
  {
   "cell_type": "markdown",
   "id": "3db9fe65",
   "metadata": {},
   "source": [
    "#### party_sobriety"
   ]
  },
  {
   "cell_type": "code",
   "execution_count": 74,
   "id": "90fb41c0",
   "metadata": {},
   "outputs": [
    {
     "data": {
      "text/plain": [
       "had not been drinking                     46677\n",
       "had been drinking, under influence         4273\n",
       "impairment unknown                         1175\n",
       "None                                        794\n",
       "had been drinking, not under influence      548\n",
       "had been drinking, impairment unknown       247\n",
       "not applicable                              242\n",
       "Name: party_sobriety, dtype: int64"
      ]
     },
     "execution_count": 74,
     "metadata": {},
     "output_type": "execute_result"
    }
   ],
   "source": [
    "df['party_sobriety'].value_counts(dropna=False)"
   ]
  },
  {
   "cell_type": "code",
   "execution_count": 75,
   "id": "4f018aee",
   "metadata": {},
   "outputs": [],
   "source": [
    "df['party_sobriety'] = df['party_sobriety'].fillna('had not been drinking')\n",
    "df['party_sobriety'] = df['party_sobriety'].str.replace('not applicable', 'had not been drinking')\n",
    "df['party_sobriety'] = df['party_sobriety'].str.replace('had been drinking, not under influence', 'had not been drinking')\n",
    "df['party_sobriety'] = df['party_sobriety'].str.replace('had been drinking, impairment unknown', 'impairment unknown')"
   ]
  },
  {
   "cell_type": "markdown",
   "id": "6ddde1c1",
   "metadata": {},
   "source": [
    "Пропуски были заполнены значением `had not been drinking`. редкие и схожие значения были объеденены с другими."
   ]
  },
  {
   "cell_type": "markdown",
   "id": "73a39760",
   "metadata": {},
   "source": [
    "#### party_drug_physical"
   ]
  },
  {
   "cell_type": "code",
   "execution_count": 76,
   "id": "e4fb7e0e",
   "metadata": {},
   "outputs": [
    {
     "data": {
      "text/plain": [
       "None                     51264\n",
       "G                         1175\n",
       "under drug influence       798\n",
       "sleepy/fatigued            361\n",
       "not applicable             242\n",
       "impairment - physical      116\n",
       "Name: party_drug_physical, dtype: int64"
      ]
     },
     "execution_count": 76,
     "metadata": {},
     "output_type": "execute_result"
    }
   ],
   "source": [
    "df['party_drug_physical'].value_counts(dropna=False)"
   ]
  },
  {
   "cell_type": "code",
   "execution_count": 77,
   "id": "d155fe78",
   "metadata": {
    "scrolled": true
   },
   "outputs": [
    {
     "data": {
      "text/plain": [
       "95.01074949959227"
      ]
     },
     "execution_count": 77,
     "metadata": {},
     "output_type": "execute_result"
    }
   ],
   "source": [
    "(df['party_drug_physical'].isna().sum()) / df.shape[0] * 100"
   ]
  },
  {
   "cell_type": "markdown",
   "id": "f6e15d3d",
   "metadata": {},
   "source": [
    "Пропуски состовляют ~95% от датасета."
   ]
  },
  {
   "cell_type": "code",
   "execution_count": 78,
   "id": "3bee9f19",
   "metadata": {},
   "outputs": [],
   "source": [
    "df['party_drug_physical'] = df['party_drug_physical'].apply(lambda x: True if x in ['under drug influence', 'sleepy/fatigued', 'impairment - physical'] else False)"
   ]
  },
  {
   "cell_type": "markdown",
   "id": "830ff5e0",
   "metadata": {},
   "source": [
    "Столбец `party_drug_physical` был переведён в булев тип."
   ]
  },
  {
   "cell_type": "markdown",
   "id": "c862ce82",
   "metadata": {},
   "source": [
    "#### cellphone_in_use"
   ]
  },
  {
   "cell_type": "code",
   "execution_count": 79,
   "id": "39eb9b1f",
   "metadata": {
    "scrolled": true
   },
   "outputs": [
    {
     "data": {
      "text/plain": [
       "0.0    48679\n",
       "NaN     4258\n",
       "1.0     1019\n",
       "Name: cellphone_in_use, dtype: int64"
      ]
     },
     "execution_count": 79,
     "metadata": {},
     "output_type": "execute_result"
    }
   ],
   "source": [
    "df['cellphone_in_use'].value_counts(dropna=False)"
   ]
  },
  {
   "cell_type": "code",
   "execution_count": 80,
   "id": "77511df8",
   "metadata": {},
   "outputs": [],
   "source": [
    "df['cellphone_in_use'] = df['cellphone_in_use'].fillna(0.0)"
   ]
  },
  {
   "cell_type": "markdown",
   "id": "33f38a97",
   "metadata": {},
   "source": [
    "Пропуски были заполнены значением 0."
   ]
  },
  {
   "cell_type": "markdown",
   "id": "e8775e0a",
   "metadata": {},
   "source": [
    "#### vehicle_transmission"
   ]
  },
  {
   "cell_type": "code",
   "execution_count": 81,
   "id": "4e36d848",
   "metadata": {},
   "outputs": [
    {
     "data": {
      "text/plain": [
       "manual    28015\n",
       "auto      25116\n",
       "None        825\n",
       "Name: vehicle_transmission, dtype: int64"
      ]
     },
     "execution_count": 81,
     "metadata": {},
     "output_type": "execute_result"
    }
   ],
   "source": [
    "df['vehicle_transmission'].value_counts(dropna=False)"
   ]
  },
  {
   "cell_type": "code",
   "execution_count": 82,
   "id": "30d76457",
   "metadata": {},
   "outputs": [
    {
     "data": {
      "text/plain": [
       "1.5290236488991031"
      ]
     },
     "execution_count": 82,
     "metadata": {},
     "output_type": "execute_result"
    }
   ],
   "source": [
    "(df['vehicle_transmission'].isna().sum()) / df.shape[0] * 100"
   ]
  },
  {
   "cell_type": "markdown",
   "id": "e37e9052",
   "metadata": {},
   "source": [
    "Пропуски состовляют ~1.5% от датасета."
   ]
  },
  {
   "cell_type": "code",
   "execution_count": 83,
   "id": "d5fcf749",
   "metadata": {},
   "outputs": [],
   "source": [
    "df = df.dropna(subset=['vehicle_transmission'], axis=0)"
   ]
  },
  {
   "cell_type": "markdown",
   "id": "b782d4df",
   "metadata": {},
   "source": [
    "Пропуски были удалены."
   ]
  },
  {
   "cell_type": "markdown",
   "id": "967e0767",
   "metadata": {},
   "source": [
    "#### vehicle_age"
   ]
  },
  {
   "cell_type": "code",
   "execution_count": 84,
   "id": "88b5cc62",
   "metadata": {},
   "outputs": [
    {
     "data": {
      "image/png": "[encoded data removed]",
      "text/plain": [
       "<Figure size 640x480 with 1 Axes>"
      ]
     },
     "metadata": {},
     "output_type": "display_data"
    }
   ],
   "source": [
    "df['vehicle_age'].hist()\n",
    "plt.title('гистограмма столбца vehicle_age')\n",
    "plt.xlabel('возраст автомобиля')\n",
    "plt.ylabel('количество')\n",
    "plt.show()"
   ]
  },
  {
   "cell_type": "code",
   "execution_count": 85,
   "id": "07b8f399",
   "metadata": {
    "scrolled": false
   },
   "outputs": [
    {
     "data": {
      "image/png": "[encoded data removed]",
      "text/plain": [
       "<Figure size 640x480 with 1 Axes>"
      ]
     },
     "metadata": {},
     "output_type": "display_data"
    }
   ],
   "source": [
    "df['vehicle_age'].hist(range=(0, 10))\n",
    "plt.title('гистограмма столбца vehicle_age')\n",
    "plt.xlabel('возраст автомобиля')\n",
    "plt.ylabel('количество')\n",
    "plt.show()"
   ]
  },
  {
   "cell_type": "code",
   "execution_count": 86,
   "id": "23d449a7",
   "metadata": {},
   "outputs": [
    {
     "data": {
      "text/plain": [
       "8.142139240744575"
      ]
     },
     "execution_count": 86,
     "metadata": {},
     "output_type": "execute_result"
    }
   ],
   "source": [
    "(df.shape[0] - df[df['vehicle_age'] <= 10].shape[0]) / df.shape[0] * 100 #na included"
   ]
  },
  {
   "cell_type": "markdown",
   "id": "54b804d2",
   "metadata": {},
   "source": [
    "Аномальные значения и пропуски состовляют ~8% от датасета."
   ]
  },
  {
   "cell_type": "code",
   "execution_count": 87,
   "id": "dc8c0fb6",
   "metadata": {},
   "outputs": [],
   "source": [
    "df = df[df['vehicle_age'] <= 10]"
   ]
  },
  {
   "cell_type": "markdown",
   "id": "d197c054",
   "metadata": {},
   "source": [
    "Аномальные значения и пропуски были удалены."
   ]
  },
  {
   "cell_type": "markdown",
   "id": "3bfa75cc",
   "metadata": {},
   "source": [
    "#### Потеря данных"
   ]
  },
  {
   "cell_type": "code",
   "execution_count": 88,
   "id": "76c1bfbc",
   "metadata": {},
   "outputs": [
    {
     "data": {
      "text/plain": [
       "12.89954134170935"
      ]
     },
     "execution_count": 88,
     "metadata": {},
     "output_type": "execute_result"
    }
   ],
   "source": [
    "(initial_len - df.shape[0]) / initial_len * 100"
   ]
  },
  {
   "cell_type": "markdown",
   "id": "774becfc",
   "metadata": {},
   "source": [
    "В ходе предобработки данных было потеряно 12.9% записей - высокое, но допустимое количество."
   ]
  },
  {
   "cell_type": "markdown",
   "id": "cec2b1f6",
   "metadata": {},
   "source": [
    "### Подготовка данных"
   ]
  },
  {
   "cell_type": "code",
   "execution_count": 89,
   "id": "99aea065",
   "metadata": {},
   "outputs": [],
   "source": [
    "X = df.drop('at_fault', axis=1)\n",
    "y = df['at_fault']\n",
    "\n",
    "categorical_features = ['intersection', 'weather_1', 'collision_damage', 'pcf_violation_category', 'type_of_collision',\n",
    "                       'motor_vehicle_involved_with', 'road_surface', 'lighting', 'control_device', 'party_sobriety',\n",
    "                        'party_drug_physical', 'cellphone_in_use',  'vehicle_transmission']\n",
    "numerical_features = ['distance', 'party_count', 'collision_time', 'vehicle_age']\n",
    "\n",
    "X_train, X_test, y_train, y_test = train_test_split(X, y, test_size=0.2, random_state=1234)\n",
    "X_train, X_val, y_train, y_val = train_test_split(X_train, y_train, test_size=0.25, random_state=1234)"
   ]
  },
  {
   "cell_type": "code",
   "execution_count": 90,
   "id": "d8f4994f",
   "metadata": {},
   "outputs": [],
   "source": [
    "norm = Normalizer()\n",
    "norm.fit(X_train[numerical_features])\n",
    "X_train[numerical_features] = norm.transform(X_train[numerical_features])\n",
    "X_test[numerical_features] = norm.transform(X_test[numerical_features])\n",
    "X_val[numerical_features] = norm.transform(X_val[numerical_features])"
   ]
  },
  {
   "cell_type": "code",
   "execution_count": 91,
   "id": "c23b5ec5",
   "metadata": {},
   "outputs": [],
   "source": [
    "X_train_boost = X_train\n",
    "X_val_boost = X_val\n",
    "X_test_boost = X_test\n",
    "\n",
    "X_train_boost[categorical_features] = X_train_boost[categorical_features].astype('category')\n",
    "X_val_boost[categorical_features] = X_val_boost[categorical_features].astype('category')\n",
    "X_test_boost[categorical_features] = X_test_boost[categorical_features].astype('category')"
   ]
  },
  {
   "cell_type": "markdown",
   "id": "56c3140f",
   "metadata": {},
   "source": [
    "Для xgboost и catboost будут использованы отдельные выборки без кодирования категорий."
   ]
  },
  {
   "cell_type": "code",
   "execution_count": 92,
   "id": "c6978d79",
   "metadata": {},
   "outputs": [],
   "source": [
    "transformer = make_column_transformer(\n",
    "    (OneHotEncoder(drop='first'), categorical_features),\n",
    "    remainder='passthrough')\n",
    "transformer.fit(X_train)\n",
    "X_train = transformer.transform(X_train)\n",
    "X_test = transformer.transform(X_test)\n",
    "X_val = transformer.transform(X_val)"
   ]
  },
  {
   "cell_type": "markdown",
   "id": "abfc9776",
   "metadata": {},
   "source": [
    "### Обучение моделей"
   ]
  },
  {
   "cell_type": "markdown",
   "id": "c7b26682",
   "metadata": {},
   "source": [
    "Так как при работе модели будет важна как полнота, так и точность, будет использована метрика, которая их объеденяет - `f1 score`."
   ]
  },
  {
   "cell_type": "code",
   "execution_count": 93,
   "id": "fdc65d90",
   "metadata": {},
   "outputs": [],
   "source": [
    "predictions_list = []"
   ]
  },
  {
   "cell_type": "markdown",
   "id": "16b3a2ec",
   "metadata": {},
   "source": [
    "#### Logistic Regression"
   ]
  },
  {
   "cell_type": "code",
   "execution_count": 94,
   "id": "f2c3f9ac",
   "metadata": {
    "scrolled": true
   },
   "outputs": [],
   "source": [
    "parameters = {\n",
    "    'penalty' : ['none', 'l2'], \n",
    "    'C'       : [1.0, 10.0, 100.0],\n",
    "    'solver'  : ['newton-cg', 'lbfgs', 'sag'],\n",
    "    'fit_intercept' : [True, False],\n",
    "    'multi_class' : ['multinomial'],\n",
    "    'random_state': [123]\n",
    "}"
   ]
  },
  {
   "cell_type": "code",
   "execution_count": 95,
   "id": "eb154f2d",
   "metadata": {},
   "outputs": [
    {
     "data": {
      "text/plain": [
       "{'C': 1.0,\n",
       " 'fit_intercept': True,\n",
       " 'multi_class': 'multinomial',\n",
       " 'penalty': 'none',\n",
       " 'random_state': 123,\n",
       " 'solver': 'sag'}"
      ]
     },
     "execution_count": 95,
     "metadata": {},
     "output_type": "execute_result"
    }
   ],
   "source": [
    "model = LogisticRegression()\n",
    "grid = GridSearchCV(model, param_grid=parameters, scoring='f1', error_score='raise')\n",
    "grid.fit(X_train, y_train);\n",
    "grid.best_params_"
   ]
  },
  {
   "cell_type": "code",
   "execution_count": 96,
   "id": "e96a4711",
   "metadata": {},
   "outputs": [
    {
     "name": "stdout",
     "output_type": "stream",
     "text": [
      "F1 = 0.6410321921308124\n"
     ]
    }
   ],
   "source": [
    "predictions = grid.predict(X_val)\n",
    "print('F1 =', f1_score(y_val, predictions))\n",
    "predictions_list.append(f1_score(y_val, predictions))"
   ]
  },
  {
   "cell_type": "markdown",
   "id": "09ae58a8",
   "metadata": {},
   "source": [
    "#### Random Forest"
   ]
  },
  {
   "cell_type": "code",
   "execution_count": 97,
   "id": "b49ddf99",
   "metadata": {},
   "outputs": [],
   "source": [
    "parameters = { \n",
    "    'n_estimators': [200, 500, 700],\n",
    "    'max_depth' : [2, 5, 10, 20],\n",
    "    'criterion' : ['gini', 'entropy'],\n",
    "    'random_state' : [123]\n",
    "}"
   ]
  },
  {
   "cell_type": "code",
   "execution_count": 98,
   "id": "64c5202f",
   "metadata": {},
   "outputs": [
    {
     "data": {
      "text/plain": [
       "{'criterion': 'gini',\n",
       " 'max_depth': 20,\n",
       " 'n_estimators': 700,\n",
       " 'random_state': 123}"
      ]
     },
     "execution_count": 98,
     "metadata": {},
     "output_type": "execute_result"
    }
   ],
   "source": [
    "model = RandomForestClassifier()\n",
    "grid = GridSearchCV(model, param_grid=parameters, scoring='f1', error_score='raise')\n",
    "grid.fit(X_train, y_train);\n",
    "grid.best_params_"
   ]
  },
  {
   "cell_type": "code",
   "execution_count": 99,
   "id": "5868466f",
   "metadata": {},
   "outputs": [
    {
     "name": "stdout",
     "output_type": "stream",
     "text": [
      "F1 = 0.6344169246646028\n"
     ]
    }
   ],
   "source": [
    "predictions = grid.predict(X_val)\n",
    "print('F1 =', f1_score(y_val, predictions))\n",
    "predictions_list.append(f1_score(y_val, predictions))"
   ]
  },
  {
   "cell_type": "markdown",
   "id": "7bee665e",
   "metadata": {},
   "source": [
    "#### XGBoost"
   ]
  },
  {
   "cell_type": "code",
   "execution_count": 100,
   "id": "867a43b7",
   "metadata": {},
   "outputs": [],
   "source": [
    "parameters = {\n",
    "    'n_estimators' : [200, 500, 700],\n",
    "    'max_depth' : [2, 5, 10, 20],\n",
    "    'learning_rate' : [0.1, 0.01, 0.05],\n",
    "    'random_state' : [123],\n",
    "    'eval_metric': ['logloss'],\n",
    "    'enable_categorical': [True],\n",
    "    'tree_method': ['gpu_hist']\n",
    "}"
   ]
  },
  {
   "cell_type": "code",
   "execution_count": 101,
   "id": "cd725a8a",
   "metadata": {
    "scrolled": true
   },
   "outputs": [
    {
     "data": {
      "text/plain": [
       "{'enable_categorical': True,\n",
       " 'eval_metric': 'logloss',\n",
       " 'learning_rate': 0.1,\n",
       " 'max_depth': 5,\n",
       " 'n_estimators': 500,\n",
       " 'random_state': 123,\n",
       " 'tree_method': 'gpu_hist'}"
      ]
     },
     "execution_count": 101,
     "metadata": {},
     "output_type": "execute_result"
    }
   ],
   "source": [
    "model = xgb.XGBClassifier()\n",
    "grid = GridSearchCV(model, param_grid=parameters, scoring='f1', error_score='raise') \n",
    "grid.fit(X_train_boost, y_train);\n",
    "grid.best_params_"
   ]
  },
  {
   "cell_type": "code",
   "execution_count": 102,
   "id": "84005b5b",
   "metadata": {
    "scrolled": true
   },
   "outputs": [
    {
     "name": "stdout",
     "output_type": "stream",
     "text": [
      "F1 = 0.6669025713611701\n"
     ]
    }
   ],
   "source": [
    "predictions = grid.predict(X_val_boost)\n",
    "print('F1 =', f1_score(y_val, predictions))\n",
    "predictions_list.append(f1_score(y_val, predictions))"
   ]
  },
  {
   "cell_type": "markdown",
   "id": "e84b9ea3",
   "metadata": {},
   "source": [
    "#### Catboost"
   ]
  },
  {
   "cell_type": "code",
   "execution_count": 103,
   "id": "3958a56a",
   "metadata": {},
   "outputs": [],
   "source": [
    "parameters = {'iterations': [100, 300, 500],\n",
    "          'depth': [4, 5, 6],\n",
    "          'loss_function': ['Logloss', 'CrossEntropy'],\n",
    "          'l2_leaf_reg': np.logspace(-20, -19, 3),\n",
    "          'leaf_estimation_iterations': [10],\n",
    "          'eval_metric': ['F1'],\n",
    "          'logging_level':['Silent'],\n",
    "          'random_seed': [123],\n",
    "          'cat_features': [categorical_features]\n",
    "         }"
   ]
  },
  {
   "cell_type": "code",
   "execution_count": 104,
   "id": "d69abc54",
   "metadata": {},
   "outputs": [],
   "source": [
    "X_train_boost[categorical_features] = X_train_boost[categorical_features].astype('str')\n",
    "X_val_boost[categorical_features] = X_val_boost[categorical_features].astype('str')"
   ]
  },
  {
   "cell_type": "code",
   "execution_count": 105,
   "id": "5b743508",
   "metadata": {},
   "outputs": [
    {
     "data": {
      "text/plain": [
       "{'cat_features': ['intersection',\n",
       "  'weather_1',\n",
       "  'collision_damage',\n",
       "  'pcf_violation_category',\n",
       "  'type_of_collision',\n",
       "  'motor_vehicle_involved_with',\n",
       "  'road_surface',\n",
       "  'lighting',\n",
       "  'control_device',\n",
       "  'party_sobriety',\n",
       "  'party_drug_physical',\n",
       "  'cellphone_in_use',\n",
       "  'vehicle_transmission'],\n",
       " 'depth': 6,\n",
       " 'eval_metric': 'F1',\n",
       " 'iterations': 500,\n",
       " 'l2_leaf_reg': 1e-20,\n",
       " 'leaf_estimation_iterations': 10,\n",
       " 'logging_level': 'Silent',\n",
       " 'loss_function': 'Logloss',\n",
       " 'random_seed': 123}"
      ]
     },
     "execution_count": 105,
     "metadata": {},
     "output_type": "execute_result"
    }
   ],
   "source": [
    "model = CatBoostClassifier()\n",
    "grid = GridSearchCV(model, param_grid=parameters, scoring='f1', error_score='raise') \n",
    "grid.fit(X_train_boost, y_train);\n",
    "grid.best_params_"
   ]
  },
  {
   "cell_type": "code",
   "execution_count": 106,
   "id": "758f3754",
   "metadata": {
    "scrolled": true
   },
   "outputs": [
    {
     "name": "stdout",
     "output_type": "stream",
     "text": [
      "F1 = 0.6395635796856735\n"
     ]
    }
   ],
   "source": [
    "predictions = grid.predict(X_val_boost)\n",
    "print('F1 =', f1_score(y_val, predictions))\n",
    "predictions_list.append(f1_score(y_val, predictions))"
   ]
  },
  {
   "cell_type": "markdown",
   "id": "5a334cc0",
   "metadata": {},
   "source": [
    "#### Анализ моделей"
   ]
  },
  {
   "cell_type": "code",
   "execution_count": 107,
   "id": "164d9f29",
   "metadata": {
    "scrolled": false
   },
   "outputs": [
    {
     "data": {
      "image/png": "[encoded data removed]",
      "text/plain": [
       "<Figure size 640x480 with 1 Axes>"
      ]
     },
     "metadata": {},
     "output_type": "display_data"
    }
   ],
   "source": [
    "model_list = ['Linear Regression', 'Random Forest', 'XGBClassifier', 'Catboost']\n",
    "sns.lineplot(x=model_list, y=predictions_list)\n",
    "plt.title('сравнение моделей')\n",
    "plt.xlabel('модели')\n",
    "plt.ylabel('F1')\n",
    "plt.show()"
   ]
  },
  {
   "cell_type": "code",
   "execution_count": 108,
   "id": "ca869c85",
   "metadata": {},
   "outputs": [],
   "source": [
    "X_train_boost[categorical_features] = X_train_boost[categorical_features].astype('category')"
   ]
  },
  {
   "cell_type": "code",
   "execution_count": 109,
   "id": "3e773c91",
   "metadata": {},
   "outputs": [
    {
     "name": "stdout",
     "output_type": "stream",
     "text": [
      "F1 = 0.6619390581717451\n"
     ]
    }
   ],
   "source": [
    "{'enable_categorical': True,\n",
    " 'eval_metric': 'logloss',\n",
    " 'learning_rate': 0.1,\n",
    " 'max_depth': 5,\n",
    " 'n_estimators': 700,\n",
    " 'random_state': 123,\n",
    " 'tree_method': 'gpu_hist'}\n",
    "\n",
    "model = xgb.XGBClassifier(eval_metric='logloss', learning_rate=0.1, max_depth=5,\n",
    "                          n_estimators=700, random_state=123, enable_categorical=True, tree_method='gpu_hist')\n",
    "model.fit(X_train_boost, y_train)\n",
    "predictions = model.predict(X_test_boost)\n",
    "print('F1 =', f1_score(y_test, predictions))"
   ]
  },
  {
   "cell_type": "markdown",
   "id": "0e63d705",
   "metadata": {},
   "source": [
    "После обучения четырех моделей, наилучшей из них оказалась модель XGBclassifier со значением f1 на тестовой выборке 0.66."
   ]
  },
  {
   "cell_type": "markdown",
   "id": "99112b8d",
   "metadata": {},
   "source": [
    "## Проведите анализ важности факторов ДТП"
   ]
  },
  {
   "cell_type": "markdown",
   "id": "3f2bff89",
   "metadata": {},
   "source": [
    "### Матрица ошибок"
   ]
  },
  {
   "cell_type": "code",
   "execution_count": 110,
   "id": "12cdbf4e",
   "metadata": {},
   "outputs": [
    {
     "data": {
      "image/png": "[encoded data removed]",
      "text/plain": [
       "<Figure size 800x600 with 2 Axes>"
      ]
     },
     "metadata": {},
     "output_type": "display_data"
    }
   ],
   "source": [
    "conf_matrix = confusion_matrix(y_test, predictions)\n",
    "fig, ax = plt.subplots(figsize=(8,6), dpi=100)\n",
    "display = ConfusionMatrixDisplay(conf_matrix)\n",
    "ax.set(title='Матрица ошибок')\n",
    "display.plot(ax=ax);"
   ]
  },
  {
   "cell_type": "code",
   "execution_count": 111,
   "id": "558e41e6",
   "metadata": {},
   "outputs": [
    {
     "name": "stdout",
     "output_type": "stream",
     "text": [
      "Полнота: 0.6141036184210527\n",
      "Точность: 0.7178562845469839\n"
     ]
    }
   ],
   "source": [
    "print('Полнота:', recall_score(y_test, predictions))\n",
    "print('Точность:', precision_score(y_test, predictions))"
   ]
  },
  {
   "cell_type": "markdown",
   "id": "c81fba79",
   "metadata": {},
   "source": [
    "Модель имеет среднюю полноту и относительно высокую точность."
   ]
  },
  {
   "cell_type": "markdown",
   "id": "d8fbcc4d",
   "metadata": {},
   "source": [
    "### Анализ важности факторов"
   ]
  },
  {
   "cell_type": "code",
   "execution_count": 112,
   "id": "cd4743d7",
   "metadata": {},
   "outputs": [
    {
     "data": {
      "image/png": "[encoded data removed]",
      "text/plain": [
       "<Figure size 1200x600 with 1 Axes>"
      ]
     },
     "metadata": {},
     "output_type": "display_data"
    }
   ],
   "source": [
    "feature_importance = model.feature_importances_\n",
    "sorted_idx = np.argsort(feature_importance)\n",
    "fig = plt.figure(figsize=(12, 6))\n",
    "plt.barh(range(len(sorted_idx)), feature_importance[sorted_idx], align='center')\n",
    "plt.yticks(range(len(sorted_idx)), np.array(model.feature_names_in_)[sorted_idx])\n",
    "plt.title('Важность признаков')\n",
    "plt.xlabel('важность')\n",
    "plt.ylabel('признаки')\n",
    "plt.show()"
   ]
  },
  {
   "cell_type": "markdown",
   "id": "622bd50f",
   "metadata": {},
   "source": [
    "Наиболее важными факторами риска ДТП являются:\n",
    "* дополнительные участники ДТП;\n",
    "* трезвость водителя;\n",
    "* состояние водителя."
   ]
  },
  {
   "cell_type": "markdown",
   "id": "260a135f",
   "metadata": {},
   "source": [
    "### Дополнительное исследование фактора ДТП"
   ]
  },
  {
   "cell_type": "code",
   "execution_count": 113,
   "id": "1ffbc67e",
   "metadata": {},
   "outputs": [],
   "source": [
    "df_group = df[['motor_vehicle_involved_with', 'at_fault']].groupby('motor_vehicle_involved_with').mean().sort_values('at_fault', ascending=False)"
   ]
  },
  {
   "cell_type": "code",
   "execution_count": 114,
   "id": "cc60c47d",
   "metadata": {},
   "outputs": [
    {
     "data": {
      "image/png": "[encoded data removed]",
      "text/plain": [
       "<Figure size 1000x500 with 1 Axes>"
      ]
     },
     "metadata": {},
     "output_type": "display_data"
    }
   ],
   "source": [
    "plt.figure(figsize=(10,5))\n",
    "sns.barplot(x=df_group.index, y=df_group['at_fault'])\n",
    "plt.title('зависимость вины водителя от участников ДТП')\n",
    "plt.xlabel('Участники ДТП')\n",
    "plt.ylabel('доля виновных водителей')\n",
    "plt.show()"
   ]
  },
  {
   "cell_type": "markdown",
   "id": "f85f7611",
   "metadata": {},
   "source": [
    "Наболее частые участники ДТП с виной водителя:\n",
    "* припаркованный автомобиль;\n",
    "* неподвижный объект;\n",
    "* не столкновение.\n",
    "\n",
    "Можно сделать вывод, что большинство ДТП с виной водителя происходит при парковке. Для уменьшения риска предлагается  оборудовать автомобили звуковым сигналом близкости или задней камерой для более безопасной парковки."
   ]
  },
  {
   "cell_type": "markdown",
   "id": "cb2d0212",
   "metadata": {},
   "source": [
    "## Выводы"
   ]
  },
  {
   "cell_type": "markdown",
   "id": "aadac93f",
   "metadata": {},
   "source": [
    "Разработанная модель на основе XGBoost имеет достаточно высокую точность и среднюю полноту. В связи с этим, её использование несет низкое количество ложноположительных результатов. Исползование данной модели оправдано, если необходима уверенность в виновности водителя. \n",
    "\n",
    "Одним из основных и легко оценивающихся факторов ДТП является трезвость водителя. Если создать возможность его учёта, возможен адекватный рассчёт риска ДТП. Также, стоит обратить внимание на добавление инструментов увеличения безопасности парковки.\n",
    "\n",
    "Для улучшения работы моделей рекомендуется собрать дополнительные данные о поездке:\n",
    "* её длительнось;\n",
    "* планируемое и проеханное расстояние. "
   ]
  }
 ],
 "metadata": {
  "kernelspec": {
   "display_name": "Python 3 (ipykernel)",
   "language": "python",
   "name": "python3"
  },
  "language_info": {
   "codemirror_mode": {
    "name": "ipython",
    "version": 3
   },
   "file_extension": ".py",
   "mimetype": "text/x-python",
   "name": "python",
   "nbconvert_exporter": "python",
   "pygments_lexer": "ipython3",
   "version": "3.11.5"
  },
  "toc": {
   "base_numbering": 1,
   "nav_menu": {},
   "number_sections": true,
   "sideBar": true,
   "skip_h1_title": false,
   "title_cell": "Table of Contents",
   "title_sidebar": "Contents",
   "toc_cell": false,
   "toc_position": {},
   "toc_section_display": true,
   "toc_window_display": false
  }
 },
 "nbformat": 4,
 "nbformat_minor": 5
}
