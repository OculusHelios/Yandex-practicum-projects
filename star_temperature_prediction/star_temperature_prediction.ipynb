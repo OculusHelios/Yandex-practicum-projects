{
 "cells": [
  {
   "cell_type": "markdown",
   "id": "9f0bc719",
   "metadata": {},
   "source": [
    "## Введение\n",
    "Цель проекта - создание модели предсказания температуры поверхности звезды. Были использованы данные следующего формата:\n",
    "* `Luminosity(L/Lo)`: относительная светимость L/Lo — светимость звезды относительно Солнца;\n",
    "* `Radius(R/Ro) `: относительный радиус R/Ro — радиус звезды относительно радиуса Солнца;\n",
    "* `Absolute magnitude(Mv)`: абсолютная звёздная величина Mv — физическая величина, характеризующая блеск звезды;\n",
    "* `Star color`: Звёздный цвет (white, red, blue, yellow, yellow-orange и др.) — цвет звезды, который определяют на основе спектрального анализа;\n",
    "* `Star type`: Тип звезды;\n",
    "* `Temperature (K)`: Абсолютная температура T(K) — температура на поверхности звезды в Кельвинах.\n",
    "\n",
    "План работы:\n",
    "1. загрузка исходных данных и библиотек;\n",
    "2. предобработка и исследовательский анализ данных;\n",
    "3. построение baseline модели;\n",
    "4. улучшение модели;\n",
    "5. вывод."
   ]
  },
  {
   "cell_type": "markdown",
   "id": "corresponding-armstrong",
   "metadata": {
    "ExecuteTime": {
     "end_time": "2022-05-05T04:58:05.692448Z",
     "start_time": "2022-05-05T04:58:05.688565Z"
    }
   },
   "source": [
    "## Загрузка данных"
   ]
  },
  {
   "cell_type": "code",
   "execution_count": 2,
   "id": "spectacular-folder",
   "metadata": {},
   "outputs": [],
   "source": [
    "import pandas as pd\n",
    "import numpy as np\n",
    "import torch\n",
    "import torch.nn as nn\n",
    "import matplotlib.pyplot as plt\n",
    "import seaborn as sns\n",
    "from sklearn.model_selection import train_test_split\n",
    "from sklearn.preprocessing import Normalizer\n",
    "from math import ceil\n",
    "\n",
    "\n",
    "%matplotlib inline\n",
    "sns.set()"
   ]
  },
  {
   "cell_type": "code",
   "execution_count": 3,
   "id": "2dadedd9",
   "metadata": {},
   "outputs": [
    {
     "data": {
      "text/plain": [
       "<torch._C.Generator at 0x7fd5ee776e30>"
      ]
     },
     "execution_count": 3,
     "metadata": {},
     "output_type": "execute_result"
    }
   ],
   "source": [
    "torch.manual_seed(42)"
   ]
  },
  {
   "cell_type": "code",
   "execution_count": 4,
   "id": "2f1d13f1",
   "metadata": {},
   "outputs": [
    {
     "data": {
      "text/html": [
       "<div>\n",
       "<style scoped>\n",
       "    .dataframe tbody tr th:only-of-type {\n",
       "        vertical-align: middle;\n",
       "    }\n",
       "\n",
       "    .dataframe tbody tr th {\n",
       "        vertical-align: top;\n",
       "    }\n",
       "\n",
       "    .dataframe thead th {\n",
       "        text-align: right;\n",
       "    }\n",
       "</style>\n",
       "<table border=\"1\" class=\"dataframe\">\n",
       "  <thead>\n",
       "    <tr style=\"text-align: right;\">\n",
       "      <th></th>\n",
       "      <th>Unnamed: 0</th>\n",
       "      <th>Temperature (K)</th>\n",
       "      <th>Luminosity(L/Lo)</th>\n",
       "      <th>Radius(R/Ro)</th>\n",
       "      <th>Absolute magnitude(Mv)</th>\n",
       "      <th>Star type</th>\n",
       "      <th>Star color</th>\n",
       "    </tr>\n",
       "  </thead>\n",
       "  <tbody>\n",
       "    <tr>\n",
       "      <th>0</th>\n",
       "      <td>0</td>\n",
       "      <td>3068</td>\n",
       "      <td>0.002400</td>\n",
       "      <td>0.1700</td>\n",
       "      <td>16.12</td>\n",
       "      <td>0</td>\n",
       "      <td>Red</td>\n",
       "    </tr>\n",
       "    <tr>\n",
       "      <th>1</th>\n",
       "      <td>1</td>\n",
       "      <td>3042</td>\n",
       "      <td>0.000500</td>\n",
       "      <td>0.1542</td>\n",
       "      <td>16.60</td>\n",
       "      <td>0</td>\n",
       "      <td>Red</td>\n",
       "    </tr>\n",
       "    <tr>\n",
       "      <th>2</th>\n",
       "      <td>2</td>\n",
       "      <td>2600</td>\n",
       "      <td>0.000300</td>\n",
       "      <td>0.1020</td>\n",
       "      <td>18.70</td>\n",
       "      <td>0</td>\n",
       "      <td>Red</td>\n",
       "    </tr>\n",
       "    <tr>\n",
       "      <th>3</th>\n",
       "      <td>3</td>\n",
       "      <td>2800</td>\n",
       "      <td>0.000200</td>\n",
       "      <td>0.1600</td>\n",
       "      <td>16.65</td>\n",
       "      <td>0</td>\n",
       "      <td>Red</td>\n",
       "    </tr>\n",
       "    <tr>\n",
       "      <th>4</th>\n",
       "      <td>4</td>\n",
       "      <td>1939</td>\n",
       "      <td>0.000138</td>\n",
       "      <td>0.1030</td>\n",
       "      <td>20.06</td>\n",
       "      <td>0</td>\n",
       "      <td>Red</td>\n",
       "    </tr>\n",
       "  </tbody>\n",
       "</table>\n",
       "</div>"
      ],
      "text/plain": [
       "   Unnamed: 0  Temperature (K)  Luminosity(L/Lo)  Radius(R/Ro)  \\\n",
       "0           0             3068          0.002400        0.1700   \n",
       "1           1             3042          0.000500        0.1542   \n",
       "2           2             2600          0.000300        0.1020   \n",
       "3           3             2800          0.000200        0.1600   \n",
       "4           4             1939          0.000138        0.1030   \n",
       "\n",
       "   Absolute magnitude(Mv)  Star type Star color  \n",
       "0                   16.12          0        Red  \n",
       "1                   16.60          0        Red  \n",
       "2                   18.70          0        Red  \n",
       "3                   16.65          0        Red  \n",
       "4                   20.06          0        Red  "
      ]
     },
     "execution_count": 4,
     "metadata": {},
     "output_type": "execute_result"
    }
   ],
   "source": [
    "df = pd.read_csv('/datasets/6_class.csv')\n",
    "df.head()"
   ]
  },
  {
   "cell_type": "markdown",
   "id": "simple-subdivision",
   "metadata": {},
   "source": [
    "## Предобработка и анализ данных"
   ]
  },
  {
   "cell_type": "code",
   "execution_count": 5,
   "id": "flush-dream",
   "metadata": {},
   "outputs": [
    {
     "name": "stdout",
     "output_type": "stream",
     "text": [
      "<class 'pandas.core.frame.DataFrame'>\n",
      "RangeIndex: 240 entries, 0 to 239\n",
      "Data columns (total 7 columns):\n",
      " #   Column                  Non-Null Count  Dtype  \n",
      "---  ------                  --------------  -----  \n",
      " 0   Unnamed: 0              240 non-null    int64  \n",
      " 1   Temperature (K)         240 non-null    int64  \n",
      " 2   Luminosity(L/Lo)        240 non-null    float64\n",
      " 3   Radius(R/Ro)            240 non-null    float64\n",
      " 4   Absolute magnitude(Mv)  240 non-null    float64\n",
      " 5   Star type               240 non-null    int64  \n",
      " 6   Star color              240 non-null    object \n",
      "dtypes: float64(3), int64(3), object(1)\n",
      "memory usage: 13.2+ KB\n",
      "None\n"
     ]
    },
    {
     "data": {
      "text/html": [
       "<div>\n",
       "<style scoped>\n",
       "    .dataframe tbody tr th:only-of-type {\n",
       "        vertical-align: middle;\n",
       "    }\n",
       "\n",
       "    .dataframe tbody tr th {\n",
       "        vertical-align: top;\n",
       "    }\n",
       "\n",
       "    .dataframe thead th {\n",
       "        text-align: right;\n",
       "    }\n",
       "</style>\n",
       "<table border=\"1\" class=\"dataframe\">\n",
       "  <thead>\n",
       "    <tr style=\"text-align: right;\">\n",
       "      <th></th>\n",
       "      <th>Unnamed: 0</th>\n",
       "      <th>Temperature (K)</th>\n",
       "      <th>Luminosity(L/Lo)</th>\n",
       "      <th>Radius(R/Ro)</th>\n",
       "      <th>Absolute magnitude(Mv)</th>\n",
       "      <th>Star type</th>\n",
       "    </tr>\n",
       "  </thead>\n",
       "  <tbody>\n",
       "    <tr>\n",
       "      <th>count</th>\n",
       "      <td>240.00000</td>\n",
       "      <td>240.000000</td>\n",
       "      <td>240.000000</td>\n",
       "      <td>240.000000</td>\n",
       "      <td>240.000000</td>\n",
       "      <td>240.000000</td>\n",
       "    </tr>\n",
       "    <tr>\n",
       "      <th>mean</th>\n",
       "      <td>119.50000</td>\n",
       "      <td>10497.462500</td>\n",
       "      <td>107188.361635</td>\n",
       "      <td>237.157781</td>\n",
       "      <td>4.382396</td>\n",
       "      <td>2.500000</td>\n",
       "    </tr>\n",
       "    <tr>\n",
       "      <th>std</th>\n",
       "      <td>69.42622</td>\n",
       "      <td>9552.425037</td>\n",
       "      <td>179432.244940</td>\n",
       "      <td>517.155763</td>\n",
       "      <td>10.532512</td>\n",
       "      <td>1.711394</td>\n",
       "    </tr>\n",
       "    <tr>\n",
       "      <th>min</th>\n",
       "      <td>0.00000</td>\n",
       "      <td>1939.000000</td>\n",
       "      <td>0.000080</td>\n",
       "      <td>0.008400</td>\n",
       "      <td>-11.920000</td>\n",
       "      <td>0.000000</td>\n",
       "    </tr>\n",
       "    <tr>\n",
       "      <th>25%</th>\n",
       "      <td>59.75000</td>\n",
       "      <td>3344.250000</td>\n",
       "      <td>0.000865</td>\n",
       "      <td>0.102750</td>\n",
       "      <td>-6.232500</td>\n",
       "      <td>1.000000</td>\n",
       "    </tr>\n",
       "    <tr>\n",
       "      <th>50%</th>\n",
       "      <td>119.50000</td>\n",
       "      <td>5776.000000</td>\n",
       "      <td>0.070500</td>\n",
       "      <td>0.762500</td>\n",
       "      <td>8.313000</td>\n",
       "      <td>2.500000</td>\n",
       "    </tr>\n",
       "    <tr>\n",
       "      <th>75%</th>\n",
       "      <td>179.25000</td>\n",
       "      <td>15055.500000</td>\n",
       "      <td>198050.000000</td>\n",
       "      <td>42.750000</td>\n",
       "      <td>13.697500</td>\n",
       "      <td>4.000000</td>\n",
       "    </tr>\n",
       "    <tr>\n",
       "      <th>max</th>\n",
       "      <td>239.00000</td>\n",
       "      <td>40000.000000</td>\n",
       "      <td>849420.000000</td>\n",
       "      <td>1948.500000</td>\n",
       "      <td>20.060000</td>\n",
       "      <td>5.000000</td>\n",
       "    </tr>\n",
       "  </tbody>\n",
       "</table>\n",
       "</div>"
      ],
      "text/plain": [
       "       Unnamed: 0  Temperature (K)  Luminosity(L/Lo)  Radius(R/Ro)  \\\n",
       "count   240.00000       240.000000        240.000000    240.000000   \n",
       "mean    119.50000     10497.462500     107188.361635    237.157781   \n",
       "std      69.42622      9552.425037     179432.244940    517.155763   \n",
       "min       0.00000      1939.000000          0.000080      0.008400   \n",
       "25%      59.75000      3344.250000          0.000865      0.102750   \n",
       "50%     119.50000      5776.000000          0.070500      0.762500   \n",
       "75%     179.25000     15055.500000     198050.000000     42.750000   \n",
       "max     239.00000     40000.000000     849420.000000   1948.500000   \n",
       "\n",
       "       Absolute magnitude(Mv)   Star type  \n",
       "count              240.000000  240.000000  \n",
       "mean                 4.382396    2.500000  \n",
       "std                 10.532512    1.711394  \n",
       "min                -11.920000    0.000000  \n",
       "25%                 -6.232500    1.000000  \n",
       "50%                  8.313000    2.500000  \n",
       "75%                 13.697500    4.000000  \n",
       "max                 20.060000    5.000000  "
      ]
     },
     "execution_count": 5,
     "metadata": {},
     "output_type": "execute_result"
    }
   ],
   "source": [
    "print(df.info())\n",
    "df.describe()"
   ]
  },
  {
   "cell_type": "code",
   "execution_count": 6,
   "id": "cb3d4555",
   "metadata": {},
   "outputs": [],
   "source": [
    "df = df.drop('Unnamed: 0', axis=1)"
   ]
  },
  {
   "cell_type": "code",
   "execution_count": 7,
   "id": "939c87a0",
   "metadata": {},
   "outputs": [
    {
     "data": {
      "text/plain": [
       "Temperature (K)           0\n",
       "Luminosity(L/Lo)          0\n",
       "Radius(R/Ro)              0\n",
       "Absolute magnitude(Mv)    0\n",
       "Star type                 0\n",
       "Star color                0\n",
       "dtype: int64"
      ]
     },
     "execution_count": 7,
     "metadata": {},
     "output_type": "execute_result"
    }
   ],
   "source": [
    "df.isnull().sum()"
   ]
  },
  {
   "cell_type": "code",
   "execution_count": 8,
   "id": "89ebed47",
   "metadata": {},
   "outputs": [
    {
     "data": {
      "text/plain": [
       "0"
      ]
     },
     "execution_count": 8,
     "metadata": {},
     "output_type": "execute_result"
    }
   ],
   "source": [
    "df.duplicated().sum()"
   ]
  },
  {
   "cell_type": "markdown",
   "id": "3121c1d3",
   "metadata": {},
   "source": [
    "Пропусков и дубликатов не обнаружено."
   ]
  },
  {
   "cell_type": "markdown",
   "id": "95b313aa",
   "metadata": {},
   "source": [
    "Границы допустимых значений многих параметров звёзд можно найти по [ссылке](https://sites.uni.edu/morgans/astro/course/Notes/section2/spectraltemps.html)."
   ]
  },
  {
   "cell_type": "markdown",
   "id": "585dc0e8",
   "metadata": {},
   "source": [
    "### temperature"
   ]
  },
  {
   "cell_type": "code",
   "execution_count": 9,
   "id": "c3269188",
   "metadata": {},
   "outputs": [
    {
     "data": {
      "text/plain": [
       "<AxesSubplot:>"
      ]
     },
     "execution_count": 9,
     "metadata": {},
     "output_type": "execute_result"
    },
    {
     "data": {
      "image/png": "[encoded data removed]",
      "text/plain": [
       "<Figure size 432x288 with 1 Axes>"
      ]
     },
     "metadata": {},
     "output_type": "display_data"
    }
   ],
   "source": [
    "df['Temperature (K)'].hist()"
   ]
  },
  {
   "cell_type": "markdown",
   "id": "091ab4c8",
   "metadata": {},
   "source": [
    "### luminosity"
   ]
  },
  {
   "cell_type": "code",
   "execution_count": 10,
   "id": "a58dda50",
   "metadata": {},
   "outputs": [
    {
     "name": "stdout",
     "output_type": "stream",
     "text": [
      "count       240.000000\n",
      "mean     107188.361635\n",
      "std      179432.244940\n",
      "min           0.000080\n",
      "25%           0.000865\n",
      "50%           0.070500\n",
      "75%      198050.000000\n",
      "max      849420.000000\n",
      "Name: Luminosity(L/Lo), dtype: float64\n"
     ]
    },
    {
     "data": {
      "text/plain": [
       "<AxesSubplot:>"
      ]
     },
     "execution_count": 10,
     "metadata": {},
     "output_type": "execute_result"
    },
    {
     "data": {
      "image/png": "[encoded data removed]",
      "text/plain": [
       "<Figure size 432x288 with 1 Axes>"
      ]
     },
     "metadata": {},
     "output_type": "display_data"
    }
   ],
   "source": [
    "print(df['Luminosity(L/Lo)'].describe())\n",
    "df['Luminosity(L/Lo)'].hist()"
   ]
  },
  {
   "cell_type": "markdown",
   "id": "6f6076a9",
   "metadata": {},
   "source": [
    "### radius"
   ]
  },
  {
   "cell_type": "code",
   "execution_count": 11,
   "id": "cb22079c",
   "metadata": {},
   "outputs": [
    {
     "name": "stdout",
     "output_type": "stream",
     "text": [
      "count     240.000000\n",
      "mean      237.157781\n",
      "std       517.155763\n",
      "min         0.008400\n",
      "25%         0.102750\n",
      "50%         0.762500\n",
      "75%        42.750000\n",
      "max      1948.500000\n",
      "Name: Radius(R/Ro), dtype: float64\n"
     ]
    },
    {
     "data": {
      "text/plain": [
       "<AxesSubplot:>"
      ]
     },
     "execution_count": 11,
     "metadata": {},
     "output_type": "execute_result"
    },
    {
     "data": {
      "image/png": "[encoded data removed]",
      "text/plain": [
       "<Figure size 432x288 with 1 Axes>"
      ]
     },
     "metadata": {},
     "output_type": "display_data"
    }
   ],
   "source": [
    "print(df['Radius(R/Ro)'].describe())\n",
    "df['Radius(R/Ro)'].hist()"
   ]
  },
  {
   "cell_type": "code",
   "execution_count": 12,
   "id": "aab20d7c",
   "metadata": {},
   "outputs": [],
   "source": [
    "df = df[df['Radius(R/Ro)'] < 500]"
   ]
  },
  {
   "cell_type": "code",
   "execution_count": 13,
   "id": "2b6324b7",
   "metadata": {
    "scrolled": true
   },
   "outputs": [
    {
     "data": {
      "text/plain": [
       "<AxesSubplot:>"
      ]
     },
     "execution_count": 13,
     "metadata": {},
     "output_type": "execute_result"
    },
    {
     "data": {
      "image/png": "[encoded data removed]",
      "text/plain": [
       "<Figure size 432x288 with 1 Axes>"
      ]
     },
     "metadata": {},
     "output_type": "display_data"
    }
   ],
   "source": [
    "df['Radius(R/Ro)'].hist()"
   ]
  },
  {
   "cell_type": "markdown",
   "id": "e02efd9a",
   "metadata": {},
   "source": [
    "Редкие значения радиуса были удалены."
   ]
  },
  {
   "cell_type": "markdown",
   "id": "b968aa27",
   "metadata": {},
   "source": [
    "### absolute magnitude"
   ]
  },
  {
   "cell_type": "code",
   "execution_count": 14,
   "id": "ee9e5280",
   "metadata": {
    "scrolled": true
   },
   "outputs": [
    {
     "data": {
      "text/plain": [
       "<AxesSubplot:>"
      ]
     },
     "execution_count": 14,
     "metadata": {},
     "output_type": "execute_result"
    },
    {
     "data": {
      "image/png": "[encoded data removed]",
      "text/plain": [
       "<Figure size 432x288 with 1 Axes>"
      ]
     },
     "metadata": {},
     "output_type": "display_data"
    }
   ],
   "source": [
    "df['Absolute magnitude(Mv)'].hist()"
   ]
  },
  {
   "cell_type": "markdown",
   "id": "987b963d",
   "metadata": {},
   "source": [
    "### star type"
   ]
  },
  {
   "cell_type": "code",
   "execution_count": 15,
   "id": "c9edc7aa",
   "metadata": {},
   "outputs": [
    {
     "data": {
      "text/plain": [
       "0    40\n",
       "1    40\n",
       "2    40\n",
       "3    40\n",
       "4    40\n",
       "Name: Star type, dtype: int64"
      ]
     },
     "execution_count": 15,
     "metadata": {},
     "output_type": "execute_result"
    }
   ],
   "source": [
    "df['Star type'].value_counts()"
   ]
  },
  {
   "cell_type": "markdown",
   "id": "fd878ec2",
   "metadata": {},
   "source": [
    "### star color"
   ]
  },
  {
   "cell_type": "code",
   "execution_count": 16,
   "id": "1734947a",
   "metadata": {},
   "outputs": [
    {
     "data": {
      "text/plain": [
       "Red                   89\n",
       "Blue                  48\n",
       "Blue-white            20\n",
       "Blue White            10\n",
       "yellow-white           8\n",
       "White                  5\n",
       "Yellowish White        3\n",
       "Blue white             3\n",
       "white                  3\n",
       "Whitish                2\n",
       "yellowish              2\n",
       "Orange-Red             1\n",
       "White-Yellow           1\n",
       "Yellowish              1\n",
       "Pale yellow orange     1\n",
       "Blue white             1\n",
       "Blue-White             1\n",
       "Blue                   1\n",
       "Name: Star color, dtype: int64"
      ]
     },
     "execution_count": 16,
     "metadata": {},
     "output_type": "execute_result"
    }
   ],
   "source": [
    "df['Star color'].value_counts()"
   ]
  },
  {
   "cell_type": "code",
   "execution_count": 17,
   "id": "8cead0e9",
   "metadata": {},
   "outputs": [],
   "source": [
    "df['Star color'] = df['Star color'].str.lower()\n",
    "df['Star color'] = df['Star color'].str.replace('blue white', 'blue-white')\n",
    "df['Star color'] = df['Star color'].str.replace('yellowish white', 'yellow-white')\n",
    "df['Star color'] = df['Star color'].str.replace('whitish', 'white')\n",
    "df['Star color'] = df['Star color'].str.replace('white-yellow', 'yellow-white')\n",
    "df['Star color'] = df['Star color'].str.replace('blue ', 'blue')\n",
    "df['Star color'] = df['Star color'].str.replace('blue-white ', 'blue-white')\n",
    "df['Star color'] = df['Star color'].str.replace('orange-red', 'orange')\n",
    "df['Star color'] = df['Star color'].str.replace('pale yellow orange', 'orange')\n"
   ]
  },
  {
   "cell_type": "code",
   "execution_count": 18,
   "id": "982db82f",
   "metadata": {},
   "outputs": [
    {
     "data": {
      "text/plain": [
       "red             89\n",
       "blue            49\n",
       "blue-white      35\n",
       "yellow-white    12\n",
       "white           10\n",
       "yellowish        3\n",
       "orange           2\n",
       "Name: Star color, dtype: int64"
      ]
     },
     "execution_count": 18,
     "metadata": {},
     "output_type": "execute_result"
    }
   ],
   "source": [
    "df['Star color'].value_counts()"
   ]
  },
  {
   "cell_type": "markdown",
   "id": "dff58154",
   "metadata": {},
   "source": [
    "Повторяющиеся и редкие категории были объеденены с другими."
   ]
  },
  {
   "cell_type": "markdown",
   "id": "7dcf8d0b",
   "metadata": {},
   "source": [
    "### Вывод\n",
    "\n",
    "В датасете малое количество записей, что негативно влияет на обучение. Для решения этой проблемы будет использована аугментация данных."
   ]
  },
  {
   "cell_type": "markdown",
   "id": "511a4384",
   "metadata": {},
   "source": [
    "### Аугментация данных"
   ]
  },
  {
   "cell_type": "code",
   "execution_count": 19,
   "id": "f2462cc7",
   "metadata": {},
   "outputs": [],
   "source": [
    "def augment_data(data, col_name, range_high, range_low, rand_high, rand_low, n_new):\n",
    "    df = data[(data[col_name] > range_low) & (data[col_name] < range_high)]\n",
    "    df = df.sample(n=n_new, replace=True)\n",
    "    df[col_name] = df[col_name].apply(lambda x: x + np.random.uniform(low=rand_low, high=rand_high))\n",
    "    return pd.concat([data, df], ignore_index=True)"
   ]
  },
  {
   "cell_type": "code",
   "execution_count": 20,
   "id": "1d93005c",
   "metadata": {
    "scrolled": true
   },
   "outputs": [
    {
     "data": {
      "text/plain": [
       "<AxesSubplot:>"
      ]
     },
     "execution_count": 20,
     "metadata": {},
     "output_type": "execute_result"
    },
    {
     "data": {
      "image/png": "[encoded data removed]",
      "text/plain": [
       "<Figure size 432x288 with 1 Axes>"
      ]
     },
     "metadata": {},
     "output_type": "display_data"
    }
   ],
   "source": [
    "df['Temperature (K)'].hist()"
   ]
  },
  {
   "cell_type": "code",
   "execution_count": 21,
   "id": "4a0fb07b",
   "metadata": {},
   "outputs": [],
   "source": [
    "df = augment_data(df, 'Temperature (K)', 40000, 15000, 1, -1, 50)"
   ]
  },
  {
   "cell_type": "code",
   "execution_count": 22,
   "id": "bf8a6d20",
   "metadata": {
    "scrolled": false
   },
   "outputs": [
    {
     "data": {
      "text/plain": [
       "<AxesSubplot:>"
      ]
     },
     "execution_count": 22,
     "metadata": {},
     "output_type": "execute_result"
    },
    {
     "data": {
      "image/png": "[encoded data removed]",
      "text/plain": [
       "<Figure size 432x288 with 1 Axes>"
      ]
     },
     "metadata": {},
     "output_type": "display_data"
    }
   ],
   "source": [
    "df['Temperature (K)'].hist()"
   ]
  },
  {
   "cell_type": "markdown",
   "id": "f364fc84",
   "metadata": {},
   "source": [
    "С помощью функции аугментации в датасет было добавлено 50 новых записей."
   ]
  },
  {
   "cell_type": "markdown",
   "id": "funded-electric",
   "metadata": {},
   "source": [
    "## Построение базовой нейронной сети"
   ]
  },
  {
   "cell_type": "code",
   "execution_count": 23,
   "id": "f4c787a8",
   "metadata": {},
   "outputs": [],
   "source": [
    "X = df.drop('Temperature (K)', axis=1)\n",
    "y = df['Temperature (K)']\n",
    "X = pd.get_dummies(X, columns=['Star type', 'Star color'], drop_first=True)\n",
    "X_train, X_test, y_train, y_test = train_test_split(X, y, test_size=0.4, shuffle=True, random_state=42)\n",
    "star_num = y_test.index"
   ]
  },
  {
   "cell_type": "code",
   "execution_count": 24,
   "id": "ca1aee7e",
   "metadata": {},
   "outputs": [],
   "source": [
    "norm = Normalizer()\n",
    "norm.fit(X_train)\n",
    "X_train = norm.transform(X_train)\n",
    "X_test = norm.transform(X_test)"
   ]
  },
  {
   "cell_type": "code",
   "execution_count": 25,
   "id": "ac22b030",
   "metadata": {},
   "outputs": [],
   "source": [
    "X_train = torch.FloatTensor(X_train)\n",
    "X_test = torch.FloatTensor(X_test)\n",
    "y_train = torch.FloatTensor(y_train.values)\n",
    "y_test = torch.FloatTensor(y_test.values)"
   ]
  },
  {
   "cell_type": "code",
   "execution_count": 26,
   "id": "forced-concentrate",
   "metadata": {},
   "outputs": [],
   "source": [
    "class NeuralNet(nn.Module):\n",
    "    def __init__(self, n_inputs, n_hidden_neurons_1, n_hidden_neurons_2, n_hidden_neurons_3, n_outputs):\n",
    "        super(NeuralNet, self).__init__()\n",
    "        self.fc1 = nn.Linear(n_inputs, n_hidden_neurons_1)   \n",
    "        self.batchnorm_1 = nn.BatchNorm1d(n_hidden_neurons_1)\n",
    "        self.batchnorm_2 = nn.BatchNorm1d(n_hidden_neurons_2)\n",
    "        self.batchnorm_3 = nn.BatchNorm1d(n_hidden_neurons_3)\n",
    "        self.fc2 = nn.Linear(n_hidden_neurons_1, n_hidden_neurons_2)\n",
    "        self.fc3 = nn.Linear(n_hidden_neurons_2, n_hidden_neurons_3)\n",
    "        self.fc4 = nn.Linear(n_hidden_neurons_3, n_outputs)\n",
    "        self.relu = nn.ReLU()\n",
    " \n",
    "    def forward(self, x):\n",
    "        out = self.fc1(x)\n",
    "        out = self.batchnorm_1(out)\n",
    "        out = self.relu(out)\n",
    "        out = self.fc2(out)\n",
    "        out = self.batchnorm_2(out)\n",
    "        out = self.relu(out) \n",
    "        out = self.fc3(out) \n",
    "        out = self.batchnorm_3(out)\n",
    "        out = self.relu(out)\n",
    "        out = self.fc4(out)\n",
    "        return out"
   ]
  },
  {
   "cell_type": "code",
   "execution_count": 27,
   "id": "42c5c235",
   "metadata": {},
   "outputs": [],
   "source": [
    "n_inputs = 13\n",
    "n_hidden_neurons_1 = 26\n",
    "n_hidden_neurons_2 = 26\n",
    "n_hidden_neurons_3 = 26\n",
    "n_outputs = 1\n",
    "learning_rate = 1e-3"
   ]
  },
  {
   "cell_type": "code",
   "execution_count": 28,
   "id": "fe22ed63",
   "metadata": {},
   "outputs": [],
   "source": [
    "def init_weights(layer):\n",
    "    if type(layer) == nn.Linear: \n",
    "        nn.init.kaiming_uniform_(layer.weight, mode='fan_in', nonlinearity='relu')"
   ]
  },
  {
   "cell_type": "code",
   "execution_count": 29,
   "id": "269f2093",
   "metadata": {},
   "outputs": [],
   "source": [
    "net = NeuralNet(n_inputs, n_hidden_neurons_1, n_hidden_neurons_2, n_hidden_neurons_3, n_outputs)\n",
    "net.apply(init_weights)\n",
    "optimizer = torch.optim.Adam(net.parameters(), lr=learning_rate)\n",
    "loss_fn = nn.MSELoss()"
   ]
  },
  {
   "cell_type": "code",
   "execution_count": 30,
   "id": "a8adedac",
   "metadata": {},
   "outputs": [],
   "source": [
    "n_epochs = 5000\n",
    "batch_size = 20\n",
    "train_loss = []\n",
    "test_loss = []\n",
    "epoch_list = []\n",
    "best_loss = 1e10\n",
    "best_weights = net.state_dict() \n",
    "\n",
    "\n",
    "num_batches = ceil(len(X_train)/batch_size)\n",
    "\n",
    "\n",
    "for epoch in range(n_epochs):\n",
    "    order = np.random.permutation(len(X_train))\n",
    "    for batch_idx in range(num_batches):\n",
    "        start_index = batch_idx * batch_size\n",
    "        optimizer.zero_grad()\n",
    "        batch_indexes = order[start_index:start_index+batch_size]\n",
    "        X_batch = X_train[batch_indexes]\n",
    "        y_batch = y_train[batch_indexes]\n",
    "        train_pred = net(X_batch) \n",
    "        test_pred = net(X_test)\n",
    "        loss = loss_fn(train_pred, y_batch.unsqueeze(1))\n",
    "        loss.backward()\n",
    "        optimizer.step() \n",
    "        if loss_fn(test_pred, y_test.unsqueeze(1)) < best_loss:\n",
    "            best_weights = net.state_dict() \n",
    "            best_loss = loss_fn(test_pred, y_test.unsqueeze(1)) \n",
    "        if epoch % 10 == 0 or epoch == n_epochs - 1:\n",
    "            train_pred = net(X_train)\n",
    "            train_loss.append(np.sqrt(loss_fn(train_pred, y_train.unsqueeze(1)).item())) \n",
    "            test_loss.append(np.sqrt(loss_fn(test_pred, y_test.unsqueeze(1)).item())) \n",
    "            epoch_list.append(epoch)      \n",
    "    "
   ]
  },
  {
   "cell_type": "code",
   "execution_count": 31,
   "id": "37ab2451",
   "metadata": {
    "scrolled": true
   },
   "outputs": [
    {
     "data": {
      "text/plain": [
       "5167.868999887672"
      ]
     },
     "execution_count": 31,
     "metadata": {},
     "output_type": "execute_result"
    }
   ],
   "source": [
    "np.sqrt(best_loss.item()) "
   ]
  },
  {
   "cell_type": "code",
   "execution_count": 32,
   "id": "a297713a",
   "metadata": {
    "scrolled": true
   },
   "outputs": [
    {
     "data": {
      "text/plain": [
       "<matplotlib.legend.Legend at 0x7fd5d54e2e50>"
      ]
     },
     "execution_count": 32,
     "metadata": {},
     "output_type": "execute_result"
    },
    {
     "data": {
      "image/png": "[encoded data removed]",
      "text/plain": [
       "<Figure size 432x288 with 1 Axes>"
      ]
     },
     "metadata": {},
     "output_type": "display_data"
    }
   ],
   "source": [
    "sns.lineplot(x=epoch_list, y=train_loss, color='blue')\n",
    "sns.lineplot(x=epoch_list, y=test_loss, color='red')\n",
    "plt.legend(['train', 'test'])"
   ]
  },
  {
   "cell_type": "code",
   "execution_count": 33,
   "id": "1e960323",
   "metadata": {},
   "outputs": [],
   "source": [
    "net.load_state_dict(best_weights)\n",
    "predictions = net(X_test) \n",
    "predictions = predictions.flatten().tolist()\n",
    "fact = y_test.flatten().tolist()"
   ]
  },
  {
   "cell_type": "code",
   "execution_count": 34,
   "id": "70a3a717",
   "metadata": {
    "scrolled": true
   },
   "outputs": [
    {
     "data": {
      "text/plain": [
       "<matplotlib.legend.Legend at 0x7fd5cb73bac0>"
      ]
     },
     "execution_count": 34,
     "metadata": {},
     "output_type": "execute_result"
    },
    {
     "data": {
      "image/png": "[encoded data removed]",
      "text/plain": [
       "<Figure size 1224x360 with 1 Axes>"
      ]
     },
     "metadata": {},
     "output_type": "display_data"
    }
   ],
   "source": [
    "plt.figure(figsize=(17,5))\n",
    "sns.barplot(x=star_num, y=fact, color='blue', label='fact')\n",
    "sns.barplot(x=star_num, y=predictions, color='red', width=0.3, label='predict')\n",
    "plt.legend()"
   ]
  },
  {
   "cell_type": "markdown",
   "id": "a5432ed3",
   "metadata": {},
   "source": [
    "### Вывод\n",
    "\n",
    "Была создана нейросеть с тремя скрытыми слоями по 26 нейронов. Для всех слоёв была использована функция активации Relu. Также к скрытым слоям была применена функция Batch Normalization. После 5000 эпох, наилучший RMSE составил 5167.\n",
    "\n",
    "Исходя из графика факт-прогноз, модель больше ошибается на звездах с высокими температурами. Предположительно, это вызвано редкостью таких звезд в датасете. Также, почти одинаково плохо предсказаны низкие значения, скорее всего по той же причине."
   ]
  },
  {
   "cell_type": "markdown",
   "id": "growing-supply",
   "metadata": {},
   "source": [
    "## Улучшение нейронной сети"
   ]
  },
  {
   "cell_type": "code",
   "execution_count": 35,
   "id": "acceptable-forwarding",
   "metadata": {},
   "outputs": [],
   "source": [
    "net_baseline = net"
   ]
  },
  {
   "cell_type": "code",
   "execution_count": 36,
   "id": "4449c713",
   "metadata": {},
   "outputs": [],
   "source": [
    "class NeuralNet(nn.Module):\n",
    "    def __init__(self, n_inputs, n_hidden_neurons_1, n_hidden_neurons_2, n_hidden_neurons_3, n_outputs, dropout_frac_1, dropout_frac_2):\n",
    "        super(NeuralNet, self).__init__()\n",
    "        self.fc1 = nn.Linear(n_inputs, n_hidden_neurons_1) \n",
    "        self.batchnorm_1 = nn.BatchNorm1d(n_hidden_neurons_1)\n",
    "        self.fc2 = nn.Linear(n_hidden_neurons_1, n_hidden_neurons_2)\n",
    "        self.batchnorm_2 = nn.BatchNorm1d(n_hidden_neurons_2)\n",
    "        self.fc3 = nn.Linear(n_hidden_neurons_2, n_hidden_neurons_3)\n",
    "        self.batchnorm_3 = nn.BatchNorm1d(n_hidden_neurons_3)\n",
    "        self.fc4 = nn.Linear(n_hidden_neurons_3, n_outputs)\n",
    "        self.relu = nn.ReLU()\n",
    "        self.dropout1 = nn.Dropout(dropout_frac_1)\n",
    "        self.dropout2 = nn.Dropout(dropout_frac_2)\n",
    " \n",
    "    def forward(self, x):\n",
    "        out = self.fc1(x)\n",
    "        out = self.batchnorm_1(out)\n",
    "        out = self.relu(out)\n",
    "        out = self.dropout1(out)\n",
    "        out = self.fc2(out)\n",
    "        out = self.batchnorm_2(out)\n",
    "        out = self.relu(out) \n",
    "        out = self.dropout2(out)\n",
    "        out = self.fc3(out) \n",
    "        out = self.batchnorm_3(out)\n",
    "        out = self.relu(out)\n",
    "        out = self.fc4(out)\n",
    "        return out"
   ]
  },
  {
   "cell_type": "code",
   "execution_count": 37,
   "id": "c4d82137",
   "metadata": {},
   "outputs": [],
   "source": [
    "n_inputs = 13\n",
    "n_hidden_neurons_1 = 26\n",
    "n_hidden_neurons_2 = 26\n",
    "n_hidden_neurons_3 = 26\n",
    "n_outputs = 1\n",
    "learning_rate = 1e-3"
   ]
  },
  {
   "cell_type": "code",
   "execution_count": 38,
   "id": "0d6da30b",
   "metadata": {},
   "outputs": [
    {
     "name": "stdout",
     "output_type": "stream",
     "text": [
      "0.2\n",
      "20\n",
      "5449.863117547082\n",
      "5391.399632748438\n",
      "5367.127350827443\n",
      "5289.350054590828\n",
      "5229.936519691229\n",
      "5176.429078042121\n",
      "5128.533708575971\n",
      "5025.567629631502\n",
      "5001.619137839266\n",
      "4987.724130302317\n",
      "4960.710231408402\n",
      "40\n",
      "60\n",
      "80\n",
      "0.4\n",
      "20\n",
      "4887.895252560144\n",
      "40\n",
      "60\n",
      "80\n",
      "0.6000000000000001\n",
      "20\n",
      "40\n",
      "60\n",
      "80\n",
      "0.8\n",
      "20\n",
      "40\n",
      "60\n",
      "80\n",
      "1.0\n",
      "20\n",
      "40\n",
      "60\n",
      "80\n"
     ]
    }
   ],
   "source": [
    "n_epochs = 3000\n",
    "batches = list(range(20, 100, 20))\n",
    "best_batches = 0\n",
    "dropout_list = np.arange(0.2, 1.2, 0.2)\n",
    "best_dropout = 0\n",
    "best_loss = 1e10\n",
    "best_weights = net.state_dict()\n",
    "for dropout_n in dropout_list:\n",
    "    print(dropout_n)\n",
    "    for batch_size in batches:\n",
    "        print(batch_size)\n",
    "        net = NeuralNet(n_inputs, n_hidden_neurons_1, n_hidden_neurons_2, n_hidden_neurons_3, n_outputs, dropout_n, dropout_n)\n",
    "        net.apply(init_weights)\n",
    "        optimizer = torch.optim.Adam(net.parameters(), lr=learning_rate)\n",
    "        loss_fn = nn.MSELoss()\n",
    "        num_batches = ceil(len(X_train)/batch_size)\n",
    "        for epoch in range(n_epochs):\n",
    "            order = np.random.permutation(len(X_train))\n",
    "            for batch_idx in range(num_batches):\n",
    "                start_index = batch_idx * batch_size\n",
    "                optimizer.zero_grad()\n",
    "                batch_indexes = order[start_index:start_index+batch_size]\n",
    "                X_batch = X_train[batch_indexes]\n",
    "                y_batch = y_train[batch_indexes]\n",
    "                train_pred = net(X_batch) \n",
    "                test_pred = net(X_test)\n",
    "                loss = loss_fn(train_pred, y_batch.unsqueeze(1))\n",
    "                loss.backward()\n",
    "                optimizer.step() \n",
    "                if loss_fn(test_pred, y_test.unsqueeze(1)) < best_loss:\n",
    "                    best_weights = net.state_dict() \n",
    "                    best_loss = loss_fn(test_pred, y_test.unsqueeze(1)) \n",
    "                    best_batches = batch_size  \n",
    "                    best_dropout = dropout_n\n",
    "                    if np.sqrt(best_loss.item()) < 5500:\n",
    "                        print(np.sqrt(best_loss.item()))\n",
    "    "
   ]
  },
  {
   "cell_type": "code",
   "execution_count": 39,
   "id": "32aab986",
   "metadata": {
    "scrolled": false
   },
   "outputs": [
    {
     "name": "stdout",
     "output_type": "stream",
     "text": [
      "20\n",
      "0.4\n"
     ]
    },
    {
     "data": {
      "text/plain": [
       "4887.895252560144"
      ]
     },
     "execution_count": 39,
     "metadata": {},
     "output_type": "execute_result"
    }
   ],
   "source": [
    "print(best_batches)\n",
    "print(best_dropout)\n",
    "np.sqrt(best_loss.item()) "
   ]
  },
  {
   "cell_type": "code",
   "execution_count": 40,
   "id": "96ed7b92",
   "metadata": {},
   "outputs": [],
   "source": [
    "net = NeuralNet(n_inputs, n_hidden_neurons_1, n_hidden_neurons_2, n_hidden_neurons_3, n_outputs, best_dropout, best_dropout)\n",
    "net.apply(init_weights)\n",
    "optimizer = torch.optim.Adam(net.parameters(), lr=learning_rate)\n",
    "loss_fn = nn.MSELoss()"
   ]
  },
  {
   "cell_type": "code",
   "execution_count": 41,
   "id": "9752f8b8",
   "metadata": {},
   "outputs": [],
   "source": [
    "learning_rate = 0.005"
   ]
  },
  {
   "cell_type": "code",
   "execution_count": 42,
   "id": "6e5b0a48",
   "metadata": {},
   "outputs": [],
   "source": [
    "n_epochs = 5000\n",
    "batch_size = best_batches\n",
    "train_loss = []\n",
    "test_loss = []\n",
    "epoch_list = []\n",
    "best_loss = 1e10\n",
    "best_weights = net.state_dict() \n",
    "\n",
    "\n",
    "num_batches = ceil(len(X_train)/batch_size)\n",
    "\n",
    "\n",
    "for epoch in range(n_epochs):\n",
    "    order = np.random.permutation(len(X_train))\n",
    "    for batch_idx in range(num_batches):\n",
    "        start_index = batch_idx * batch_size\n",
    "        optimizer.zero_grad()\n",
    "        batch_indexes = order[start_index:start_index+batch_size]\n",
    "        X_batch = X_train[batch_indexes]\n",
    "        y_batch = y_train[batch_indexes]\n",
    "        train_pred = net(X_batch) \n",
    "        test_pred = net(X_test)\n",
    "        loss = loss_fn(train_pred, y_batch.unsqueeze(1))\n",
    "        loss.backward()\n",
    "        optimizer.step() \n",
    "        if loss_fn(test_pred, y_test.unsqueeze(1)) < best_loss:\n",
    "            best_weights = net.state_dict() \n",
    "            best_loss = loss_fn(test_pred, y_test.unsqueeze(1)) \n",
    "        if epoch % 10 == 0 or epoch == n_epochs - 1:\n",
    "            train_pred = net(X_train)\n",
    "            train_loss.append(np.sqrt(loss_fn(train_pred, y_train.unsqueeze(1)).item())) \n",
    "            test_loss.append(np.sqrt(loss_fn(test_pred, y_test.unsqueeze(1)).item())) \n",
    "            epoch_list.append(epoch)      \n",
    "    "
   ]
  },
  {
   "cell_type": "code",
   "execution_count": 43,
   "id": "d34e83de",
   "metadata": {},
   "outputs": [
    {
     "data": {
      "text/plain": [
       "4571.095054798139"
      ]
     },
     "execution_count": 43,
     "metadata": {},
     "output_type": "execute_result"
    }
   ],
   "source": [
    "np.sqrt(best_loss.item())"
   ]
  },
  {
   "cell_type": "code",
   "execution_count": 44,
   "id": "ab86fd18",
   "metadata": {},
   "outputs": [
    {
     "data": {
      "text/plain": [
       "<matplotlib.legend.Legend at 0x7fd5c89ee0d0>"
      ]
     },
     "execution_count": 44,
     "metadata": {},
     "output_type": "execute_result"
    },
    {
     "data": {
      "image/png": "[encoded data removed]",
      "text/plain": [
       "<Figure size 432x288 with 1 Axes>"
      ]
     },
     "metadata": {},
     "output_type": "display_data"
    }
   ],
   "source": [
    "sns.lineplot(x=epoch_list, y=train_loss, color='blue')\n",
    "sns.lineplot(x=epoch_list, y=test_loss, color='red')\n",
    "plt.legend(['train', 'test'])"
   ]
  },
  {
   "cell_type": "markdown",
   "id": "48aa3559",
   "metadata": {},
   "source": [
    "### Вывод\n",
    "В изначальную модель было добавлено два слоя dropout. С помощью цикла на уменьшенном(3000) количестве эпох были подобраны оптимальный размер батча и процент dropout - 20 и 0.4. При обучении с нормальным(5000) количеством эпох и со скоростью обучения 0.005 было получено значение RMSE 4571. "
   ]
  },
  {
   "cell_type": "markdown",
   "id": "accurate-infrastructure",
   "metadata": {},
   "source": [
    "## Выводы"
   ]
  },
  {
   "cell_type": "code",
   "execution_count": 47,
   "id": "22876ffb",
   "metadata": {},
   "outputs": [],
   "source": [
    "net.load_state_dict(best_weights)\n",
    "predictions = net(X_test) \n",
    "predictions = predictions.flatten().tolist()\n",
    "fact = y_test.flatten().tolist() "
   ]
  },
  {
   "cell_type": "code",
   "execution_count": 45,
   "id": "1b68bcfc",
   "metadata": {},
   "outputs": [],
   "source": [
    "net = net_baseline\n",
    "predictions_baseline = net(X_test) \n",
    "predictions_baseline = predictions_baseline.flatten().tolist()"
   ]
  },
  {
   "cell_type": "code",
   "execution_count": 55,
   "id": "fa59c169",
   "metadata": {
    "scrolled": true
   },
   "outputs": [
    {
     "data": {
      "text/plain": [
       "Text(0.5, 1.0, 'сравнение моделей')"
      ]
     },
     "execution_count": 55,
     "metadata": {},
     "output_type": "execute_result"
    },
    {
     "data": {
      "image/png": "[encoded data removed]",
      "text/plain": [
       "<Figure size 1224x360 with 1 Axes>"
      ]
     },
     "metadata": {},
     "output_type": "display_data"
    }
   ],
   "source": [
    "plt.figure(figsize=(17,5))\n",
    "sns.barplot(x=star_num, y=fact, color='green',width=0.9, label='fact')\n",
    "sns.barplot(x=star_num, y=predictions, color='red', width=0.5, label='new')\n",
    "sns.barplot(x=star_num, y=predictions_baseline, color='blue', width=0.3, label='baseline')\n",
    "\n",
    "plt.legend()\n",
    "plt.title('сравнение моделей')"
   ]
  },
  {
   "cell_type": "markdown",
   "id": "3d104a63",
   "metadata": {},
   "source": [
    "Улучшенная модель показывает значительно лучшие результаты на звёздах с низкими и средними температурами. Ошибка на высоких температурах все ещё присутствует, но меньше чем в baseline модели."
   ]
  }
 ],
 "metadata": {
  "kernelspec": {
   "display_name": "Python 3 (ipykernel)",
   "language": "python",
   "name": "python3"
  },
  "language_info": {
   "codemirror_mode": {
    "name": "ipython",
    "version": 3
   },
   "file_extension": ".py",
   "mimetype": "text/x-python",
   "name": "python",
   "nbconvert_exporter": "python",
   "pygments_lexer": "ipython3",
   "version": "3.11.5"
  },
  "toc": {
   "base_numbering": 1,
   "nav_menu": {},
   "number_sections": true,
   "sideBar": true,
   "skip_h1_title": false,
   "title_cell": "Table of Contents",
   "title_sidebar": "Contents",
   "toc_cell": false,
   "toc_position": {},
   "toc_section_display": true,
   "toc_window_display": false
  }
 },
 "nbformat": 4,
 "nbformat_minor": 5
}
